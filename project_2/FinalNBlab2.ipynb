{
 "cells": [
  {
   "cell_type": "markdown",
   "metadata": {
    "id": "08c1029c-19c9-4edd-8a96-017f70d8ed39"
   },
   "source": [
    "# Project 2 \n",
    "\n",
    "Data cleaning, linear decision tree model, and vizualisations\n",
    "\n",
    "Authors: Nicole Blaustein, Lura Hayes, Jacqueline Chao, Ann Li, and Madelyn Khoury\n",
    "\n",
    "## Summary \n",
    "\n",
    "\n",
    "Our question involves predicting the likelihood of a stroke for patients based on their recorded attributes. These predictive variables include age, average glucose level, body mass index, marriage status, gender, presence of heart disease, presence of hypertension, location of residence, smoking status, type of work, and whether the patient has had a previous stroke. To predict the likelihood of stroke according to the provided data, we decided to create a linear decision tree. Since there are many factors included in the dataset, the prediction of stroke becomes a multifaceted problem. A decision tree with linear models at each node allows us to minimize generalizations in our prediction model, for there is not a fixed value at the end of each node. We began working this problem by cleaning the provided data. This involved dealing with missing values by converting them to Nans, windsorizing variables with outliers, scaling skewed variables, and converting categorical variables into one hot encoded variables. Then, we made a fixed decision tree based on the X and Y training data. Typically, a good max depth for a decision tree is  log_2(number of attributes). Since we have 22 attributes, we completed the tree at a max depth of 4. Finally, we ran a linear regression on the samples found at each node. \n",
    "\n",
    "Overall, the performance of our model is not ideal. The R2 is -2.69 and the RMSE is .415. This performance could be due to potential overfitting since there are many variables being used to predict the likelihood of stroke. There is also a possibility that the model is trying to convert nonlinear relationships into linear relationships to make predictions. We decided to carry on with this model for the sake of time. While there are some problems with our model, we have still found some useful information regarding the likelihood of stroke. The most significant finding is that older people are more likely to have a stroke. Patients older than 50 are predicted to have more strokes, and patients older than 90 have the highest potential for strokes. It was also found that people with an above average body mass index (higher than 25) are more likely to have a stroke. The following paper will examine in depth how we cleaned the data, produced our model, and used visualizations to look at key findings for the model. \n"
   ]
  },
  {
   "cell_type": "markdown",
   "metadata": {},
   "source": [
    "## Outline of Data Cleaning Process and Reading in Cleaned Data Sets \n",
    "\n",
    "We used the testing and training data provided to us by our professor. This data includes information about 5,910 different patients with 4,087 entries in the training data and 1,023 entries in the training data. \n",
    "\n",
    "The variables include: \n",
    "\n",
    "* age : Patient age, numeric\n",
    "* avg_glucose_level: Blood sugar levels, numeric\n",
    "* bmi : Body mass index, numeric \n",
    "* ever_married: Ever married, dummy/character (Yes, No) \n",
    "* gender: Male, Female, or Other, character \n",
    "* heart_disease: Has heart disease, dummy \n",
    "* hypertension: Has hypertension, dummy \n",
    "* id : Study identification number\n",
    "* Residence_type: Type of residence, dummy/character (Urban, Rural) \n",
    "* smoking_status: Former, never, or current smoker, categorical\n",
    "* work_type: Employment type (Never worked (Never_worked), homemaker (\"children\"), Public sector employment (Govt_job), Private sector employment (Private), Self-employed ( Self-employed ) \n",
    "* Stroke : Suffered a stroke in the sample period \n",
    "\n",
    "Reading and cleaning the data to prepare it for analysis was relatively straightforward. We began by converting the categorical variables into one hot encoded variables. This includes gender, ever_married, work_type, Residence_type, and smoking_status. This allows us to run linear models on variables without a numeric value. \n",
    "\n",
    "Then, we had to deal with missing values for bmi. We decided to create a dummy na column for bmi and convert all of the missing values to 0. The dummy column makes it clear which bmi values are missing (1). We used this approach because it is typically best for dealing with linear models. \n",
    "Next, we examined the numerical values for any outliers. Age had a box and whiskers plot without outliers, so we left it as it. However, bmi and avg_glucose_level contained many outliers that were above the maximum quartile. We windsorized both bmi and avg_glucose_level by computing the upper and lower whiskers of the plot using the IQR. Since bmi had a few missing values, we used np.nanpercentile to compute the 25 and 75 percentile ranges. This function computes the qth percentile of the data along the specified axis, while ignoring nan values. Afterwards, both variables had a standard box and whisker plot without outliers. \n",
    "\n",
    "The final step to cleaning this data was to look at the distribution of numerical variables to see if they needed transformation. BMI was very slightly skewed to the right. However, it was quite close to a normal distribution, so we left it as is. The histogram for avg_glucose_level was heavily skewed to the right, so it needed to be transformed. After attempting many log, sqrt, and arcsin transformations, we determined that a log transformation made the histogram appear the most evenly distributed. "
   ]
  },
  {
   "cell_type": "code",
   "execution_count": 1,
   "metadata": {
    "colab": {
     "base_uri": "https://localhost:8080/"
    },
    "id": "FxEiKTgQUry3",
    "outputId": "d1058d9f-517f-48c2-a819-8fdf453e4cce"
   },
   "outputs": [
    {
     "name": "stdout",
     "output_type": "stream",
     "text": [
      "fatal: destination path 'Group4' already exists and is not an empty directory.\n"
     ]
    }
   ],
   "source": [
    "!git clone https://github.com/DS3001/Group4.git"
   ]
  },
  {
   "cell_type": "code",
   "execution_count": 2,
   "metadata": {
    "id": "m1MPff0gUlTe"
   },
   "outputs": [],
   "source": [
    "import pandas as pd\n",
    "import numpy as np"
   ]
  },
  {
   "cell_type": "code",
   "execution_count": 3,
   "metadata": {
    "id": "2e54036f-f8be-4f4e-a122-870c06c52627"
   },
   "outputs": [],
   "source": [
    "try:\n",
    "    df_train = pd.read_csv('./Group4/project_2/data/cleaned_training_data.csv')\n",
    "    df_test = pd.read_csv('./Group4/project_2/data/cleaned_testing_data.csv')\n",
    "except:\n",
    "    df_train = pd.read_csv('data/cleaned_training_data.csv')\n",
    "    df_test = pd.read_csv('data/cleaned_testing_data.csv')"
   ]
  },
  {
   "cell_type": "code",
   "execution_count": 4,
   "metadata": {
    "colab": {
     "base_uri": "https://localhost:8080/",
     "height": 272
    },
    "id": "JxDTLbAxVHeU",
    "outputId": "28a71da5-3e33-4eb3-c7a8-ca6cce2920c3"
   },
   "outputs": [
    {
     "data": {
      "text/html": [
       "<div>\n",
       "<style scoped>\n",
       "    .dataframe tbody tr th:only-of-type {\n",
       "        vertical-align: middle;\n",
       "    }\n",
       "\n",
       "    .dataframe tbody tr th {\n",
       "        vertical-align: top;\n",
       "    }\n",
       "\n",
       "    .dataframe thead th {\n",
       "        text-align: right;\n",
       "    }\n",
       "</style>\n",
       "<table border=\"1\" class=\"dataframe\">\n",
       "  <thead>\n",
       "    <tr style=\"text-align: right;\">\n",
       "      <th></th>\n",
       "      <th>age</th>\n",
       "      <th>hypertension</th>\n",
       "      <th>heart_disease</th>\n",
       "      <th>avg_glucose_level</th>\n",
       "      <th>bmi</th>\n",
       "      <th>stroke</th>\n",
       "      <th>gender_Female</th>\n",
       "      <th>gender_Male</th>\n",
       "      <th>ever_married_No</th>\n",
       "      <th>ever_married_Yes</th>\n",
       "      <th>...</th>\n",
       "      <th>work_type_Self-employed</th>\n",
       "      <th>work_type_children</th>\n",
       "      <th>Residence_type_Rural</th>\n",
       "      <th>Residence_type_Urban</th>\n",
       "      <th>smoking_status_Unknown</th>\n",
       "      <th>smoking_status_formerly smoked</th>\n",
       "      <th>smoking_status_never smoked</th>\n",
       "      <th>smoking_status_smokes</th>\n",
       "      <th>log_avg_glucose_level</th>\n",
       "      <th>bmi_NA</th>\n",
       "    </tr>\n",
       "  </thead>\n",
       "  <tbody>\n",
       "    <tr>\n",
       "      <th>0</th>\n",
       "      <td>36.0</td>\n",
       "      <td>0</td>\n",
       "      <td>0</td>\n",
       "      <td>65.87</td>\n",
       "      <td>32.2</td>\n",
       "      <td>0</td>\n",
       "      <td>0</td>\n",
       "      <td>1</td>\n",
       "      <td>0</td>\n",
       "      <td>1</td>\n",
       "      <td>...</td>\n",
       "      <td>0</td>\n",
       "      <td>0</td>\n",
       "      <td>0</td>\n",
       "      <td>1</td>\n",
       "      <td>0</td>\n",
       "      <td>1</td>\n",
       "      <td>0</td>\n",
       "      <td>0</td>\n",
       "      <td>4.187683</td>\n",
       "      <td>0</td>\n",
       "    </tr>\n",
       "    <tr>\n",
       "      <th>1</th>\n",
       "      <td>45.0</td>\n",
       "      <td>0</td>\n",
       "      <td>0</td>\n",
       "      <td>68.66</td>\n",
       "      <td>25.3</td>\n",
       "      <td>0</td>\n",
       "      <td>1</td>\n",
       "      <td>0</td>\n",
       "      <td>0</td>\n",
       "      <td>1</td>\n",
       "      <td>...</td>\n",
       "      <td>0</td>\n",
       "      <td>0</td>\n",
       "      <td>1</td>\n",
       "      <td>0</td>\n",
       "      <td>0</td>\n",
       "      <td>0</td>\n",
       "      <td>1</td>\n",
       "      <td>0</td>\n",
       "      <td>4.229167</td>\n",
       "      <td>0</td>\n",
       "    </tr>\n",
       "    <tr>\n",
       "      <th>2</th>\n",
       "      <td>58.0</td>\n",
       "      <td>0</td>\n",
       "      <td>0</td>\n",
       "      <td>170.93</td>\n",
       "      <td>30.7</td>\n",
       "      <td>0</td>\n",
       "      <td>0</td>\n",
       "      <td>1</td>\n",
       "      <td>1</td>\n",
       "      <td>0</td>\n",
       "      <td>...</td>\n",
       "      <td>1</td>\n",
       "      <td>0</td>\n",
       "      <td>1</td>\n",
       "      <td>0</td>\n",
       "      <td>1</td>\n",
       "      <td>0</td>\n",
       "      <td>0</td>\n",
       "      <td>0</td>\n",
       "      <td>5.141254</td>\n",
       "      <td>0</td>\n",
       "    </tr>\n",
       "    <tr>\n",
       "      <th>3</th>\n",
       "      <td>61.0</td>\n",
       "      <td>0</td>\n",
       "      <td>0</td>\n",
       "      <td>69.88</td>\n",
       "      <td>27.1</td>\n",
       "      <td>0</td>\n",
       "      <td>1</td>\n",
       "      <td>0</td>\n",
       "      <td>0</td>\n",
       "      <td>1</td>\n",
       "      <td>...</td>\n",
       "      <td>1</td>\n",
       "      <td>0</td>\n",
       "      <td>0</td>\n",
       "      <td>1</td>\n",
       "      <td>0</td>\n",
       "      <td>0</td>\n",
       "      <td>1</td>\n",
       "      <td>0</td>\n",
       "      <td>4.246779</td>\n",
       "      <td>0</td>\n",
       "    </tr>\n",
       "    <tr>\n",
       "      <th>4</th>\n",
       "      <td>78.0</td>\n",
       "      <td>0</td>\n",
       "      <td>0</td>\n",
       "      <td>103.86</td>\n",
       "      <td>30.6</td>\n",
       "      <td>0</td>\n",
       "      <td>1</td>\n",
       "      <td>0</td>\n",
       "      <td>1</td>\n",
       "      <td>0</td>\n",
       "      <td>...</td>\n",
       "      <td>0</td>\n",
       "      <td>0</td>\n",
       "      <td>0</td>\n",
       "      <td>1</td>\n",
       "      <td>1</td>\n",
       "      <td>0</td>\n",
       "      <td>0</td>\n",
       "      <td>0</td>\n",
       "      <td>4.643044</td>\n",
       "      <td>0</td>\n",
       "    </tr>\n",
       "  </tbody>\n",
       "</table>\n",
       "<p>5 rows × 23 columns</p>\n",
       "</div>"
      ],
      "text/plain": [
       "    age  hypertension  heart_disease  avg_glucose_level   bmi  stroke  \\\n",
       "0  36.0             0              0              65.87  32.2       0   \n",
       "1  45.0             0              0              68.66  25.3       0   \n",
       "2  58.0             0              0             170.93  30.7       0   \n",
       "3  61.0             0              0              69.88  27.1       0   \n",
       "4  78.0             0              0             103.86  30.6       0   \n",
       "\n",
       "   gender_Female  gender_Male  ever_married_No  ever_married_Yes  ...  \\\n",
       "0              0            1                0                 1  ...   \n",
       "1              1            0                0                 1  ...   \n",
       "2              0            1                1                 0  ...   \n",
       "3              1            0                0                 1  ...   \n",
       "4              1            0                1                 0  ...   \n",
       "\n",
       "   work_type_Self-employed  work_type_children  Residence_type_Rural  \\\n",
       "0                        0                   0                     0   \n",
       "1                        0                   0                     1   \n",
       "2                        1                   0                     1   \n",
       "3                        1                   0                     0   \n",
       "4                        0                   0                     0   \n",
       "\n",
       "   Residence_type_Urban  smoking_status_Unknown  \\\n",
       "0                     1                       0   \n",
       "1                     0                       0   \n",
       "2                     0                       1   \n",
       "3                     1                       0   \n",
       "4                     1                       1   \n",
       "\n",
       "   smoking_status_formerly smoked  smoking_status_never smoked  \\\n",
       "0                               1                            0   \n",
       "1                               0                            1   \n",
       "2                               0                            0   \n",
       "3                               0                            1   \n",
       "4                               0                            0   \n",
       "\n",
       "   smoking_status_smokes  log_avg_glucose_level  bmi_NA  \n",
       "0                      0               4.187683       0  \n",
       "1                      0               4.229167       0  \n",
       "2                      0               5.141254       0  \n",
       "3                      0               4.246779       0  \n",
       "4                      0               4.643044       0  \n",
       "\n",
       "[5 rows x 23 columns]"
      ]
     },
     "execution_count": 4,
     "metadata": {},
     "output_type": "execute_result"
    }
   ],
   "source": [
    "df_train.head()"
   ]
  },
  {
   "cell_type": "code",
   "execution_count": 5,
   "metadata": {
    "id": "Qj3df48PU7_e"
   },
   "outputs": [],
   "source": [
    "y_train = df_train['stroke']\n",
    "X_train = df_train.drop('stroke',axis=1)\n",
    "y_test = df_test['stroke']\n",
    "X_test = df_test.drop('stroke',axis=1)"
   ]
  },
  {
   "cell_type": "markdown",
   "metadata": {},
   "source": [
    "## Results"
   ]
  },
  {
   "cell_type": "markdown",
   "metadata": {
    "id": "7wrfDaIMdiWJ"
   },
   "source": [
    "### Decision Tree with Linear Models at Root Nodes"
   ]
  },
  {
   "cell_type": "markdown",
   "metadata": {
    "id": "Z_6x_S71dp76"
   },
   "source": [
    "The following outlines the process for the creation of our linear decision tree model. "
   ]
  },
  {
   "cell_type": "markdown",
   "metadata": {
    "id": "HtGutLanESBL"
   },
   "source": [
    "#### Decision Tree Creation"
   ]
  },
  {
   "cell_type": "markdown",
   "metadata": {
    "id": "ThG80pQGd-qn"
   },
   "source": [
    "First, I'll train the decision tree. I've read that a good max depth is about log_2(number of attributes), which is log_2(22), which is about 4.4. So, I'll try a max depth of 4."
   ]
  },
  {
   "cell_type": "code",
   "execution_count": 6,
   "metadata": {
    "id": "IC9IFNO5d-aD"
   },
   "outputs": [],
   "source": [
    "from sklearn import tree\n",
    "from sklearn.linear_model import LinearRegression\n",
    "import matplotlib.pyplot as plt"
   ]
  },
  {
   "cell_type": "code",
   "execution_count": 7,
   "metadata": {
    "id": "Qku4lGPthmln"
   },
   "outputs": [],
   "source": [
    "dtr_model = tree.DecisionTreeRegressor(max_depth=4)\n",
    "dtr = dtr_model.fit(X_train, y_train)"
   ]
  },
  {
   "cell_type": "code",
   "execution_count": 8,
   "metadata": {
    "colab": {
     "base_uri": "https://localhost:8080/",
     "height": 406
    },
    "id": "B_4Aw1o3hooo",
    "outputId": "c2a065b9-e656-4acb-94a9-1438e725d4a3"
   },
   "outputs": [
    {
     "data": {
      "image/png": "[encoded data removed]",
      "text/plain": [
       "<Figure size 1152x576 with 1 Axes>"
      ]
     },
     "metadata": {
      "needs_background": "light"
     },
     "output_type": "display_data"
    }
   ],
   "source": [
    "plt.figure(figsize=(16, 8))\n",
    "tree.plot_tree(dtr,filled=True)\n",
    "plt.show()"
   ]
  },
  {
   "cell_type": "markdown",
   "metadata": {
    "id": "CZkgYSWzEVnX"
   },
   "source": [
    "#### Linear Model Creation"
   ]
  },
  {
   "cell_type": "markdown",
   "metadata": {
    "id": "ViOBh70_eR3y"
   },
   "source": [
    "Next, I'll train a linear model on the samples belonging to each leaf node. I can get the leaf node that each sample ends up at with the `.apply()` function. (I found this information [here](https://stackoverflow.com/questions/45398737/is-there-any-way-to-get-samples-under-each-leaf-of-a-decision-tree))."
   ]
  },
  {
   "cell_type": "code",
   "execution_count": 9,
   "metadata": {
    "colab": {
     "base_uri": "https://localhost:8080/"
    },
    "id": "gKKQN2LViZXW",
    "outputId": "011a20b5-3890-42d9-feb5-eb3ab1babb14"
   },
   "outputs": [
    {
     "name": "stdout",
     "output_type": "stream",
     "text": [
      "[ 4  5  7  8 11 12 14 15 19 20 22 23 26 27 29 30]\n"
     ]
    }
   ],
   "source": [
    "training_leaf_nodes = dtr.apply(X_train)\n",
    "leaf_node_values = np.unique(training_leaf_nodes)\n",
    "print(leaf_node_values)"
   ]
  },
  {
   "cell_type": "markdown",
   "metadata": {
    "id": "3WOkSABI7i9N"
   },
   "source": [
    "I'll make a list of DataFrames, where each DataFrame holds the samples that ended up at a particular leaf node; I'll call each of these groups a \"subpopulation\". I'll also make a corresponding list with the y values for each subpopulation."
   ]
  },
  {
   "cell_type": "code",
   "execution_count": 10,
   "metadata": {
    "id": "juhyqy9o5PFZ"
   },
   "outputs": [],
   "source": [
    "def get_leaf_node_samples(leaf_node_value, samples, y, leaf_nodes_for_samples):\n",
    "  indices_of_samples = (leaf_nodes_for_samples == leaf_node_value)\n",
    "  node_samples = samples.loc[indices_of_samples].reset_index().drop(\"index\", axis=1)\n",
    "  node_y = y.loc[indices_of_samples].reset_index().drop(\"index\", axis=1)[\"stroke\"]\n",
    "  return node_samples, node_y"
   ]
  },
  {
   "cell_type": "code",
   "execution_count": 11,
   "metadata": {
    "id": "CkbAhgKN7Zzx"
   },
   "outputs": [],
   "source": [
    "subpopulation_dfs = list()\n",
    "subpopulation_ys = list()\n",
    "node_value_to_index = dict()\n",
    "\n",
    "index = 0\n",
    "for leaf_node_value in leaf_node_values:\n",
    "  node_value_to_index[leaf_node_value] = index\n",
    "  subpopulation, subpop_y = get_leaf_node_samples(leaf_node_value, X_train, y_train, training_leaf_nodes)\n",
    "  subpopulation_dfs.append(subpopulation)\n",
    "  subpopulation_ys.append(subpop_y)\n",
    "  index += 1"
   ]
  },
  {
   "cell_type": "markdown",
   "metadata": {
    "id": "TkZCYlOS-hdN"
   },
   "source": [
    "Next I'll make the linear model for each subpopulation."
   ]
  },
  {
   "cell_type": "code",
   "execution_count": 12,
   "metadata": {
    "id": "TTfb_Fht86Ed"
   },
   "outputs": [],
   "source": [
    "def train_linear_model(samples, y):\n",
    "  reg = LinearRegression().fit(samples, y)\n",
    "  return reg"
   ]
  },
  {
   "cell_type": "code",
   "execution_count": 13,
   "metadata": {
    "id": "b6tzvIa2-RKN"
   },
   "outputs": [],
   "source": [
    "def evaluate_linear_model(model, samples, y):\n",
    "  print('R2: ', model.score(samples, y)) # R squared measure\n",
    "  y_hat = model.predict(samples)\n",
    "  N = len(y)\n",
    "  print('RMSE: ', (np.sum( (y - y_hat)**2)/N )**.5, \"\\n\" )   # R squared measure"
   ]
  },
  {
   "cell_type": "code",
   "execution_count": 14,
   "metadata": {
    "colab": {
     "base_uri": "https://localhost:8080/"
    },
    "id": "pRsn-kuW8w9W",
    "outputId": "9967a0d0-abed-406e-b2c2-e502c0c51da4"
   },
   "outputs": [
    {
     "name": "stdout",
     "output_type": "stream",
     "text": [
      "R2:  0.43141383248223186\n",
      "RMSE:  0.117725476568352 \n",
      "\n",
      "R2:  0.017537291157841528\n",
      "RMSE:  0.035377151042120615 \n",
      "\n",
      "R2:  0.18961117110526415\n",
      "RMSE:  0.18358205510322825 \n",
      "\n",
      "R2:  0.018087700559798248\n",
      "RMSE:  0.10454182414017002 \n",
      "\n",
      "R2:  0.040033576258185044\n",
      "RMSE:  0.1669068315278123 \n",
      "\n",
      "R2:  0.04239691884109642\n",
      "RMSE:  0.22690748724651538 \n",
      "\n",
      "R2:  1.0\n",
      "RMSE:  1.6215845185301648e-15 \n",
      "\n",
      "R2:  0.07892223562767298\n",
      "RMSE:  0.2960308488338074 \n",
      "\n",
      "R2:  1.0\n",
      "RMSE:  1.807312143953211e-16 \n",
      "\n",
      "R2:  0.27518044655749574\n",
      "RMSE:  0.2832524670526873 \n",
      "\n",
      "R2:  0.9725244053301189\n",
      "RMSE:  0.082228779182176 \n",
      "\n",
      "R2:  0.13427512729083968\n",
      "RMSE:  0.43861521296744843 \n",
      "\n",
      "R2:  0.017640092968395082\n",
      "RMSE:  0.31419143137042765 \n",
      "\n",
      "R2:  0.43533292693473946\n",
      "RMSE:  0.13174544168347666 \n",
      "\n",
      "R2:  0.2006049518550428\n",
      "RMSE:  0.3260226285459082 \n",
      "\n",
      "R2:  0.13894713114112267\n",
      "RMSE:  0.4333660972003206 \n",
      "\n"
     ]
    }
   ],
   "source": [
    "linear_models = list()\n",
    "\n",
    "for i in range(len(subpopulation_dfs)):\n",
    "  model = train_linear_model(subpopulation_dfs[i], subpopulation_ys[i])\n",
    "  evaluate_linear_model(model, subpopulation_dfs[i], subpopulation_ys[i])\n",
    "  linear_models.append(model)"
   ]
  },
  {
   "cell_type": "markdown",
   "metadata": {
    "id": "OZtEU03s-Q0H"
   },
   "source": [
    "#### Performance on Test Set"
   ]
  },
  {
   "cell_type": "markdown",
   "metadata": {
    "id": "-uZiknaAEhYd"
   },
   "source": [
    "Finally, I'll examine how this combined model does on the test data."
   ]
  },
  {
   "cell_type": "markdown",
   "metadata": {
    "id": "FOcoomDbEpMn"
   },
   "source": [
    "The first step is to identify which leaf node each sample in the test set would be sorted into."
   ]
  },
  {
   "cell_type": "code",
   "execution_count": 15,
   "metadata": {
    "id": "qYii0B-7Emyy"
   },
   "outputs": [],
   "source": [
    "testing_leaf_nodes = dtr.apply(X_test)"
   ]
  },
  {
   "cell_type": "markdown",
   "metadata": {
    "id": "9GUGFYAqE4wO"
   },
   "source": [
    "Next, I will make a prediction for each test sample based on the linear model corresponding to that sample's leaf node. I'll concatenate all of these predictions into one full `y_hat` vector."
   ]
  },
  {
   "cell_type": "code",
   "execution_count": 16,
   "metadata": {
    "colab": {
     "base_uri": "https://localhost:8080/",
     "height": 272
    },
    "id": "R3e347VKQMrp",
    "outputId": "b8a1d707-74b7-4102-be34-741fa6be2b99"
   },
   "outputs": [
    {
     "data": {
      "text/html": [
       "<div>\n",
       "<style scoped>\n",
       "    .dataframe tbody tr th:only-of-type {\n",
       "        vertical-align: middle;\n",
       "    }\n",
       "\n",
       "    .dataframe tbody tr th {\n",
       "        vertical-align: top;\n",
       "    }\n",
       "\n",
       "    .dataframe thead th {\n",
       "        text-align: right;\n",
       "    }\n",
       "</style>\n",
       "<table border=\"1\" class=\"dataframe\">\n",
       "  <thead>\n",
       "    <tr style=\"text-align: right;\">\n",
       "      <th></th>\n",
       "      <th>age</th>\n",
       "      <th>hypertension</th>\n",
       "      <th>heart_disease</th>\n",
       "      <th>avg_glucose_level</th>\n",
       "      <th>bmi</th>\n",
       "      <th>gender_Female</th>\n",
       "      <th>gender_Male</th>\n",
       "      <th>ever_married_No</th>\n",
       "      <th>ever_married_Yes</th>\n",
       "      <th>work_type_Govt_job</th>\n",
       "      <th>...</th>\n",
       "      <th>work_type_Self-employed</th>\n",
       "      <th>work_type_children</th>\n",
       "      <th>Residence_type_Rural</th>\n",
       "      <th>Residence_type_Urban</th>\n",
       "      <th>smoking_status_Unknown</th>\n",
       "      <th>smoking_status_formerly smoked</th>\n",
       "      <th>smoking_status_never smoked</th>\n",
       "      <th>smoking_status_smokes</th>\n",
       "      <th>log_avg_glucose_level</th>\n",
       "      <th>bmi_NA</th>\n",
       "    </tr>\n",
       "  </thead>\n",
       "  <tbody>\n",
       "    <tr>\n",
       "      <th>0</th>\n",
       "      <td>58.0</td>\n",
       "      <td>1</td>\n",
       "      <td>0</td>\n",
       "      <td>87.96</td>\n",
       "      <td>39.2</td>\n",
       "      <td>0</td>\n",
       "      <td>1</td>\n",
       "      <td>0</td>\n",
       "      <td>1</td>\n",
       "      <td>0</td>\n",
       "      <td>...</td>\n",
       "      <td>0</td>\n",
       "      <td>0</td>\n",
       "      <td>0</td>\n",
       "      <td>1</td>\n",
       "      <td>0</td>\n",
       "      <td>0</td>\n",
       "      <td>1</td>\n",
       "      <td>0</td>\n",
       "      <td>4.476882</td>\n",
       "      <td>0</td>\n",
       "    </tr>\n",
       "    <tr>\n",
       "      <th>1</th>\n",
       "      <td>8.0</td>\n",
       "      <td>0</td>\n",
       "      <td>0</td>\n",
       "      <td>110.89</td>\n",
       "      <td>17.6</td>\n",
       "      <td>1</td>\n",
       "      <td>0</td>\n",
       "      <td>1</td>\n",
       "      <td>0</td>\n",
       "      <td>0</td>\n",
       "      <td>...</td>\n",
       "      <td>0</td>\n",
       "      <td>0</td>\n",
       "      <td>0</td>\n",
       "      <td>1</td>\n",
       "      <td>1</td>\n",
       "      <td>0</td>\n",
       "      <td>0</td>\n",
       "      <td>0</td>\n",
       "      <td>4.708539</td>\n",
       "      <td>0</td>\n",
       "    </tr>\n",
       "    <tr>\n",
       "      <th>2</th>\n",
       "      <td>70.0</td>\n",
       "      <td>0</td>\n",
       "      <td>0</td>\n",
       "      <td>69.04</td>\n",
       "      <td>35.9</td>\n",
       "      <td>1</td>\n",
       "      <td>0</td>\n",
       "      <td>0</td>\n",
       "      <td>1</td>\n",
       "      <td>0</td>\n",
       "      <td>...</td>\n",
       "      <td>0</td>\n",
       "      <td>0</td>\n",
       "      <td>1</td>\n",
       "      <td>0</td>\n",
       "      <td>0</td>\n",
       "      <td>1</td>\n",
       "      <td>0</td>\n",
       "      <td>0</td>\n",
       "      <td>4.234686</td>\n",
       "      <td>0</td>\n",
       "    </tr>\n",
       "    <tr>\n",
       "      <th>3</th>\n",
       "      <td>47.0</td>\n",
       "      <td>0</td>\n",
       "      <td>0</td>\n",
       "      <td>210.95</td>\n",
       "      <td>50.1</td>\n",
       "      <td>1</td>\n",
       "      <td>0</td>\n",
       "      <td>0</td>\n",
       "      <td>1</td>\n",
       "      <td>0</td>\n",
       "      <td>...</td>\n",
       "      <td>0</td>\n",
       "      <td>0</td>\n",
       "      <td>0</td>\n",
       "      <td>1</td>\n",
       "      <td>1</td>\n",
       "      <td>0</td>\n",
       "      <td>0</td>\n",
       "      <td>0</td>\n",
       "      <td>5.351621</td>\n",
       "      <td>0</td>\n",
       "    </tr>\n",
       "    <tr>\n",
       "      <th>4</th>\n",
       "      <td>74.0</td>\n",
       "      <td>1</td>\n",
       "      <td>0</td>\n",
       "      <td>205.84</td>\n",
       "      <td>54.6</td>\n",
       "      <td>1</td>\n",
       "      <td>0</td>\n",
       "      <td>0</td>\n",
       "      <td>1</td>\n",
       "      <td>0</td>\n",
       "      <td>...</td>\n",
       "      <td>1</td>\n",
       "      <td>0</td>\n",
       "      <td>0</td>\n",
       "      <td>1</td>\n",
       "      <td>0</td>\n",
       "      <td>0</td>\n",
       "      <td>1</td>\n",
       "      <td>0</td>\n",
       "      <td>5.327099</td>\n",
       "      <td>0</td>\n",
       "    </tr>\n",
       "  </tbody>\n",
       "</table>\n",
       "<p>5 rows × 22 columns</p>\n",
       "</div>"
      ],
      "text/plain": [
       "    age  hypertension  heart_disease  avg_glucose_level   bmi  gender_Female  \\\n",
       "0  58.0             1              0              87.96  39.2              0   \n",
       "1   8.0             0              0             110.89  17.6              1   \n",
       "2  70.0             0              0              69.04  35.9              1   \n",
       "3  47.0             0              0             210.95  50.1              1   \n",
       "4  74.0             1              0             205.84  54.6              1   \n",
       "\n",
       "   gender_Male  ever_married_No  ever_married_Yes  work_type_Govt_job  ...  \\\n",
       "0            1                0                 1                   0  ...   \n",
       "1            0                1                 0                   0  ...   \n",
       "2            0                0                 1                   0  ...   \n",
       "3            0                0                 1                   0  ...   \n",
       "4            0                0                 1                   0  ...   \n",
       "\n",
       "   work_type_Self-employed  work_type_children  Residence_type_Rural  \\\n",
       "0                        0                   0                     0   \n",
       "1                        0                   0                     0   \n",
       "2                        0                   0                     1   \n",
       "3                        0                   0                     0   \n",
       "4                        1                   0                     0   \n",
       "\n",
       "   Residence_type_Urban  smoking_status_Unknown  \\\n",
       "0                     1                       0   \n",
       "1                     1                       1   \n",
       "2                     0                       0   \n",
       "3                     1                       1   \n",
       "4                     1                       0   \n",
       "\n",
       "   smoking_status_formerly smoked  smoking_status_never smoked  \\\n",
       "0                               0                            1   \n",
       "1                               0                            0   \n",
       "2                               1                            0   \n",
       "3                               0                            0   \n",
       "4                               0                            1   \n",
       "\n",
       "   smoking_status_smokes  log_avg_glucose_level  bmi_NA  \n",
       "0                      0               4.476882       0  \n",
       "1                      0               4.708539       0  \n",
       "2                      0               4.234686       0  \n",
       "3                      0               5.351621       0  \n",
       "4                      0               5.327099       0  \n",
       "\n",
       "[5 rows x 22 columns]"
      ]
     },
     "execution_count": 16,
     "metadata": {},
     "output_type": "execute_result"
    }
   ],
   "source": [
    "X_test.head()"
   ]
  },
  {
   "cell_type": "code",
   "execution_count": 17,
   "metadata": {
    "colab": {
     "base_uri": "https://localhost:8080/"
    },
    "id": "nO0M1JVUQP2V",
    "outputId": "05895a30-13cb-46ca-f0b1-679d184df21c"
   },
   "outputs": [
    {
     "name": "stdout",
     "output_type": "stream",
     "text": [
      "<class 'pandas.core.frame.DataFrame'>\n",
      "<class 'pandas.core.series.Series'>\n"
     ]
    }
   ],
   "source": [
    "print(type(X_test[0:1]))\n",
    "print(type(X_test.iloc[0]))"
   ]
  },
  {
   "cell_type": "code",
   "execution_count": 18,
   "metadata": {
    "id": "XVo_7FHJFQm4"
   },
   "outputs": [],
   "source": [
    "test_y_hat = list()\n",
    "\n",
    "for i in range(len(X_test)):\n",
    "  sample_leaf_node = testing_leaf_nodes[i]\n",
    "  sample_index = node_value_to_index[sample_leaf_node]\n",
    "  node_model = linear_models[sample_index]\n",
    "  sample_y = node_model.predict(X_test[i:i+1])\n",
    "  test_y_hat.append(sample_y[0]) # there's only one prediction in each sample_y"
   ]
  },
  {
   "cell_type": "code",
   "execution_count": 19,
   "metadata": {
    "id": "y77FBZ9PRYHv"
   },
   "outputs": [],
   "source": [
    "y_hat = pd.Series(test_y_hat)"
   ]
  },
  {
   "cell_type": "markdown",
   "metadata": {
    "id": "rYERwF1DFQ9v"
   },
   "source": [
    "Finally, I'll calculate the performance of the combined models by comparing `y_hat` and `y_test`."
   ]
  },
  {
   "cell_type": "code",
   "execution_count": 20,
   "metadata": {
    "id": "VcSJ-eRhFRlq"
   },
   "outputs": [],
   "source": [
    "from sklearn.metrics import r2_score"
   ]
  },
  {
   "cell_type": "code",
   "execution_count": 21,
   "metadata": {
    "colab": {
     "base_uri": "https://localhost:8080/"
    },
    "id": "nIVxi-GRR-VX",
    "outputId": "ef3af577-c5ff-42bb-8935-a0135abc9b51"
   },
   "outputs": [
    {
     "name": "stdout",
     "output_type": "stream",
     "text": [
      "R2:  -2.676824949771073\n",
      "RMSE:  0.41343026479039335\n"
     ]
    }
   ],
   "source": [
    "final_r2 = r2_score(y_test, y_hat)\n",
    "print('R2: ', final_r2)\n",
    "N = len(y_test)\n",
    "print('RMSE: ', (np.sum( (y_test - y_hat)**2)/N )**.5)"
   ]
  },
  {
   "cell_type": "markdown",
   "metadata": {},
   "source": [
    "The R2 for this model is -2.696 and the RMSE is 0.415"
   ]
  },
  {
   "cell_type": "markdown",
   "metadata": {},
   "source": [
    "### Important Visualizations for Analysis"
   ]
  },
  {
   "cell_type": "code",
   "execution_count": 22,
   "metadata": {},
   "outputs": [
    {
     "data": {
      "text/plain": [
       "'age'"
      ]
     },
     "execution_count": 22,
     "metadata": {},
     "output_type": "execute_result"
    }
   ],
   "source": [
    "df_train.columns[0]"
   ]
  },
  {
   "cell_type": "markdown",
   "metadata": {},
   "source": [
    "Let us visualize the distribution of the important features as seen in our training data."
   ]
  },
  {
   "cell_type": "code",
   "execution_count": 23,
   "metadata": {},
   "outputs": [
    {
     "data": {
      "image/png": "[encoded data removed]",
      "text/plain": [
       "<Figure size 432x288 with 6 Axes>"
      ]
     },
     "metadata": {
      "needs_background": "light"
     },
     "output_type": "display_data"
    }
   ],
   "source": [
    "import seaborn as sns\n",
    "\n",
    "fig, axs = plt.subplots(nrows = 2, ncols=3)\n",
    "\n",
    "important_features = [0, 20, 3, 4, 11]\n",
    "for ind, col_idx in enumerate(important_features):\n",
    "    row = ind//3\n",
    "    col = ind%3\n",
    "    sns.histplot(df_train, x=df_train.columns[col_idx], ax=axs[row][col])\n",
    "\n",
    "plt.tight_layout()"
   ]
  },
  {
   "cell_type": "markdown",
   "metadata": {},
   "source": [
    "To get a better idea of how these features may be relevant for our model, we visualize the distribution of values for stroke patients and non-stroke patients separately."
   ]
  },
  {
   "cell_type": "code",
   "execution_count": 24,
   "metadata": {},
   "outputs": [
    {
     "data": {
      "image/png": "[encoded data removed]",
      "text/plain": [
       "<Figure size 432x288 with 6 Axes>"
      ]
     },
     "metadata": {
      "needs_background": "light"
     },
     "output_type": "display_data"
    }
   ],
   "source": [
    "import seaborn as sns\n",
    "\n",
    "fig, axs = plt.subplots(nrows = 2, ncols=3)\n",
    "\n",
    "important_features = [0, 20, 3, 4, 11]\n",
    "for ind, col_idx in enumerate(important_features):\n",
    "    row = ind//3\n",
    "    col = ind%3\n",
    "    sns.histplot(df_train, x=df_train.columns[col_idx], ax=axs[row][col], hue=\"stroke\")\n",
    "\n",
    "plt.tight_layout()"
   ]
  },
  {
   "cell_type": "markdown",
   "metadata": {},
   "source": [
    "Here we can see a few key findings from our model. Our most significant finding is that older age (above 50) is an indicator for a higher likelihood of stroke. Additionally, patients older than 90 have the highest likelihood of stroke. Smoking and diabetes do not appear to have a significant impact on likelihood of stroke. A patient with an above average bmi (above 25) has a higher likelihood of stroke. Smoking and work type do not appear to have a significant imapct, but our model predicts that people who do not smoke and have not worked are more likely to have to a stroke. While this does not reflect the reality of stroke prediction in the medical world, it is interesting to see how our model performs on different variables. "
   ]
  },
  {
   "cell_type": "markdown",
   "metadata": {},
   "source": [
    "The same information can also be presented as a kernel density plot, which emphasizes the shapes of our non-categorical features."
   ]
  },
  {
   "cell_type": "code",
   "execution_count": 25,
   "metadata": {},
   "outputs": [
    {
     "name": "stderr",
     "output_type": "stream",
     "text": [
      "/apps/software/standard/compiler/gcc/9.2.0/jupyter_conda/2020.11-py3.8/lib/python3.8/site-packages/seaborn/distributions.py:305: UserWarning: Dataset has 0 variance; skipping density estimate.\n",
      "  warnings.warn(msg, UserWarning)\n"
     ]
    },
    {
     "data": {
      "image/png": "[encoded data removed]",
      "text/plain": [
       "<Figure size 432x288 with 6 Axes>"
      ]
     },
     "metadata": {
      "needs_background": "light"
     },
     "output_type": "display_data"
    }
   ],
   "source": [
    "import seaborn as sns\n",
    "\n",
    "fig, axs = plt.subplots(nrows=2, ncols=3)\n",
    "\n",
    "important_features = [0, 20, 3, 4, 11]\n",
    "for ind, col_idx in enumerate(important_features):\n",
    "    row = ind // 3\n",
    "    col = ind % 3\n",
    "    sns.kdeplot(data=df_train, x=df_train.columns[col_idx], ax=axs[row, col], hue=\"stroke\", fill=True)\n",
    "\n",
    "plt.tight_layout()\n",
    "plt.show()"
   ]
  },
  {
   "cell_type": "markdown",
   "metadata": {},
   "source": [
    "These visulizations reflect the findings found in the previous histogram. The lack of significant impact from work type and smoking is further emphasized in these graphs. "
   ]
  },
  {
   "cell_type": "code",
   "execution_count": 26,
   "metadata": {},
   "outputs": [
    {
     "name": "stdout",
     "output_type": "stream",
     "text": [
      "<class 'pandas.core.frame.DataFrame'>\n",
      "RangeIndex: 4086 entries, 0 to 4085\n",
      "Data columns (total 23 columns):\n",
      " #   Column                          Non-Null Count  Dtype  \n",
      "---  ------                          --------------  -----  \n",
      " 0   age                             4086 non-null   float64\n",
      " 1   hypertension                    4086 non-null   int64  \n",
      " 2   heart_disease                   4086 non-null   int64  \n",
      " 3   avg_glucose_level               4086 non-null   float64\n",
      " 4   bmi                             4086 non-null   float64\n",
      " 5   stroke                          4086 non-null   int64  \n",
      " 6   gender_Female                   4086 non-null   int64  \n",
      " 7   gender_Male                     4086 non-null   int64  \n",
      " 8   ever_married_No                 4086 non-null   int64  \n",
      " 9   ever_married_Yes                4086 non-null   int64  \n",
      " 10  work_type_Govt_job              4086 non-null   int64  \n",
      " 11  work_type_Never_worked          4086 non-null   int64  \n",
      " 12  work_type_Private               4086 non-null   int64  \n",
      " 13  work_type_Self-employed         4086 non-null   int64  \n",
      " 14  work_type_children              4086 non-null   int64  \n",
      " 15  Residence_type_Rural            4086 non-null   int64  \n",
      " 16  Residence_type_Urban            4086 non-null   int64  \n",
      " 17  smoking_status_Unknown          4086 non-null   int64  \n",
      " 18  smoking_status_formerly smoked  4086 non-null   int64  \n",
      " 19  smoking_status_never smoked     4086 non-null   int64  \n",
      " 20  smoking_status_smokes           4086 non-null   int64  \n",
      " 21  log_avg_glucose_level           4086 non-null   float64\n",
      " 22  bmi_NA                          4086 non-null   int64  \n",
      "dtypes: float64(4), int64(19)\n",
      "memory usage: 734.3 KB\n"
     ]
    }
   ],
   "source": [
    "df_train.info()"
   ]
  },
  {
   "cell_type": "code",
   "execution_count": 27,
   "metadata": {},
   "outputs": [
    {
     "data": {
      "text/html": [
       "<div>\n",
       "<style scoped>\n",
       "    .dataframe tbody tr th:only-of-type {\n",
       "        vertical-align: middle;\n",
       "    }\n",
       "\n",
       "    .dataframe tbody tr th {\n",
       "        vertical-align: top;\n",
       "    }\n",
       "\n",
       "    .dataframe thead th {\n",
       "        text-align: right;\n",
       "    }\n",
       "</style>\n",
       "<table border=\"1\" class=\"dataframe\">\n",
       "  <thead>\n",
       "    <tr style=\"text-align: right;\">\n",
       "      <th></th>\n",
       "      <th>age</th>\n",
       "      <th>hypertension</th>\n",
       "      <th>heart_disease</th>\n",
       "      <th>avg_glucose_level</th>\n",
       "      <th>bmi</th>\n",
       "      <th>stroke</th>\n",
       "      <th>gender_Female</th>\n",
       "      <th>gender_Male</th>\n",
       "      <th>ever_married_No</th>\n",
       "      <th>ever_married_Yes</th>\n",
       "      <th>...</th>\n",
       "      <th>work_type_Self-employed</th>\n",
       "      <th>work_type_children</th>\n",
       "      <th>Residence_type_Rural</th>\n",
       "      <th>Residence_type_Urban</th>\n",
       "      <th>smoking_status_Unknown</th>\n",
       "      <th>smoking_status_formerly smoked</th>\n",
       "      <th>smoking_status_never smoked</th>\n",
       "      <th>smoking_status_smokes</th>\n",
       "      <th>log_avg_glucose_level</th>\n",
       "      <th>bmi_NA</th>\n",
       "    </tr>\n",
       "  </thead>\n",
       "  <tbody>\n",
       "    <tr>\n",
       "      <th>count</th>\n",
       "      <td>4086.000000</td>\n",
       "      <td>4086.000000</td>\n",
       "      <td>4086.000000</td>\n",
       "      <td>4086.000000</td>\n",
       "      <td>4086.000000</td>\n",
       "      <td>4086.000000</td>\n",
       "      <td>4086.000000</td>\n",
       "      <td>4086.000000</td>\n",
       "      <td>4086.000000</td>\n",
       "      <td>4086.000000</td>\n",
       "      <td>...</td>\n",
       "      <td>4086.00000</td>\n",
       "      <td>4086.000000</td>\n",
       "      <td>4086.000000</td>\n",
       "      <td>4086.000000</td>\n",
       "      <td>4086.000000</td>\n",
       "      <td>4086.000000</td>\n",
       "      <td>4086.000000</td>\n",
       "      <td>4086.000000</td>\n",
       "      <td>4086.000000</td>\n",
       "      <td>4086.000000</td>\n",
       "    </tr>\n",
       "    <tr>\n",
       "      <th>mean</th>\n",
       "      <td>43.328409</td>\n",
       "      <td>0.097895</td>\n",
       "      <td>0.056045</td>\n",
       "      <td>106.001263</td>\n",
       "      <td>27.799462</td>\n",
       "      <td>0.048703</td>\n",
       "      <td>0.586882</td>\n",
       "      <td>0.413118</td>\n",
       "      <td>0.342633</td>\n",
       "      <td>0.657367</td>\n",
       "      <td>...</td>\n",
       "      <td>0.16324</td>\n",
       "      <td>0.132648</td>\n",
       "      <td>0.497797</td>\n",
       "      <td>0.502203</td>\n",
       "      <td>0.303720</td>\n",
       "      <td>0.170827</td>\n",
       "      <td>0.368331</td>\n",
       "      <td>0.157122</td>\n",
       "      <td>4.591664</td>\n",
       "      <td>0.038913</td>\n",
       "    </tr>\n",
       "    <tr>\n",
       "      <th>std</th>\n",
       "      <td>22.532146</td>\n",
       "      <td>0.297209</td>\n",
       "      <td>0.230037</td>\n",
       "      <td>45.049641</td>\n",
       "      <td>9.509059</td>\n",
       "      <td>0.215273</td>\n",
       "      <td>0.492454</td>\n",
       "      <td>0.492454</td>\n",
       "      <td>0.474648</td>\n",
       "      <td>0.474648</td>\n",
       "      <td>...</td>\n",
       "      <td>0.36963</td>\n",
       "      <td>0.339235</td>\n",
       "      <td>0.500056</td>\n",
       "      <td>0.500056</td>\n",
       "      <td>0.459919</td>\n",
       "      <td>0.376404</td>\n",
       "      <td>0.482411</td>\n",
       "      <td>0.363960</td>\n",
       "      <td>0.360563</td>\n",
       "      <td>0.193412</td>\n",
       "    </tr>\n",
       "    <tr>\n",
       "      <th>min</th>\n",
       "      <td>0.080000</td>\n",
       "      <td>0.000000</td>\n",
       "      <td>0.000000</td>\n",
       "      <td>55.120000</td>\n",
       "      <td>0.000000</td>\n",
       "      <td>0.000000</td>\n",
       "      <td>0.000000</td>\n",
       "      <td>0.000000</td>\n",
       "      <td>0.000000</td>\n",
       "      <td>0.000000</td>\n",
       "      <td>...</td>\n",
       "      <td>0.00000</td>\n",
       "      <td>0.000000</td>\n",
       "      <td>0.000000</td>\n",
       "      <td>0.000000</td>\n",
       "      <td>0.000000</td>\n",
       "      <td>0.000000</td>\n",
       "      <td>0.000000</td>\n",
       "      <td>0.000000</td>\n",
       "      <td>4.009513</td>\n",
       "      <td>0.000000</td>\n",
       "    </tr>\n",
       "    <tr>\n",
       "      <th>25%</th>\n",
       "      <td>26.000000</td>\n",
       "      <td>0.000000</td>\n",
       "      <td>0.000000</td>\n",
       "      <td>77.292500</td>\n",
       "      <td>23.000000</td>\n",
       "      <td>0.000000</td>\n",
       "      <td>0.000000</td>\n",
       "      <td>0.000000</td>\n",
       "      <td>0.000000</td>\n",
       "      <td>0.000000</td>\n",
       "      <td>...</td>\n",
       "      <td>0.00000</td>\n",
       "      <td>0.000000</td>\n",
       "      <td>0.000000</td>\n",
       "      <td>0.000000</td>\n",
       "      <td>0.000000</td>\n",
       "      <td>0.000000</td>\n",
       "      <td>0.000000</td>\n",
       "      <td>0.000000</td>\n",
       "      <td>4.347597</td>\n",
       "      <td>0.000000</td>\n",
       "    </tr>\n",
       "    <tr>\n",
       "      <th>50%</th>\n",
       "      <td>45.000000</td>\n",
       "      <td>0.000000</td>\n",
       "      <td>0.000000</td>\n",
       "      <td>91.990000</td>\n",
       "      <td>27.700000</td>\n",
       "      <td>0.000000</td>\n",
       "      <td>1.000000</td>\n",
       "      <td>0.000000</td>\n",
       "      <td>0.000000</td>\n",
       "      <td>1.000000</td>\n",
       "      <td>...</td>\n",
       "      <td>0.00000</td>\n",
       "      <td>0.000000</td>\n",
       "      <td>0.000000</td>\n",
       "      <td>1.000000</td>\n",
       "      <td>0.000000</td>\n",
       "      <td>0.000000</td>\n",
       "      <td>0.000000</td>\n",
       "      <td>0.000000</td>\n",
       "      <td>4.521680</td>\n",
       "      <td>0.000000</td>\n",
       "    </tr>\n",
       "    <tr>\n",
       "      <th>75%</th>\n",
       "      <td>61.000000</td>\n",
       "      <td>0.000000</td>\n",
       "      <td>0.000000</td>\n",
       "      <td>113.830000</td>\n",
       "      <td>32.800000</td>\n",
       "      <td>0.000000</td>\n",
       "      <td>1.000000</td>\n",
       "      <td>1.000000</td>\n",
       "      <td>1.000000</td>\n",
       "      <td>1.000000</td>\n",
       "      <td>...</td>\n",
       "      <td>0.00000</td>\n",
       "      <td>0.000000</td>\n",
       "      <td>1.000000</td>\n",
       "      <td>1.000000</td>\n",
       "      <td>1.000000</td>\n",
       "      <td>0.000000</td>\n",
       "      <td>1.000000</td>\n",
       "      <td>0.000000</td>\n",
       "      <td>4.734706</td>\n",
       "      <td>0.000000</td>\n",
       "    </tr>\n",
       "    <tr>\n",
       "      <th>max</th>\n",
       "      <td>82.000000</td>\n",
       "      <td>1.000000</td>\n",
       "      <td>1.000000</td>\n",
       "      <td>271.740000</td>\n",
       "      <td>97.600000</td>\n",
       "      <td>1.000000</td>\n",
       "      <td>1.000000</td>\n",
       "      <td>1.000000</td>\n",
       "      <td>1.000000</td>\n",
       "      <td>1.000000</td>\n",
       "      <td>...</td>\n",
       "      <td>1.00000</td>\n",
       "      <td>1.000000</td>\n",
       "      <td>1.000000</td>\n",
       "      <td>1.000000</td>\n",
       "      <td>1.000000</td>\n",
       "      <td>1.000000</td>\n",
       "      <td>1.000000</td>\n",
       "      <td>1.000000</td>\n",
       "      <td>5.604846</td>\n",
       "      <td>1.000000</td>\n",
       "    </tr>\n",
       "  </tbody>\n",
       "</table>\n",
       "<p>8 rows × 23 columns</p>\n",
       "</div>"
      ],
      "text/plain": [
       "               age  hypertension  heart_disease  avg_glucose_level  \\\n",
       "count  4086.000000   4086.000000    4086.000000        4086.000000   \n",
       "mean     43.328409      0.097895       0.056045         106.001263   \n",
       "std      22.532146      0.297209       0.230037          45.049641   \n",
       "min       0.080000      0.000000       0.000000          55.120000   \n",
       "25%      26.000000      0.000000       0.000000          77.292500   \n",
       "50%      45.000000      0.000000       0.000000          91.990000   \n",
       "75%      61.000000      0.000000       0.000000         113.830000   \n",
       "max      82.000000      1.000000       1.000000         271.740000   \n",
       "\n",
       "               bmi       stroke  gender_Female  gender_Male  ever_married_No  \\\n",
       "count  4086.000000  4086.000000    4086.000000  4086.000000      4086.000000   \n",
       "mean     27.799462     0.048703       0.586882     0.413118         0.342633   \n",
       "std       9.509059     0.215273       0.492454     0.492454         0.474648   \n",
       "min       0.000000     0.000000       0.000000     0.000000         0.000000   \n",
       "25%      23.000000     0.000000       0.000000     0.000000         0.000000   \n",
       "50%      27.700000     0.000000       1.000000     0.000000         0.000000   \n",
       "75%      32.800000     0.000000       1.000000     1.000000         1.000000   \n",
       "max      97.600000     1.000000       1.000000     1.000000         1.000000   \n",
       "\n",
       "       ever_married_Yes  ...  work_type_Self-employed  work_type_children  \\\n",
       "count       4086.000000  ...               4086.00000         4086.000000   \n",
       "mean           0.657367  ...                  0.16324            0.132648   \n",
       "std            0.474648  ...                  0.36963            0.339235   \n",
       "min            0.000000  ...                  0.00000            0.000000   \n",
       "25%            0.000000  ...                  0.00000            0.000000   \n",
       "50%            1.000000  ...                  0.00000            0.000000   \n",
       "75%            1.000000  ...                  0.00000            0.000000   \n",
       "max            1.000000  ...                  1.00000            1.000000   \n",
       "\n",
       "       Residence_type_Rural  Residence_type_Urban  smoking_status_Unknown  \\\n",
       "count           4086.000000           4086.000000             4086.000000   \n",
       "mean               0.497797              0.502203                0.303720   \n",
       "std                0.500056              0.500056                0.459919   \n",
       "min                0.000000              0.000000                0.000000   \n",
       "25%                0.000000              0.000000                0.000000   \n",
       "50%                0.000000              1.000000                0.000000   \n",
       "75%                1.000000              1.000000                1.000000   \n",
       "max                1.000000              1.000000                1.000000   \n",
       "\n",
       "       smoking_status_formerly smoked  smoking_status_never smoked  \\\n",
       "count                     4086.000000                  4086.000000   \n",
       "mean                         0.170827                     0.368331   \n",
       "std                          0.376404                     0.482411   \n",
       "min                          0.000000                     0.000000   \n",
       "25%                          0.000000                     0.000000   \n",
       "50%                          0.000000                     0.000000   \n",
       "75%                          0.000000                     1.000000   \n",
       "max                          1.000000                     1.000000   \n",
       "\n",
       "       smoking_status_smokes  log_avg_glucose_level       bmi_NA  \n",
       "count            4086.000000            4086.000000  4086.000000  \n",
       "mean                0.157122               4.591664     0.038913  \n",
       "std                 0.363960               0.360563     0.193412  \n",
       "min                 0.000000               4.009513     0.000000  \n",
       "25%                 0.000000               4.347597     0.000000  \n",
       "50%                 0.000000               4.521680     0.000000  \n",
       "75%                 0.000000               4.734706     0.000000  \n",
       "max                 1.000000               5.604846     1.000000  \n",
       "\n",
       "[8 rows x 23 columns]"
      ]
     },
     "execution_count": 27,
     "metadata": {},
     "output_type": "execute_result"
    }
   ],
   "source": [
    "df_train.describe()"
   ]
  },
  {
   "cell_type": "code",
   "execution_count": 28,
   "metadata": {},
   "outputs": [
    {
     "name": "stdout",
     "output_type": "stream",
     "text": [
      "Number of entries for each categorical class\n",
      "hypertension: 400\n",
      "heart_disease: 229\n",
      "stroke: 199\n",
      "gender_Female: 2398\n",
      "gender_Male: 1688\n",
      "ever_married_No: 1400\n",
      "ever_married_Yes: 2686\n",
      "work_type_Govt_job: 534\n",
      "work_type_Never_worked: 15\n",
      "work_type_Private: 2328\n",
      "work_type_Self-employed: 667\n",
      "work_type_children: 542\n",
      "Residence_type_Rural: 2034\n",
      "Residence_type_Urban: 2052\n",
      "smoking_status_Unknown: 1241\n",
      "smoking_status_formerly smoked: 698\n",
      "smoking_status_never smoked: 1505\n",
      "smoking_status_smokes: 642\n",
      "bmi_NA: 159\n"
     ]
    }
   ],
   "source": [
    "categorical_vars = [c for c in df_train.columns if df_train[c].dtype=='int64']\n",
    "print(\"Number of entries for each categorical class\")\n",
    "for col in categorical_vars:\n",
    "    print(f'{col}: {df_train[col].sum()}')"
   ]
  },
  {
   "cell_type": "markdown",
   "metadata": {},
   "source": [
    "In order to gain a better understanding of the distribution of our data, we can look at larger versions of the previous histograms. This allows us to easily pick out key features of our training data. "
   ]
  },
  {
   "cell_type": "code",
   "execution_count": 29,
   "metadata": {},
   "outputs": [
    {
     "data": {
      "image/png": "[encoded data removed]",
      "text/plain": [
       "<Figure size 432x288 with 1 Axes>"
      ]
     },
     "metadata": {
      "needs_background": "light"
     },
     "output_type": "display_data"
    },
    {
     "data": {
      "image/png": "[encoded data removed]",
      "text/plain": [
       "<Figure size 432x288 with 1 Axes>"
      ]
     },
     "metadata": {
      "needs_background": "light"
     },
     "output_type": "display_data"
    },
    {
     "data": {
      "image/png": "[encoded data removed]",
      "text/plain": [
       "<Figure size 432x288 with 1 Axes>"
      ]
     },
     "metadata": {
      "needs_background": "light"
     },
     "output_type": "display_data"
    },
    {
     "data": {
      "image/png": "[encoded data removed]",
      "text/plain": [
       "<Figure size 432x288 with 1 Axes>"
      ]
     },
     "metadata": {
      "needs_background": "light"
     },
     "output_type": "display_data"
    }
   ],
   "source": [
    "numerical_vars = [c for c in df_train.columns if df_train[c].dtype=='float64']\n",
    "for col in numerical_vars:\n",
    "    sns.histplot(df_train, x=col)\n",
    "    plt.show()"
   ]
  },
  {
   "cell_type": "markdown",
   "metadata": {},
   "source": [
    "Here, we can see the nans for bmi very clearly, and the impact of the log transformation on average glucose level. Since the average glucose level for adults without diabetes is 70 to 100, it can be assumed that the vast majority of patients in this data set are not diabetic. Age is relatively evenly distributed, but the uptick in 80+ patients should be noted. "
   ]
  },
  {
   "cell_type": "markdown",
   "metadata": {},
   "source": [
    "Next, we can visualize the outputs for the model. We have included both a histogram and a kernel density plot. "
   ]
  },
  {
   "cell_type": "code",
   "execution_count": 30,
   "metadata": {},
   "outputs": [
    {
     "data": {
      "text/plain": [
       "<matplotlib.legend.Legend at 0x7f1c4a1d4040>"
      ]
     },
     "execution_count": 30,
     "metadata": {},
     "output_type": "execute_result"
    },
    {
     "data": {
      "image/png": "[encoded data removed]",
      "text/plain": [
       "<Figure size 432x288 with 1 Axes>"
      ]
     },
     "metadata": {
      "needs_background": "light"
     },
     "output_type": "display_data"
    }
   ],
   "source": [
    "plt.hist(y_hat, bins=100, label=\"Predicted Values\")\n",
    "plt.hist(y_test, label=\"Actual Values\")\n",
    "plt.xlabel(\"Stroke Value\")\n",
    "plt.ylabel(\"Count\")\n",
    "plt.legend()"
   ]
  },
  {
   "cell_type": "code",
   "execution_count": 31,
   "metadata": {},
   "outputs": [
    {
     "data": {
      "text/plain": [
       "<matplotlib.legend.Legend at 0x7f1c4a360a90>"
      ]
     },
     "execution_count": 31,
     "metadata": {},
     "output_type": "execute_result"
    },
    {
     "data": {
      "image/png": "[encoded data removed]",
      "text/plain": [
       "<Figure size 432x288 with 1 Axes>"
      ]
     },
     "metadata": {
      "needs_background": "light"
     },
     "output_type": "display_data"
    }
   ],
   "source": [
    "import seaborn as sns\n",
    "sns.kdeplot(data=y_hat, label=\"Predicted\")\n",
    "sns.kdeplot(data=y_test, label=\"Actual\")\n",
    "plt.legend()"
   ]
  },
  {
   "cell_type": "markdown",
   "metadata": {},
   "source": [
    "## Conclusion: Summary, Defense, and Suggestions for Future Research "
   ]
  },
  {
   "cell_type": "markdown",
   "metadata": {},
   "source": [
    "While our model did not perform as accurately as possible, it still gave us some valuable insight on the factors that influence stroke. Age had a significant impact on the likelihood of stroke, and older patients are more susceptible. Additionally, people with an above average bmi (higher than 25) were more likely to experience a stroke. Smoking, diabetes, and many of the categorical variables were not found to have a significant impact on the likelihood of a stroke. \n",
    "\n",
    "According to this scatterplot, our model did a better job at predicting a stroke that actually happened, and it did worse with patients who did not have a stroke. This means it is more likely to predict a stroke that did not happen than to miss a stroke that did happen. \n"
   ]
  },
  {
   "cell_type": "code",
   "execution_count": 32,
   "metadata": {},
   "outputs": [
    {
     "data": {
      "text/plain": [
       "Text(0.5, 0, 'Predicted Stroke Value')"
      ]
     },
     "execution_count": 32,
     "metadata": {},
     "output_type": "execute_result"
    },
    {
     "data": {
      "image/png": "[encoded data removed]",
      "text/plain": [
       "<Figure size 432x288 with 1 Axes>"
      ]
     },
     "metadata": {
      "needs_background": "light"
     },
     "output_type": "display_data"
    }
   ],
   "source": [
    "plt.scatter(y_hat, y_test)\n",
    "plt.ylabel(\"True Value\")\n",
    "plt.xlabel(\"Predicted Stroke Value\")"
   ]
  },
  {
   "cell_type": "markdown",
   "metadata": {},
   "source": [
    "This project was completed by UVA students under the school of data science, and it should not be used for medical purposes. The overfitting of our model could cause problematic medical practices if it used for patient care. Our most significant finding indicates that people over 50 are more likely to experience a stroke, and people aged 90-100 have the highest risk. This coincides with the [CDC’s guidelines](https://www.cdc.gov/stroke/risk_factors.htm#:~:text=Family%20Health%20Portrait.-,Age,65%20years%20also%20have%20strokes.) for risk of stroke. According to the CDC, the chance of stroke doubles every 10 years after the age of 55. "
   ]
  },
  {
   "cell_type": "markdown",
   "metadata": {},
   "source": [
    "The allotted time frame for this project did not allow us to create the perfect model for prediction of stroke, but we have some suggestions for further methods to use outside of this project. Something that might be beneficial in the future is to use K means clustering to cluster the data and apply a linear model to each cluster. This might be more helpful to researchers because it creates clusters of similar data points and finds trends amongst these groups. "
   ]
  }
 ],
 "metadata": {
  "colab": {
   "provenance": []
  },
  "kernelspec": {
   "display_name": "Python 3",
   "language": "python",
   "name": "python3"
  },
  "language_info": {
   "codemirror_mode": {
    "name": "ipython",
    "version": 3
   },
   "file_extension": ".py",
   "mimetype": "text/x-python",
   "name": "python",
   "nbconvert_exporter": "python",
   "pygments_lexer": "ipython3",
   "version": "3.8.8"
  }
 },
 "nbformat": 4,
 "nbformat_minor": 5
}

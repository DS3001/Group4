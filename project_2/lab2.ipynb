{
  "cells": [
    {
      "cell_type": "markdown",
      "id": "08c1029c-19c9-4edd-8a96-017f70d8ed39",
      "metadata": {
        "id": "08c1029c-19c9-4edd-8a96-017f70d8ed39"
      },
      "source": [
        "## Programming Lab #2\n",
        "## Foundations of Machine Learning\n",
        "\n",
        "The purpose of this project is to build predictive algorithms that predict the likelihood a person has a stroke. The data include:\n",
        "  \n",
        "  - `age`: Patient age, numeric\n",
        "  - `avg_glucose_level`: Blood sugar levels, numeric\n",
        "  - `bmi`: Body mass index, numeric\n",
        "  - `ever_married`: Ever married, dummy/character (Yes, No)\n",
        "  - `gender`: Male, Female, or Other, character\n",
        "  - `heart_disease`: Has heart disease, dummy\n",
        "  - `hypertension`: Has hypertension, dummy\n",
        "  - `id`: Study identification number\n",
        "  - `Residence_type`: Type of residence, dummy/character (Urban, Rural)\n",
        "  - `smoking_status`: Former, never, or current smoker, categorical\n",
        "  - `work_type`: Employment type (Never worked (Never_worked), homemaker (\"children\"), Public sector employment (Govt_job), Private sector employment (`Private`), Self-employed (`Self-employed`)\n",
        "  - `stroke`: Suffered a stroke in the sample period\n",
        "  \n",
        "The data come in two files: `training_data.csv`, which you should use to build your models, and `testing_data.csv`, which you should use to test your models. The models must be trained on the training data and tested on the testing data, but providing both files allows you to experiment with your choices and iterate on model designs. If performance drops on the testing data, you know there's a problem.\n",
        "  \n",
        "You can use any of the tools presented in class: $k$ nearest neighbor, linear models, or decision trees. In principle, $k$ means clustering might also be helpful for looking for patterns in the data that the other methods might miss. Using canned versions of more advanced tools (boosting, bagging, random forests, neural networks, etc.) is deeply unsporting and thus not allowed. You can be creative about transforming variables, or combining decision trees with linear models or $k$NN. Try something interesting. Fail extravagantly. The goal is to work on an intellectually interesting question that is similar to the tasks that data scientists are called on to do every day.\n",
        "  \n",
        "We will compare the groups' models to see if there are common trends or significant differences, and also to declare **The Winners** on the basis of whichever team achieves the lowest $RMSE$ on the testing data. A simple linear model with some polynomials and dummy variables achieves an $R^2$ of .087 and a $RMSE$ of .206."
      ]
    },
    {
      "cell_type": "code",
      "source": [
        "!git clone https://github.com/DS3001/Group4.git"
      ],
      "metadata": {
        "colab": {
          "base_uri": "https://localhost:8080/"
        },
        "id": "FxEiKTgQUry3",
        "outputId": "d1058d9f-517f-48c2-a819-8fdf453e4cce"
      },
      "id": "FxEiKTgQUry3",
      "execution_count": 1,
      "outputs": [
        {
          "output_type": "stream",
          "name": "stdout",
          "text": [
            "Cloning into 'Group4'...\n",
            "remote: Enumerating objects: 50, done.\u001b[K\n",
            "remote: Counting objects: 100% (50/50), done.\u001b[K\n",
            "remote: Compressing objects: 100% (38/38), done.\u001b[K\n",
            "remote: Total 50 (delta 18), reused 34 (delta 11), pack-reused 0\u001b[K\n",
            "Receiving objects: 100% (50/50), 946.97 KiB | 16.05 MiB/s, done.\n",
            "Resolving deltas: 100% (18/18), done.\n"
          ]
        }
      ]
    },
    {
      "cell_type": "code",
      "source": [
        "import pandas as pd\n",
        "import numpy as np"
      ],
      "metadata": {
        "id": "m1MPff0gUlTe"
      },
      "id": "m1MPff0gUlTe",
      "execution_count": 2,
      "outputs": []
    },
    {
      "cell_type": "code",
      "execution_count": 3,
      "id": "2e54036f-f8be-4f4e-a122-870c06c52627",
      "metadata": {
        "id": "2e54036f-f8be-4f4e-a122-870c06c52627"
      },
      "outputs": [],
      "source": [
        "df_train = pd.read_csv('./Group4/project_2/data/cleaned_training_data.csv')\n",
        "df_test = pd.read_csv('./Group4/project_2/data/cleaned_testing_data.csv')"
      ]
    },
    {
      "cell_type": "code",
      "source": [
        "df_train.head()"
      ],
      "metadata": {
        "colab": {
          "base_uri": "https://localhost:8080/",
          "height": 272
        },
        "id": "JxDTLbAxVHeU",
        "outputId": "28a71da5-3e33-4eb3-c7a8-ca6cce2920c3"
      },
      "id": "JxDTLbAxVHeU",
      "execution_count": 4,
      "outputs": [
        {
          "output_type": "execute_result",
          "data": {
            "text/plain": [
              "    age  hypertension  heart_disease  avg_glucose_level   bmi  stroke  \\\n",
              "0  36.0             0              0              65.87  32.2       0   \n",
              "1  45.0             0              0              68.66  25.3       0   \n",
              "2  58.0             0              0             170.93  30.7       0   \n",
              "3  61.0             0              0              69.88  27.1       0   \n",
              "4  78.0             0              0             103.86  30.6       0   \n",
              "\n",
              "   gender_Female  gender_Male  ever_married_No  ever_married_Yes  ...  \\\n",
              "0              0            1                0                 1  ...   \n",
              "1              1            0                0                 1  ...   \n",
              "2              0            1                1                 0  ...   \n",
              "3              1            0                0                 1  ...   \n",
              "4              1            0                1                 0  ...   \n",
              "\n",
              "   work_type_Self-employed  work_type_children  Residence_type_Rural  \\\n",
              "0                        0                   0                     0   \n",
              "1                        0                   0                     1   \n",
              "2                        1                   0                     1   \n",
              "3                        1                   0                     0   \n",
              "4                        0                   0                     0   \n",
              "\n",
              "   Residence_type_Urban  smoking_status_Unknown  \\\n",
              "0                     1                       0   \n",
              "1                     0                       0   \n",
              "2                     0                       1   \n",
              "3                     1                       0   \n",
              "4                     1                       1   \n",
              "\n",
              "   smoking_status_formerly smoked  smoking_status_never smoked  \\\n",
              "0                               1                            0   \n",
              "1                               0                            1   \n",
              "2                               0                            0   \n",
              "3                               0                            1   \n",
              "4                               0                            0   \n",
              "\n",
              "   smoking_status_smokes  log_avg_glucose_level  bmi_NA  \n",
              "0                      0               4.187683       0  \n",
              "1                      0               4.229167       0  \n",
              "2                      0               5.141254       0  \n",
              "3                      0               4.246779       0  \n",
              "4                      0               4.643044       0  \n",
              "\n",
              "[5 rows x 23 columns]"
            ],
            "text/html": [
              "\n",
              "  <div id=\"df-f5176fec-fe4a-4080-b47a-d01d48e97e46\" class=\"colab-df-container\">\n",
              "    <div>\n",
              "<style scoped>\n",
              "    .dataframe tbody tr th:only-of-type {\n",
              "        vertical-align: middle;\n",
              "    }\n",
              "\n",
              "    .dataframe tbody tr th {\n",
              "        vertical-align: top;\n",
              "    }\n",
              "\n",
              "    .dataframe thead th {\n",
              "        text-align: right;\n",
              "    }\n",
              "</style>\n",
              "<table border=\"1\" class=\"dataframe\">\n",
              "  <thead>\n",
              "    <tr style=\"text-align: right;\">\n",
              "      <th></th>\n",
              "      <th>age</th>\n",
              "      <th>hypertension</th>\n",
              "      <th>heart_disease</th>\n",
              "      <th>avg_glucose_level</th>\n",
              "      <th>bmi</th>\n",
              "      <th>stroke</th>\n",
              "      <th>gender_Female</th>\n",
              "      <th>gender_Male</th>\n",
              "      <th>ever_married_No</th>\n",
              "      <th>ever_married_Yes</th>\n",
              "      <th>...</th>\n",
              "      <th>work_type_Self-employed</th>\n",
              "      <th>work_type_children</th>\n",
              "      <th>Residence_type_Rural</th>\n",
              "      <th>Residence_type_Urban</th>\n",
              "      <th>smoking_status_Unknown</th>\n",
              "      <th>smoking_status_formerly smoked</th>\n",
              "      <th>smoking_status_never smoked</th>\n",
              "      <th>smoking_status_smokes</th>\n",
              "      <th>log_avg_glucose_level</th>\n",
              "      <th>bmi_NA</th>\n",
              "    </tr>\n",
              "  </thead>\n",
              "  <tbody>\n",
              "    <tr>\n",
              "      <th>0</th>\n",
              "      <td>36.0</td>\n",
              "      <td>0</td>\n",
              "      <td>0</td>\n",
              "      <td>65.87</td>\n",
              "      <td>32.2</td>\n",
              "      <td>0</td>\n",
              "      <td>0</td>\n",
              "      <td>1</td>\n",
              "      <td>0</td>\n",
              "      <td>1</td>\n",
              "      <td>...</td>\n",
              "      <td>0</td>\n",
              "      <td>0</td>\n",
              "      <td>0</td>\n",
              "      <td>1</td>\n",
              "      <td>0</td>\n",
              "      <td>1</td>\n",
              "      <td>0</td>\n",
              "      <td>0</td>\n",
              "      <td>4.187683</td>\n",
              "      <td>0</td>\n",
              "    </tr>\n",
              "    <tr>\n",
              "      <th>1</th>\n",
              "      <td>45.0</td>\n",
              "      <td>0</td>\n",
              "      <td>0</td>\n",
              "      <td>68.66</td>\n",
              "      <td>25.3</td>\n",
              "      <td>0</td>\n",
              "      <td>1</td>\n",
              "      <td>0</td>\n",
              "      <td>0</td>\n",
              "      <td>1</td>\n",
              "      <td>...</td>\n",
              "      <td>0</td>\n",
              "      <td>0</td>\n",
              "      <td>1</td>\n",
              "      <td>0</td>\n",
              "      <td>0</td>\n",
              "      <td>0</td>\n",
              "      <td>1</td>\n",
              "      <td>0</td>\n",
              "      <td>4.229167</td>\n",
              "      <td>0</td>\n",
              "    </tr>\n",
              "    <tr>\n",
              "      <th>2</th>\n",
              "      <td>58.0</td>\n",
              "      <td>0</td>\n",
              "      <td>0</td>\n",
              "      <td>170.93</td>\n",
              "      <td>30.7</td>\n",
              "      <td>0</td>\n",
              "      <td>0</td>\n",
              "      <td>1</td>\n",
              "      <td>1</td>\n",
              "      <td>0</td>\n",
              "      <td>...</td>\n",
              "      <td>1</td>\n",
              "      <td>0</td>\n",
              "      <td>1</td>\n",
              "      <td>0</td>\n",
              "      <td>1</td>\n",
              "      <td>0</td>\n",
              "      <td>0</td>\n",
              "      <td>0</td>\n",
              "      <td>5.141254</td>\n",
              "      <td>0</td>\n",
              "    </tr>\n",
              "    <tr>\n",
              "      <th>3</th>\n",
              "      <td>61.0</td>\n",
              "      <td>0</td>\n",
              "      <td>0</td>\n",
              "      <td>69.88</td>\n",
              "      <td>27.1</td>\n",
              "      <td>0</td>\n",
              "      <td>1</td>\n",
              "      <td>0</td>\n",
              "      <td>0</td>\n",
              "      <td>1</td>\n",
              "      <td>...</td>\n",
              "      <td>1</td>\n",
              "      <td>0</td>\n",
              "      <td>0</td>\n",
              "      <td>1</td>\n",
              "      <td>0</td>\n",
              "      <td>0</td>\n",
              "      <td>1</td>\n",
              "      <td>0</td>\n",
              "      <td>4.246779</td>\n",
              "      <td>0</td>\n",
              "    </tr>\n",
              "    <tr>\n",
              "      <th>4</th>\n",
              "      <td>78.0</td>\n",
              "      <td>0</td>\n",
              "      <td>0</td>\n",
              "      <td>103.86</td>\n",
              "      <td>30.6</td>\n",
              "      <td>0</td>\n",
              "      <td>1</td>\n",
              "      <td>0</td>\n",
              "      <td>1</td>\n",
              "      <td>0</td>\n",
              "      <td>...</td>\n",
              "      <td>0</td>\n",
              "      <td>0</td>\n",
              "      <td>0</td>\n",
              "      <td>1</td>\n",
              "      <td>1</td>\n",
              "      <td>0</td>\n",
              "      <td>0</td>\n",
              "      <td>0</td>\n",
              "      <td>4.643044</td>\n",
              "      <td>0</td>\n",
              "    </tr>\n",
              "  </tbody>\n",
              "</table>\n",
              "<p>5 rows × 23 columns</p>\n",
              "</div>\n",
              "    <div class=\"colab-df-buttons\">\n",
              "\n",
              "  <div class=\"colab-df-container\">\n",
              "    <button class=\"colab-df-convert\" onclick=\"convertToInteractive('df-f5176fec-fe4a-4080-b47a-d01d48e97e46')\"\n",
              "            title=\"Convert this dataframe to an interactive table.\"\n",
              "            style=\"display:none;\">\n",
              "\n",
              "  <svg xmlns=\"http://www.w3.org/2000/svg\" height=\"24px\" viewBox=\"0 -960 960 960\">\n",
              "    <path d=\"M120-120v-720h720v720H120Zm60-500h600v-160H180v160Zm220 220h160v-160H400v160Zm0 220h160v-160H400v160ZM180-400h160v-160H180v160Zm440 0h160v-160H620v160ZM180-180h160v-160H180v160Zm440 0h160v-160H620v160Z\"/>\n",
              "  </svg>\n",
              "    </button>\n",
              "\n",
              "  <style>\n",
              "    .colab-df-container {\n",
              "      display:flex;\n",
              "      gap: 12px;\n",
              "    }\n",
              "\n",
              "    .colab-df-convert {\n",
              "      background-color: #E8F0FE;\n",
              "      border: none;\n",
              "      border-radius: 50%;\n",
              "      cursor: pointer;\n",
              "      display: none;\n",
              "      fill: #1967D2;\n",
              "      height: 32px;\n",
              "      padding: 0 0 0 0;\n",
              "      width: 32px;\n",
              "    }\n",
              "\n",
              "    .colab-df-convert:hover {\n",
              "      background-color: #E2EBFA;\n",
              "      box-shadow: 0px 1px 2px rgba(60, 64, 67, 0.3), 0px 1px 3px 1px rgba(60, 64, 67, 0.15);\n",
              "      fill: #174EA6;\n",
              "    }\n",
              "\n",
              "    .colab-df-buttons div {\n",
              "      margin-bottom: 4px;\n",
              "    }\n",
              "\n",
              "    [theme=dark] .colab-df-convert {\n",
              "      background-color: #3B4455;\n",
              "      fill: #D2E3FC;\n",
              "    }\n",
              "\n",
              "    [theme=dark] .colab-df-convert:hover {\n",
              "      background-color: #434B5C;\n",
              "      box-shadow: 0px 1px 3px 1px rgba(0, 0, 0, 0.15);\n",
              "      filter: drop-shadow(0px 1px 2px rgba(0, 0, 0, 0.3));\n",
              "      fill: #FFFFFF;\n",
              "    }\n",
              "  </style>\n",
              "\n",
              "    <script>\n",
              "      const buttonEl =\n",
              "        document.querySelector('#df-f5176fec-fe4a-4080-b47a-d01d48e97e46 button.colab-df-convert');\n",
              "      buttonEl.style.display =\n",
              "        google.colab.kernel.accessAllowed ? 'block' : 'none';\n",
              "\n",
              "      async function convertToInteractive(key) {\n",
              "        const element = document.querySelector('#df-f5176fec-fe4a-4080-b47a-d01d48e97e46');\n",
              "        const dataTable =\n",
              "          await google.colab.kernel.invokeFunction('convertToInteractive',\n",
              "                                                    [key], {});\n",
              "        if (!dataTable) return;\n",
              "\n",
              "        const docLinkHtml = 'Like what you see? Visit the ' +\n",
              "          '<a target=\"_blank\" href=https://colab.research.google.com/notebooks/data_table.ipynb>data table notebook</a>'\n",
              "          + ' to learn more about interactive tables.';\n",
              "        element.innerHTML = '';\n",
              "        dataTable['output_type'] = 'display_data';\n",
              "        await google.colab.output.renderOutput(dataTable, element);\n",
              "        const docLink = document.createElement('div');\n",
              "        docLink.innerHTML = docLinkHtml;\n",
              "        element.appendChild(docLink);\n",
              "      }\n",
              "    </script>\n",
              "  </div>\n",
              "\n",
              "\n",
              "<div id=\"df-2f4ad5c8-1901-4c7f-8591-bf02c0b0f000\">\n",
              "  <button class=\"colab-df-quickchart\" onclick=\"quickchart('df-2f4ad5c8-1901-4c7f-8591-bf02c0b0f000')\"\n",
              "            title=\"Suggest charts\"\n",
              "            style=\"display:none;\">\n",
              "\n",
              "<svg xmlns=\"http://www.w3.org/2000/svg\" height=\"24px\"viewBox=\"0 0 24 24\"\n",
              "     width=\"24px\">\n",
              "    <g>\n",
              "        <path d=\"M19 3H5c-1.1 0-2 .9-2 2v14c0 1.1.9 2 2 2h14c1.1 0 2-.9 2-2V5c0-1.1-.9-2-2-2zM9 17H7v-7h2v7zm4 0h-2V7h2v10zm4 0h-2v-4h2v4z\"/>\n",
              "    </g>\n",
              "</svg>\n",
              "  </button>\n",
              "\n",
              "<style>\n",
              "  .colab-df-quickchart {\n",
              "      --bg-color: #E8F0FE;\n",
              "      --fill-color: #1967D2;\n",
              "      --hover-bg-color: #E2EBFA;\n",
              "      --hover-fill-color: #174EA6;\n",
              "      --disabled-fill-color: #AAA;\n",
              "      --disabled-bg-color: #DDD;\n",
              "  }\n",
              "\n",
              "  [theme=dark] .colab-df-quickchart {\n",
              "      --bg-color: #3B4455;\n",
              "      --fill-color: #D2E3FC;\n",
              "      --hover-bg-color: #434B5C;\n",
              "      --hover-fill-color: #FFFFFF;\n",
              "      --disabled-bg-color: #3B4455;\n",
              "      --disabled-fill-color: #666;\n",
              "  }\n",
              "\n",
              "  .colab-df-quickchart {\n",
              "    background-color: var(--bg-color);\n",
              "    border: none;\n",
              "    border-radius: 50%;\n",
              "    cursor: pointer;\n",
              "    display: none;\n",
              "    fill: var(--fill-color);\n",
              "    height: 32px;\n",
              "    padding: 0;\n",
              "    width: 32px;\n",
              "  }\n",
              "\n",
              "  .colab-df-quickchart:hover {\n",
              "    background-color: var(--hover-bg-color);\n",
              "    box-shadow: 0 1px 2px rgba(60, 64, 67, 0.3), 0 1px 3px 1px rgba(60, 64, 67, 0.15);\n",
              "    fill: var(--button-hover-fill-color);\n",
              "  }\n",
              "\n",
              "  .colab-df-quickchart-complete:disabled,\n",
              "  .colab-df-quickchart-complete:disabled:hover {\n",
              "    background-color: var(--disabled-bg-color);\n",
              "    fill: var(--disabled-fill-color);\n",
              "    box-shadow: none;\n",
              "  }\n",
              "\n",
              "  .colab-df-spinner {\n",
              "    border: 2px solid var(--fill-color);\n",
              "    border-color: transparent;\n",
              "    border-bottom-color: var(--fill-color);\n",
              "    animation:\n",
              "      spin 1s steps(1) infinite;\n",
              "  }\n",
              "\n",
              "  @keyframes spin {\n",
              "    0% {\n",
              "      border-color: transparent;\n",
              "      border-bottom-color: var(--fill-color);\n",
              "      border-left-color: var(--fill-color);\n",
              "    }\n",
              "    20% {\n",
              "      border-color: transparent;\n",
              "      border-left-color: var(--fill-color);\n",
              "      border-top-color: var(--fill-color);\n",
              "    }\n",
              "    30% {\n",
              "      border-color: transparent;\n",
              "      border-left-color: var(--fill-color);\n",
              "      border-top-color: var(--fill-color);\n",
              "      border-right-color: var(--fill-color);\n",
              "    }\n",
              "    40% {\n",
              "      border-color: transparent;\n",
              "      border-right-color: var(--fill-color);\n",
              "      border-top-color: var(--fill-color);\n",
              "    }\n",
              "    60% {\n",
              "      border-color: transparent;\n",
              "      border-right-color: var(--fill-color);\n",
              "    }\n",
              "    80% {\n",
              "      border-color: transparent;\n",
              "      border-right-color: var(--fill-color);\n",
              "      border-bottom-color: var(--fill-color);\n",
              "    }\n",
              "    90% {\n",
              "      border-color: transparent;\n",
              "      border-bottom-color: var(--fill-color);\n",
              "    }\n",
              "  }\n",
              "</style>\n",
              "\n",
              "  <script>\n",
              "    async function quickchart(key) {\n",
              "      const quickchartButtonEl =\n",
              "        document.querySelector('#' + key + ' button');\n",
              "      quickchartButtonEl.disabled = true;  // To prevent multiple clicks.\n",
              "      quickchartButtonEl.classList.add('colab-df-spinner');\n",
              "      try {\n",
              "        const charts = await google.colab.kernel.invokeFunction(\n",
              "            'suggestCharts', [key], {});\n",
              "      } catch (error) {\n",
              "        console.error('Error during call to suggestCharts:', error);\n",
              "      }\n",
              "      quickchartButtonEl.classList.remove('colab-df-spinner');\n",
              "      quickchartButtonEl.classList.add('colab-df-quickchart-complete');\n",
              "    }\n",
              "    (() => {\n",
              "      let quickchartButtonEl =\n",
              "        document.querySelector('#df-2f4ad5c8-1901-4c7f-8591-bf02c0b0f000 button');\n",
              "      quickchartButtonEl.style.display =\n",
              "        google.colab.kernel.accessAllowed ? 'block' : 'none';\n",
              "    })();\n",
              "  </script>\n",
              "</div>\n",
              "    </div>\n",
              "  </div>\n"
            ]
          },
          "metadata": {},
          "execution_count": 4
        }
      ]
    },
    {
      "cell_type": "code",
      "source": [
        "y_train = df_train['stroke']\n",
        "X_train = df_train.drop('stroke',axis=1)\n",
        "y_test = df_test['stroke']\n",
        "X_test = df_test.drop('stroke',axis=1)"
      ],
      "metadata": {
        "id": "Qj3df48PU7_e"
      },
      "id": "Qj3df48PU7_e",
      "execution_count": 5,
      "outputs": []
    },
    {
      "cell_type": "markdown",
      "source": [
        "### Decision Tree with Linear Models at Root Nodes"
      ],
      "metadata": {
        "id": "7wrfDaIMdiWJ"
      },
      "id": "7wrfDaIMdiWJ"
    },
    {
      "cell_type": "markdown",
      "source": [
        "I would like to combine linear models with decision trees or another method. My idea is to implement the \"linear tree\" strategy, where you run a decision tree, but instead of having a fixed value as the output of each node, you fit a linear model on all the samples that comprise that node."
      ],
      "metadata": {
        "id": "Z_6x_S71dp76"
      },
      "id": "Z_6x_S71dp76"
    },
    {
      "cell_type": "markdown",
      "source": [
        "#### Decision Tree Creation"
      ],
      "metadata": {
        "id": "HtGutLanESBL"
      },
      "id": "HtGutLanESBL"
    },
    {
      "cell_type": "markdown",
      "source": [
        "First, I'll train the decision tree. I've read that a good max depth is about log_2(number of attributes), which is log_2(22), which is about 4.4. So, I'll try a max depth of 4."
      ],
      "metadata": {
        "id": "ThG80pQGd-qn"
      },
      "id": "ThG80pQGd-qn"
    },
    {
      "cell_type": "code",
      "source": [
        "from sklearn import tree\n",
        "from sklearn.linear_model import LinearRegression\n",
        "import matplotlib.pyplot as plt"
      ],
      "metadata": {
        "id": "IC9IFNO5d-aD"
      },
      "id": "IC9IFNO5d-aD",
      "execution_count": 6,
      "outputs": []
    },
    {
      "cell_type": "code",
      "source": [
        "dtr_model = tree.DecisionTreeRegressor(max_depth=4)\n",
        "dtr = dtr_model.fit(X_train, y_train)"
      ],
      "metadata": {
        "id": "Qku4lGPthmln"
      },
      "id": "Qku4lGPthmln",
      "execution_count": 7,
      "outputs": []
    },
    {
      "cell_type": "code",
      "source": [
        "tree.plot_tree(dtr,filled=True)\n",
        "plt.show()"
      ],
      "metadata": {
        "colab": {
          "base_uri": "https://localhost:8080/",
          "height": 406
        },
        "id": "B_4Aw1o3hooo",
        "outputId": "c2a065b9-e656-4acb-94a9-1438e725d4a3"
      },
      "id": "B_4Aw1o3hooo",
      "execution_count": 8,
      "outputs": [
        {
          "output_type": "display_data",
          "data": {
            "text/plain": [
              "<Figure size 640x480 with 1 Axes>"
            ],
            "image/png": "[encoded data removed]"
          },
          "metadata": {}
        }
      ]
    },
    {
      "cell_type": "markdown",
      "source": [
        "#### Linear Model Creation"
      ],
      "metadata": {
        "id": "CZkgYSWzEVnX"
      },
      "id": "CZkgYSWzEVnX"
    },
    {
      "cell_type": "markdown",
      "source": [
        "Next, I'll train a linear model on the samples belonging to each leaf node. I can get the leaf node that each sample ends up at with the `.apply()` function. (I found this information [here](https://stackoverflow.com/questions/45398737/is-there-any-way-to-get-samples-under-each-leaf-of-a-decision-tree))."
      ],
      "metadata": {
        "id": "ViOBh70_eR3y"
      },
      "id": "ViOBh70_eR3y"
    },
    {
      "cell_type": "code",
      "source": [
        "training_leaf_nodes = dtr.apply(X_train)\n",
        "leaf_node_values = np.unique(training_leaf_nodes)\n",
        "print(leaf_node_values)"
      ],
      "metadata": {
        "id": "gKKQN2LViZXW",
        "colab": {
          "base_uri": "https://localhost:8080/"
        },
        "outputId": "011a20b5-3890-42d9-feb5-eb3ab1babb14"
      },
      "id": "gKKQN2LViZXW",
      "execution_count": 9,
      "outputs": [
        {
          "output_type": "stream",
          "name": "stdout",
          "text": [
            "[ 4  5  7  8 11 12 14 15 19 20 22 23 26 27 29 30]\n"
          ]
        }
      ]
    },
    {
      "cell_type": "markdown",
      "source": [
        "I'll make a list of DataFrames, where each DataFrame holds the samples that ended up at a particular leaf node; I'll call each of these groups a \"subpopulation\". I'll also make a corresponding list with the y values for each subpopulation."
      ],
      "metadata": {
        "id": "3WOkSABI7i9N"
      },
      "id": "3WOkSABI7i9N"
    },
    {
      "cell_type": "code",
      "source": [
        "def get_leaf_node_samples(leaf_node_value, samples, y, leaf_nodes_for_samples):\n",
        "  indices_of_samples = (leaf_nodes_for_samples == leaf_node_value)\n",
        "  node_samples = samples.loc[indices_of_samples].reset_index().drop(\"index\", axis=1)\n",
        "  node_y = y.loc[indices_of_samples].reset_index().drop(\"index\", axis=1)[\"stroke\"]\n",
        "  return node_samples, node_y"
      ],
      "metadata": {
        "id": "juhyqy9o5PFZ"
      },
      "id": "juhyqy9o5PFZ",
      "execution_count": 10,
      "outputs": []
    },
    {
      "cell_type": "code",
      "source": [
        "subpopulation_dfs = list()\n",
        "subpopulation_ys = list()\n",
        "node_value_to_index = dict()\n",
        "\n",
        "index = 0\n",
        "for leaf_node_value in leaf_node_values:\n",
        "  node_value_to_index[leaf_node_value] = index\n",
        "  subpopulation, subpop_y = get_leaf_node_samples(leaf_node_value, X_train, y_train, training_leaf_nodes)\n",
        "  subpopulation_dfs.append(subpopulation)\n",
        "  subpopulation_ys.append(subpop_y)\n",
        "  index += 1"
      ],
      "metadata": {
        "id": "CkbAhgKN7Zzx"
      },
      "id": "CkbAhgKN7Zzx",
      "execution_count": 11,
      "outputs": []
    },
    {
      "cell_type": "markdown",
      "source": [
        "Next I'll make the linear model for each subpopulation."
      ],
      "metadata": {
        "id": "TkZCYlOS-hdN"
      },
      "id": "TkZCYlOS-hdN"
    },
    {
      "cell_type": "code",
      "source": [
        "def train_linear_model(samples, y):\n",
        "  reg = LinearRegression().fit(samples, y)\n",
        "  return reg"
      ],
      "metadata": {
        "id": "TTfb_Fht86Ed"
      },
      "id": "TTfb_Fht86Ed",
      "execution_count": 12,
      "outputs": []
    },
    {
      "cell_type": "code",
      "source": [
        "def evaluate_linear_model(model, samples, y):\n",
        "  print('R2: ', model.score(samples, y)) # R squared measure\n",
        "  y_hat = model.predict(samples)\n",
        "  N = len(y)\n",
        "  print('RMSE: ', (np.sum( (y - y_hat)**2)/N )**.5, \"\\n\" )   # R squared measure"
      ],
      "metadata": {
        "id": "b6tzvIa2-RKN"
      },
      "id": "b6tzvIa2-RKN",
      "execution_count": 13,
      "outputs": []
    },
    {
      "cell_type": "code",
      "source": [
        "linear_models = list()\n",
        "\n",
        "for i in range(len(subpopulation_dfs)):\n",
        "  model = train_linear_model(subpopulation_dfs[i], subpopulation_ys[i])\n",
        "  evaluate_linear_model(model, subpopulation_dfs[i], subpopulation_ys[i])\n",
        "  linear_models.append(model)"
      ],
      "metadata": {
        "colab": {
          "base_uri": "https://localhost:8080/"
        },
        "id": "pRsn-kuW8w9W",
        "outputId": "9967a0d0-abed-406e-b2c2-e502c0c51da4"
      },
      "id": "pRsn-kuW8w9W",
      "execution_count": 14,
      "outputs": [
        {
          "output_type": "stream",
          "name": "stdout",
          "text": [
            "R2:  0.20472624022953478\n",
            "RMSE:  0.1392292996980344 \n",
            "\n",
            "R2:  0.009417822930377073\n",
            "RMSE:  0.035523035774784495 \n",
            "\n",
            "R2:  0.18961117110526415\n",
            "RMSE:  0.18358205510322825 \n",
            "\n",
            "R2:  0.018087700559798248\n",
            "RMSE:  0.10454182414017002 \n",
            "\n",
            "R2:  0.0400335762581856\n",
            "RMSE:  0.16690683152781227 \n",
            "\n",
            "R2:  0.04239691884109653\n",
            "RMSE:  0.22690748724651535 \n",
            "\n",
            "R2:  1.0\n",
            "RMSE:  7.475135279923368e-16 \n",
            "\n",
            "R2:  0.07892223562767309\n",
            "RMSE:  0.2960308488338074 \n",
            "\n",
            "R2:  1.0\n",
            "RMSE:  7.160723346098896e-16 \n",
            "\n",
            "R2:  0.27518044655749563\n",
            "RMSE:  0.2832524670526873 \n",
            "\n",
            "R2:  0.9725244053301145\n",
            "RMSE:  0.0822287791821825 \n",
            "\n",
            "R2:  0.13427512729084023\n",
            "RMSE:  0.43861521296744826 \n",
            "\n",
            "R2:  0.01764009296839497\n",
            "RMSE:  0.31419143137042765 \n",
            "\n",
            "R2:  0.4353329269347396\n",
            "RMSE:  0.13174544168347663 \n",
            "\n",
            "R2:  0.2006049518550428\n",
            "RMSE:  0.3260226285459082 \n",
            "\n",
            "R2:  0.13894713114112245\n",
            "RMSE:  0.43336609720032065 \n",
            "\n"
          ]
        }
      ]
    },
    {
      "cell_type": "markdown",
      "source": [
        "#### Performance on Test Set"
      ],
      "metadata": {
        "id": "OZtEU03s-Q0H"
      },
      "id": "OZtEU03s-Q0H"
    },
    {
      "cell_type": "markdown",
      "source": [
        "Finally, I'll examine how this combined model does on the test data."
      ],
      "metadata": {
        "id": "-uZiknaAEhYd"
      },
      "id": "-uZiknaAEhYd"
    },
    {
      "cell_type": "markdown",
      "source": [
        "The first step is to identify which leaf node each sample in the test set would be sorted into."
      ],
      "metadata": {
        "id": "FOcoomDbEpMn"
      },
      "id": "FOcoomDbEpMn"
    },
    {
      "cell_type": "code",
      "source": [
        "testing_leaf_nodes = dtr.apply(X_test)"
      ],
      "metadata": {
        "id": "qYii0B-7Emyy"
      },
      "id": "qYii0B-7Emyy",
      "execution_count": 15,
      "outputs": []
    },
    {
      "cell_type": "markdown",
      "source": [
        "Next, I will make a prediction for each test sample based on the linear model corresponding to that sample's leaf node. I'll concatenate all of these predictions into one full `y_hat` vector."
      ],
      "metadata": {
        "id": "9GUGFYAqE4wO"
      },
      "id": "9GUGFYAqE4wO"
    },
    {
      "cell_type": "code",
      "source": [
        "X_test.head()"
      ],
      "metadata": {
        "colab": {
          "base_uri": "https://localhost:8080/",
          "height": 272
        },
        "id": "R3e347VKQMrp",
        "outputId": "b8a1d707-74b7-4102-be34-741fa6be2b99"
      },
      "id": "R3e347VKQMrp",
      "execution_count": 22,
      "outputs": [
        {
          "output_type": "execute_result",
          "data": {
            "text/plain": [
              "    age  hypertension  heart_disease  avg_glucose_level   bmi  gender_Female  \\\n",
              "0  58.0             1              0              87.96  39.2              0   \n",
              "1   8.0             0              0             110.89  17.6              1   \n",
              "2  70.0             0              0              69.04  35.9              1   \n",
              "3  47.0             0              0             210.95  50.1              1   \n",
              "4  74.0             1              0             205.84  54.6              1   \n",
              "\n",
              "   gender_Male  ever_married_No  ever_married_Yes  work_type_Govt_job  ...  \\\n",
              "0            1                0                 1                   0  ...   \n",
              "1            0                1                 0                   0  ...   \n",
              "2            0                0                 1                   0  ...   \n",
              "3            0                0                 1                   0  ...   \n",
              "4            0                0                 1                   0  ...   \n",
              "\n",
              "   work_type_Self-employed  work_type_children  Residence_type_Rural  \\\n",
              "0                        0                   0                     0   \n",
              "1                        0                   0                     0   \n",
              "2                        0                   0                     1   \n",
              "3                        0                   0                     0   \n",
              "4                        1                   0                     0   \n",
              "\n",
              "   Residence_type_Urban  smoking_status_Unknown  \\\n",
              "0                     1                       0   \n",
              "1                     1                       1   \n",
              "2                     0                       0   \n",
              "3                     1                       1   \n",
              "4                     1                       0   \n",
              "\n",
              "   smoking_status_formerly smoked  smoking_status_never smoked  \\\n",
              "0                               0                            1   \n",
              "1                               0                            0   \n",
              "2                               1                            0   \n",
              "3                               0                            0   \n",
              "4                               0                            1   \n",
              "\n",
              "   smoking_status_smokes  log_avg_glucose_level  bmi_NA  \n",
              "0                      0               4.476882       0  \n",
              "1                      0               4.708539       0  \n",
              "2                      0               4.234686       0  \n",
              "3                      0               5.351621       0  \n",
              "4                      0               5.327099       0  \n",
              "\n",
              "[5 rows x 22 columns]"
            ],
            "text/html": [
              "\n",
              "  <div id=\"df-095db3fc-65a0-4169-9f90-430236cb64c2\" class=\"colab-df-container\">\n",
              "    <div>\n",
              "<style scoped>\n",
              "    .dataframe tbody tr th:only-of-type {\n",
              "        vertical-align: middle;\n",
              "    }\n",
              "\n",
              "    .dataframe tbody tr th {\n",
              "        vertical-align: top;\n",
              "    }\n",
              "\n",
              "    .dataframe thead th {\n",
              "        text-align: right;\n",
              "    }\n",
              "</style>\n",
              "<table border=\"1\" class=\"dataframe\">\n",
              "  <thead>\n",
              "    <tr style=\"text-align: right;\">\n",
              "      <th></th>\n",
              "      <th>age</th>\n",
              "      <th>hypertension</th>\n",
              "      <th>heart_disease</th>\n",
              "      <th>avg_glucose_level</th>\n",
              "      <th>bmi</th>\n",
              "      <th>gender_Female</th>\n",
              "      <th>gender_Male</th>\n",
              "      <th>ever_married_No</th>\n",
              "      <th>ever_married_Yes</th>\n",
              "      <th>work_type_Govt_job</th>\n",
              "      <th>...</th>\n",
              "      <th>work_type_Self-employed</th>\n",
              "      <th>work_type_children</th>\n",
              "      <th>Residence_type_Rural</th>\n",
              "      <th>Residence_type_Urban</th>\n",
              "      <th>smoking_status_Unknown</th>\n",
              "      <th>smoking_status_formerly smoked</th>\n",
              "      <th>smoking_status_never smoked</th>\n",
              "      <th>smoking_status_smokes</th>\n",
              "      <th>log_avg_glucose_level</th>\n",
              "      <th>bmi_NA</th>\n",
              "    </tr>\n",
              "  </thead>\n",
              "  <tbody>\n",
              "    <tr>\n",
              "      <th>0</th>\n",
              "      <td>58.0</td>\n",
              "      <td>1</td>\n",
              "      <td>0</td>\n",
              "      <td>87.96</td>\n",
              "      <td>39.2</td>\n",
              "      <td>0</td>\n",
              "      <td>1</td>\n",
              "      <td>0</td>\n",
              "      <td>1</td>\n",
              "      <td>0</td>\n",
              "      <td>...</td>\n",
              "      <td>0</td>\n",
              "      <td>0</td>\n",
              "      <td>0</td>\n",
              "      <td>1</td>\n",
              "      <td>0</td>\n",
              "      <td>0</td>\n",
              "      <td>1</td>\n",
              "      <td>0</td>\n",
              "      <td>4.476882</td>\n",
              "      <td>0</td>\n",
              "    </tr>\n",
              "    <tr>\n",
              "      <th>1</th>\n",
              "      <td>8.0</td>\n",
              "      <td>0</td>\n",
              "      <td>0</td>\n",
              "      <td>110.89</td>\n",
              "      <td>17.6</td>\n",
              "      <td>1</td>\n",
              "      <td>0</td>\n",
              "      <td>1</td>\n",
              "      <td>0</td>\n",
              "      <td>0</td>\n",
              "      <td>...</td>\n",
              "      <td>0</td>\n",
              "      <td>0</td>\n",
              "      <td>0</td>\n",
              "      <td>1</td>\n",
              "      <td>1</td>\n",
              "      <td>0</td>\n",
              "      <td>0</td>\n",
              "      <td>0</td>\n",
              "      <td>4.708539</td>\n",
              "      <td>0</td>\n",
              "    </tr>\n",
              "    <tr>\n",
              "      <th>2</th>\n",
              "      <td>70.0</td>\n",
              "      <td>0</td>\n",
              "      <td>0</td>\n",
              "      <td>69.04</td>\n",
              "      <td>35.9</td>\n",
              "      <td>1</td>\n",
              "      <td>0</td>\n",
              "      <td>0</td>\n",
              "      <td>1</td>\n",
              "      <td>0</td>\n",
              "      <td>...</td>\n",
              "      <td>0</td>\n",
              "      <td>0</td>\n",
              "      <td>1</td>\n",
              "      <td>0</td>\n",
              "      <td>0</td>\n",
              "      <td>1</td>\n",
              "      <td>0</td>\n",
              "      <td>0</td>\n",
              "      <td>4.234686</td>\n",
              "      <td>0</td>\n",
              "    </tr>\n",
              "    <tr>\n",
              "      <th>3</th>\n",
              "      <td>47.0</td>\n",
              "      <td>0</td>\n",
              "      <td>0</td>\n",
              "      <td>210.95</td>\n",
              "      <td>50.1</td>\n",
              "      <td>1</td>\n",
              "      <td>0</td>\n",
              "      <td>0</td>\n",
              "      <td>1</td>\n",
              "      <td>0</td>\n",
              "      <td>...</td>\n",
              "      <td>0</td>\n",
              "      <td>0</td>\n",
              "      <td>0</td>\n",
              "      <td>1</td>\n",
              "      <td>1</td>\n",
              "      <td>0</td>\n",
              "      <td>0</td>\n",
              "      <td>0</td>\n",
              "      <td>5.351621</td>\n",
              "      <td>0</td>\n",
              "    </tr>\n",
              "    <tr>\n",
              "      <th>4</th>\n",
              "      <td>74.0</td>\n",
              "      <td>1</td>\n",
              "      <td>0</td>\n",
              "      <td>205.84</td>\n",
              "      <td>54.6</td>\n",
              "      <td>1</td>\n",
              "      <td>0</td>\n",
              "      <td>0</td>\n",
              "      <td>1</td>\n",
              "      <td>0</td>\n",
              "      <td>...</td>\n",
              "      <td>1</td>\n",
              "      <td>0</td>\n",
              "      <td>0</td>\n",
              "      <td>1</td>\n",
              "      <td>0</td>\n",
              "      <td>0</td>\n",
              "      <td>1</td>\n",
              "      <td>0</td>\n",
              "      <td>5.327099</td>\n",
              "      <td>0</td>\n",
              "    </tr>\n",
              "  </tbody>\n",
              "</table>\n",
              "<p>5 rows × 22 columns</p>\n",
              "</div>\n",
              "    <div class=\"colab-df-buttons\">\n",
              "\n",
              "  <div class=\"colab-df-container\">\n",
              "    <button class=\"colab-df-convert\" onclick=\"convertToInteractive('df-095db3fc-65a0-4169-9f90-430236cb64c2')\"\n",
              "            title=\"Convert this dataframe to an interactive table.\"\n",
              "            style=\"display:none;\">\n",
              "\n",
              "  <svg xmlns=\"http://www.w3.org/2000/svg\" height=\"24px\" viewBox=\"0 -960 960 960\">\n",
              "    <path d=\"M120-120v-720h720v720H120Zm60-500h600v-160H180v160Zm220 220h160v-160H400v160Zm0 220h160v-160H400v160ZM180-400h160v-160H180v160Zm440 0h160v-160H620v160ZM180-180h160v-160H180v160Zm440 0h160v-160H620v160Z\"/>\n",
              "  </svg>\n",
              "    </button>\n",
              "\n",
              "  <style>\n",
              "    .colab-df-container {\n",
              "      display:flex;\n",
              "      gap: 12px;\n",
              "    }\n",
              "\n",
              "    .colab-df-convert {\n",
              "      background-color: #E8F0FE;\n",
              "      border: none;\n",
              "      border-radius: 50%;\n",
              "      cursor: pointer;\n",
              "      display: none;\n",
              "      fill: #1967D2;\n",
              "      height: 32px;\n",
              "      padding: 0 0 0 0;\n",
              "      width: 32px;\n",
              "    }\n",
              "\n",
              "    .colab-df-convert:hover {\n",
              "      background-color: #E2EBFA;\n",
              "      box-shadow: 0px 1px 2px rgba(60, 64, 67, 0.3), 0px 1px 3px 1px rgba(60, 64, 67, 0.15);\n",
              "      fill: #174EA6;\n",
              "    }\n",
              "\n",
              "    .colab-df-buttons div {\n",
              "      margin-bottom: 4px;\n",
              "    }\n",
              "\n",
              "    [theme=dark] .colab-df-convert {\n",
              "      background-color: #3B4455;\n",
              "      fill: #D2E3FC;\n",
              "    }\n",
              "\n",
              "    [theme=dark] .colab-df-convert:hover {\n",
              "      background-color: #434B5C;\n",
              "      box-shadow: 0px 1px 3px 1px rgba(0, 0, 0, 0.15);\n",
              "      filter: drop-shadow(0px 1px 2px rgba(0, 0, 0, 0.3));\n",
              "      fill: #FFFFFF;\n",
              "    }\n",
              "  </style>\n",
              "\n",
              "    <script>\n",
              "      const buttonEl =\n",
              "        document.querySelector('#df-095db3fc-65a0-4169-9f90-430236cb64c2 button.colab-df-convert');\n",
              "      buttonEl.style.display =\n",
              "        google.colab.kernel.accessAllowed ? 'block' : 'none';\n",
              "\n",
              "      async function convertToInteractive(key) {\n",
              "        const element = document.querySelector('#df-095db3fc-65a0-4169-9f90-430236cb64c2');\n",
              "        const dataTable =\n",
              "          await google.colab.kernel.invokeFunction('convertToInteractive',\n",
              "                                                    [key], {});\n",
              "        if (!dataTable) return;\n",
              "\n",
              "        const docLinkHtml = 'Like what you see? Visit the ' +\n",
              "          '<a target=\"_blank\" href=https://colab.research.google.com/notebooks/data_table.ipynb>data table notebook</a>'\n",
              "          + ' to learn more about interactive tables.';\n",
              "        element.innerHTML = '';\n",
              "        dataTable['output_type'] = 'display_data';\n",
              "        await google.colab.output.renderOutput(dataTable, element);\n",
              "        const docLink = document.createElement('div');\n",
              "        docLink.innerHTML = docLinkHtml;\n",
              "        element.appendChild(docLink);\n",
              "      }\n",
              "    </script>\n",
              "  </div>\n",
              "\n",
              "\n",
              "<div id=\"df-a3e2da0c-744b-4585-b1c7-67edf6b273b2\">\n",
              "  <button class=\"colab-df-quickchart\" onclick=\"quickchart('df-a3e2da0c-744b-4585-b1c7-67edf6b273b2')\"\n",
              "            title=\"Suggest charts\"\n",
              "            style=\"display:none;\">\n",
              "\n",
              "<svg xmlns=\"http://www.w3.org/2000/svg\" height=\"24px\"viewBox=\"0 0 24 24\"\n",
              "     width=\"24px\">\n",
              "    <g>\n",
              "        <path d=\"M19 3H5c-1.1 0-2 .9-2 2v14c0 1.1.9 2 2 2h14c1.1 0 2-.9 2-2V5c0-1.1-.9-2-2-2zM9 17H7v-7h2v7zm4 0h-2V7h2v10zm4 0h-2v-4h2v4z\"/>\n",
              "    </g>\n",
              "</svg>\n",
              "  </button>\n",
              "\n",
              "<style>\n",
              "  .colab-df-quickchart {\n",
              "      --bg-color: #E8F0FE;\n",
              "      --fill-color: #1967D2;\n",
              "      --hover-bg-color: #E2EBFA;\n",
              "      --hover-fill-color: #174EA6;\n",
              "      --disabled-fill-color: #AAA;\n",
              "      --disabled-bg-color: #DDD;\n",
              "  }\n",
              "\n",
              "  [theme=dark] .colab-df-quickchart {\n",
              "      --bg-color: #3B4455;\n",
              "      --fill-color: #D2E3FC;\n",
              "      --hover-bg-color: #434B5C;\n",
              "      --hover-fill-color: #FFFFFF;\n",
              "      --disabled-bg-color: #3B4455;\n",
              "      --disabled-fill-color: #666;\n",
              "  }\n",
              "\n",
              "  .colab-df-quickchart {\n",
              "    background-color: var(--bg-color);\n",
              "    border: none;\n",
              "    border-radius: 50%;\n",
              "    cursor: pointer;\n",
              "    display: none;\n",
              "    fill: var(--fill-color);\n",
              "    height: 32px;\n",
              "    padding: 0;\n",
              "    width: 32px;\n",
              "  }\n",
              "\n",
              "  .colab-df-quickchart:hover {\n",
              "    background-color: var(--hover-bg-color);\n",
              "    box-shadow: 0 1px 2px rgba(60, 64, 67, 0.3), 0 1px 3px 1px rgba(60, 64, 67, 0.15);\n",
              "    fill: var(--button-hover-fill-color);\n",
              "  }\n",
              "\n",
              "  .colab-df-quickchart-complete:disabled,\n",
              "  .colab-df-quickchart-complete:disabled:hover {\n",
              "    background-color: var(--disabled-bg-color);\n",
              "    fill: var(--disabled-fill-color);\n",
              "    box-shadow: none;\n",
              "  }\n",
              "\n",
              "  .colab-df-spinner {\n",
              "    border: 2px solid var(--fill-color);\n",
              "    border-color: transparent;\n",
              "    border-bottom-color: var(--fill-color);\n",
              "    animation:\n",
              "      spin 1s steps(1) infinite;\n",
              "  }\n",
              "\n",
              "  @keyframes spin {\n",
              "    0% {\n",
              "      border-color: transparent;\n",
              "      border-bottom-color: var(--fill-color);\n",
              "      border-left-color: var(--fill-color);\n",
              "    }\n",
              "    20% {\n",
              "      border-color: transparent;\n",
              "      border-left-color: var(--fill-color);\n",
              "      border-top-color: var(--fill-color);\n",
              "    }\n",
              "    30% {\n",
              "      border-color: transparent;\n",
              "      border-left-color: var(--fill-color);\n",
              "      border-top-color: var(--fill-color);\n",
              "      border-right-color: var(--fill-color);\n",
              "    }\n",
              "    40% {\n",
              "      border-color: transparent;\n",
              "      border-right-color: var(--fill-color);\n",
              "      border-top-color: var(--fill-color);\n",
              "    }\n",
              "    60% {\n",
              "      border-color: transparent;\n",
              "      border-right-color: var(--fill-color);\n",
              "    }\n",
              "    80% {\n",
              "      border-color: transparent;\n",
              "      border-right-color: var(--fill-color);\n",
              "      border-bottom-color: var(--fill-color);\n",
              "    }\n",
              "    90% {\n",
              "      border-color: transparent;\n",
              "      border-bottom-color: var(--fill-color);\n",
              "    }\n",
              "  }\n",
              "</style>\n",
              "\n",
              "  <script>\n",
              "    async function quickchart(key) {\n",
              "      const quickchartButtonEl =\n",
              "        document.querySelector('#' + key + ' button');\n",
              "      quickchartButtonEl.disabled = true;  // To prevent multiple clicks.\n",
              "      quickchartButtonEl.classList.add('colab-df-spinner');\n",
              "      try {\n",
              "        const charts = await google.colab.kernel.invokeFunction(\n",
              "            'suggestCharts', [key], {});\n",
              "      } catch (error) {\n",
              "        console.error('Error during call to suggestCharts:', error);\n",
              "      }\n",
              "      quickchartButtonEl.classList.remove('colab-df-spinner');\n",
              "      quickchartButtonEl.classList.add('colab-df-quickchart-complete');\n",
              "    }\n",
              "    (() => {\n",
              "      let quickchartButtonEl =\n",
              "        document.querySelector('#df-a3e2da0c-744b-4585-b1c7-67edf6b273b2 button');\n",
              "      quickchartButtonEl.style.display =\n",
              "        google.colab.kernel.accessAllowed ? 'block' : 'none';\n",
              "    })();\n",
              "  </script>\n",
              "</div>\n",
              "    </div>\n",
              "  </div>\n"
            ]
          },
          "metadata": {},
          "execution_count": 22
        }
      ]
    },
    {
      "cell_type": "code",
      "source": [
        "print(type(X_test[0:1]))\n",
        "print(type(X_test.iloc[0]))"
      ],
      "metadata": {
        "colab": {
          "base_uri": "https://localhost:8080/"
        },
        "id": "nO0M1JVUQP2V",
        "outputId": "05895a30-13cb-46ca-f0b1-679d184df21c"
      },
      "id": "nO0M1JVUQP2V",
      "execution_count": 27,
      "outputs": [
        {
          "output_type": "stream",
          "name": "stdout",
          "text": [
            "<class 'pandas.core.frame.DataFrame'>\n",
            "<class 'pandas.core.series.Series'>\n"
          ]
        }
      ]
    },
    {
      "cell_type": "code",
      "source": [
        "test_y_hat = list()\n",
        "\n",
        "for i in range(len(X_test)):\n",
        "  sample_leaf_node = testing_leaf_nodes[i]\n",
        "  sample_index = node_value_to_index[sample_leaf_node]\n",
        "  node_model = linear_models[sample_index]\n",
        "  sample_y = node_model.predict(X_test[i:i+1])\n",
        "  test_y_hat.append(sample_y[0]) # there's only one prediction in each sample_y"
      ],
      "metadata": {
        "id": "XVo_7FHJFQm4"
      },
      "id": "XVo_7FHJFQm4",
      "execution_count": 35,
      "outputs": []
    },
    {
      "cell_type": "code",
      "source": [
        "y_hat = pd.Series(test_y_hat)"
      ],
      "metadata": {
        "id": "y77FBZ9PRYHv"
      },
      "id": "y77FBZ9PRYHv",
      "execution_count": 41,
      "outputs": []
    },
    {
      "cell_type": "markdown",
      "source": [
        "Finally, I'll calculate the performance of the combined models by comparing `y_hat` and `y_test`."
      ],
      "metadata": {
        "id": "rYERwF1DFQ9v"
      },
      "id": "rYERwF1DFQ9v"
    },
    {
      "cell_type": "code",
      "source": [
        "from sklearn.metrics import r2_score"
      ],
      "metadata": {
        "id": "VcSJ-eRhFRlq"
      },
      "id": "VcSJ-eRhFRlq",
      "execution_count": 46,
      "outputs": []
    },
    {
      "cell_type": "code",
      "source": [
        "final_r2 = r2_score(y_test, y_hat)\n",
        "print('R2: ', final_r2)\n",
        "N = len(y_test)\n",
        "print('RMSE: ', (np.sum( (y_test - y_hat)**2)/N )**.5)"
      ],
      "metadata": {
        "colab": {
          "base_uri": "https://localhost:8080/"
        },
        "id": "nIVxi-GRR-VX",
        "outputId": "ef3af577-c5ff-42bb-8935-a0135abc9b51"
      },
      "id": "nIVxi-GRR-VX",
      "execution_count": 47,
      "outputs": [
        {
          "output_type": "stream",
          "name": "stdout",
          "text": [
            "R2:  -2.6814922525266494\n",
            "RMSE:  0.4136925824525905\n"
          ]
        }
      ]
    }
  ],
  "metadata": {
    "kernelspec": {
      "display_name": "Python 3 (ipykernel)",
      "language": "python",
      "name": "python3"
    },
    "language_info": {
      "codemirror_mode": {
        "name": "ipython",
        "version": 3
      },
      "file_extension": ".py",
      "mimetype": "text/x-python",
      "name": "python",
      "nbconvert_exporter": "python",
      "pygments_lexer": "ipython3",
      "version": "3.11.4"
    },
    "colab": {
      "provenance": []
    }
  },
  "nbformat": 4,
  "nbformat_minor": 5
}
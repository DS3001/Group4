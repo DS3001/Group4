{
  "cells": [
    {
      "cell_type": "code",
      "source": [
        "!git clone https://github.com/DS3001/Group4.git"
      ],
      "metadata": {
        "id": "axaqqAxFWb92",
        "outputId": "025e49b4-659f-42a0-ef01-733f3e85e806",
        "colab": {
          "base_uri": "https://localhost:8080/"
        }
      },
      "execution_count": 31,
      "outputs": [
        {
          "output_type": "stream",
          "name": "stdout",
          "text": [
            "fatal: destination path 'Group4' already exists and is not an empty directory.\n"
          ]
        }
      ]
    },
    {
      "cell_type": "code",
      "execution_count": 32,
      "metadata": {
        "id": "DQu6TqHGSvLA"
      },
      "outputs": [],
      "source": [
        "#Reading in the training data\n",
        "import pandas as pd\n",
        "import numpy as np\n",
        "import seaborn as sns\n",
        "data = pd.read_csv(\"./Group4/project_2/data/training_data.csv\", index_col=0)"
      ]
    },
    {
      "cell_type": "code",
      "execution_count": 33,
      "metadata": {
        "colab": {
          "base_uri": "https://localhost:8080/"
        },
        "id": "jF-wohTdTAEz",
        "outputId": "ce380d90-5b9a-41dc-ecc1-04f99e70585d"
      },
      "outputs": [
        {
          "output_type": "execute_result",
          "data": {
            "text/plain": [
              "<bound method NDFrame.head of          id  gender   age  hypertension  heart_disease ever_married  \\\n",
              "2465  68685    Male  36.0             0              0          Yes   \n",
              "4311  59058  Female  45.0             0              0          Yes   \n",
              "2375  46068    Male  58.0             0              0           No   \n",
              "5017  36837  Female  61.0             0              0          Yes   \n",
              "753   30550  Female  78.0             0              0           No   \n",
              "...     ...     ...   ...           ...            ...          ...   \n",
              "110   59125  Female  53.0             0              0          Yes   \n",
              "139   29281    Male  76.0             1              0          Yes   \n",
              "207   37060  Female  81.0             0              0          Yes   \n",
              "218   29552  Female  55.0             1              1          Yes   \n",
              "89    14499    Male  47.0             0              0          Yes   \n",
              "\n",
              "          work_type Residence_type  avg_glucose_level   bmi   smoking_status  \\\n",
              "2465       Govt_job          Urban              65.87  32.2  formerly smoked   \n",
              "4311       Govt_job          Rural              68.66  25.3     never smoked   \n",
              "2375  Self-employed          Rural             170.93  30.7          Unknown   \n",
              "5017  Self-employed          Urban              69.88  27.1     never smoked   \n",
              "753         Private          Urban             103.86  30.6          Unknown   \n",
              "...             ...            ...                ...   ...              ...   \n",
              "110        Govt_job          Urban              64.17  41.5     never smoked   \n",
              "139   Self-employed          Rural             194.37  27.0  formerly smoked   \n",
              "207         Private          Rural              80.13  23.4     never smoked   \n",
              "218         Private          Urban             210.40  40.0           smokes   \n",
              "89          Private          Urban              86.94  41.1  formerly smoked   \n",
              "\n",
              "      stroke  \n",
              "2465       0  \n",
              "4311       0  \n",
              "2375       0  \n",
              "5017       0  \n",
              "753        0  \n",
              "...      ...  \n",
              "110        1  \n",
              "139        1  \n",
              "207        1  \n",
              "218        1  \n",
              "89         1  \n",
              "\n",
              "[4087 rows x 12 columns]>"
            ]
          },
          "metadata": {},
          "execution_count": 33
        }
      ],
      "source": [
        "data.describe()\n",
        "data.head"
      ]
    },
    {
      "cell_type": "code",
      "execution_count": 34,
      "metadata": {
        "colab": {
          "base_uri": "https://localhost:8080/"
        },
        "id": "_sILCz8NUfCm",
        "outputId": "db50959f-2f0f-4f0c-c770-b18a9de6dfb5"
      },
      "outputs": [
        {
          "output_type": "stream",
          "name": "stdout",
          "text": [
            "Unique values for id: [68685 59058 46068 ... 37060 29552 14499]\n",
            "Unique values for gender: ['Male' 'Female' 'Other']\n",
            "Unique values for age: [3.60e+01 4.50e+01 5.80e+01 6.10e+01 7.80e+01 3.40e+01 3.70e+01 6.30e+01\n",
            " 7.20e+01 5.90e+01 2.60e+01 4.60e+01 1.70e+01 2.90e+01 1.60e+01 4.40e+01\n",
            " 7.90e+01 7.30e+01 3.00e+01 5.00e+00 3.20e-01 1.30e+01 2.20e+01 8.00e+01\n",
            " 6.20e+01 6.70e+01 5.60e+01 1.10e+01 4.00e+01 2.40e-01 9.00e+00 6.00e+01\n",
            " 7.40e+01 2.80e+01 5.10e+01 5.20e+01 3.20e+01 2.50e+01 8.20e+01 3.50e+01\n",
            " 2.30e+01 4.70e+01 5.50e+01 2.70e+01 6.00e+00 3.30e+01 4.90e+01 5.30e+01\n",
            " 4.20e+01 5.70e+01 6.60e+01 7.10e+01 1.60e-01 5.40e+01 3.00e+00 7.00e+00\n",
            " 6.40e+01 4.30e+01 3.10e+01 2.10e+01 6.50e+01 1.80e+01 4.10e+01 8.10e+01\n",
            " 1.00e+00 2.40e+01 3.90e+01 7.00e+01 2.00e+00 4.80e+01 8.00e-02 3.80e+01\n",
            " 7.50e+01 1.88e+00 1.00e+01 1.20e+01 6.40e-01 2.00e+01 5.00e+01 7.70e+01\n",
            " 1.90e+01 1.08e+00 8.00e+00 6.90e+01 6.80e+01 1.40e+01 4.00e+00 7.60e+01\n",
            " 1.16e+00 1.80e+00 1.72e+00 1.32e+00 1.50e+01 4.00e-01 8.80e-01 7.20e-01\n",
            " 5.60e-01 1.24e+00 1.64e+00 1.56e+00 4.80e-01 1.40e+00 8.00e-01 1.48e+00]\n",
            "Unique values for hypertension: [0 1]\n",
            "Unique values for heart_disease: [0 1]\n",
            "Unique values for ever_married: ['Yes' 'No']\n",
            "Unique values for work_type: ['Govt_job' 'Self-employed' 'Private' 'children' 'Never_worked']\n",
            "Unique values for Residence_type: ['Urban' 'Rural']\n",
            "Unique values for avg_glucose_level: [ 65.87  68.66 170.93 ...  80.13 210.4   86.94]\n",
            "Unique values for bmi: [32.2 25.3 30.7 27.1 30.6 30.4 41.7 22.3 35.9 33.8 29.4 28.9 26.2 22.5\n",
            " 55.7 26.1 22.4 33.2 24.8 20.9 22.  27.6 35.8 32.8 15.9 16.2 41.3 22.9\n",
            " 19.5 31.1 31.9 30.9 15.7 24.6 18.6 27.4 25.6 25.4 25.5 26.3 35.2  nan\n",
            " 28.3 32.3 18.8 33.7 30.8 41.1 31.2 33.3 20.8 19.4 46.5 28.7 23.6 31.7\n",
            " 29.9 26.7 28.5 29.3 29.6 19.2 34.9 32.4 17.4 36.1 43.2 20.2 31.4 30.2\n",
            " 20.4 30.5 34.7 26.5 35.5 33.9 29.2 24.9 17.6 23.  19.8 23.5 32.7 39.4\n",
            " 35.3 30.1 27.2 29.  36.6 33.1 38.4 20.  28.6 23.9 23.2 23.7 60.9 22.1\n",
            " 25.9 26.  31.5 16.7 31.  43.6 24.5 32.  35.1 18.3 44.7 54.7 39.7 26.4\n",
            " 34.3 17.7 32.1 35.7 40.1 16.9 35.  38.1 71.9 43.7 19.1 26.6 17.9 27.9\n",
            " 25.8 21.  28.8 49.3 37.2 23.1 40.5 35.6 20.7 34.  36.4 20.1 37.3 22.2\n",
            " 17.3 28.  25.  21.8 28.1 39.2 32.6 25.1 41.2 26.9 24.1 38.5 33.6 17.\n",
            " 33.4 18.1 34.8 30.3 16.  29.5 18.2 27.8 39.  24.3 21.9 37.8 23.4 22.8\n",
            " 21.1 24.7 43.9 21.5 22.6 20.3 18.4 38.6 19.  57.2 33.  29.1 48.8 16.4\n",
            " 21.4 29.8 17.2 45.  13.7 38.  15.6 31.8 43.  24.  42.3 16.6 23.8 44.8\n",
            " 27.3 20.6 37.9 34.5 24.2 27.  18.5 21.3 30.  37.  36.2 31.6 16.3 14.1\n",
            " 18.7 36.7 47.6 39.9 43.8 27.7 42.1 14.4 29.7 36.9 39.1 26.8 44.  38.8\n",
            " 23.3 40.4 35.4 14.3 21.6 37.4 51.  13.8 33.5 19.3 28.2 53.9 27.5 15.5\n",
            " 28.4 13.3 20.5 46.4 52.3 34.1 32.9 36.3 41.8 25.7 14.6 42.2 31.3 25.2\n",
            " 38.9 45.8 54.  12.  34.2 19.7 53.8 16.8 17.8 41.6 22.7 59.7 40.3 18.\n",
            " 55.2 34.4 37.6 41.5 18.9 41.  42.4 40.2 15.4 37.1 50.5 43.3 78.  54.1\n",
            " 16.1 19.6 42.8 42.5 17.1 34.6 36.8 24.4 37.7 17.5 45.1 21.2 46.  44.5\n",
            " 49.5 32.5 14.  40.7 45.3 15.8 42.7 48.2 40.8 36.  37.5 57.7 36.5 48.5\n",
            " 50.3 13.5 50.2 14.8 39.8 38.2 40.  45.2 38.3 55.9 60.2 46.9 49.8 21.7\n",
            " 19.9 40.9 43.1 15.3 39.5 53.5 39.6 48.  52.8 56.  47.5 15.2 42.  15.1\n",
            " 56.1 50.9 14.9 52.9 51.5 48.7 38.7 13.4 57.9 46.8 47.3 92.  44.9 42.9\n",
            " 52.7 66.8 39.3 16.5 43.4 12.8 50.6 52.5 54.2 51.8 64.4 14.2 49.4 44.4\n",
            " 51.7 42.6 45.4 12.3 48.3 47.8 56.6 97.6 48.4 14.5 55.  41.9 41.4 44.6\n",
            " 55.1 47.1 49.2 44.3 45.5 48.9 46.2 13.  44.2 57.3 15.  46.1 13.2 61.2\n",
            " 50.8 61.6 63.3 10.3 53.4 54.8 11.3 46.3 46.6 45.9 44.1 45.7]\n",
            "Unique values for smoking_status: ['formerly smoked' 'never smoked' 'Unknown' 'smokes']\n",
            "Unique values for stroke: [0 1]\n"
          ]
        }
      ],
      "source": [
        "#looking at the unique values for each column\n",
        "unique_values = {}\n",
        "for column in data.columns:\n",
        "    unique_values[column] = data[column].unique()\n",
        "# Print the unique values for each column\n",
        "for column, values in unique_values.items():\n",
        "    print(f'Unique values for {column}: {values}')"
      ]
    },
    {
      "cell_type": "markdown",
      "metadata": {
        "id": "0ZwWaYNiher8"
      },
      "source": [
        "One hot encoding for categorical variables"
      ]
    },
    {
      "cell_type": "code",
      "execution_count": 35,
      "metadata": {
        "id": "yAO9Db4TV2Rg"
      },
      "outputs": [],
      "source": [
        "#one hot encoding for the categorical variables (that don't already have 0s and 1s)\n",
        "data = pd.get_dummies(data, columns=['gender'], prefix=['gender'])\n",
        "data = pd.get_dummies(data, columns=['ever_married'], prefix=['ever_married'])\n",
        "data = pd.get_dummies(data, columns=['work_type'], prefix=['work_type'])\n",
        "data = pd.get_dummies(data, columns=['Residence_type'], prefix=['Residence_type'])\n",
        "data = pd.get_dummies(data, columns=['smoking_status'], prefix=['smoking_status'])"
      ]
    },
    {
      "cell_type": "code",
      "execution_count": 36,
      "metadata": {
        "colab": {
          "base_uri": "https://localhost:8080/",
          "height": 272
        },
        "id": "nlZ-GAySWvRT",
        "outputId": "49c140f5-052a-486a-dfc3-fe7bb7b4de09"
      },
      "outputs": [
        {
          "output_type": "execute_result",
          "data": {
            "text/plain": [
              "         id   age  hypertension  heart_disease  avg_glucose_level   bmi  \\\n",
              "2465  68685  36.0             0              0              65.87  32.2   \n",
              "4311  59058  45.0             0              0              68.66  25.3   \n",
              "2375  46068  58.0             0              0             170.93  30.7   \n",
              "5017  36837  61.0             0              0              69.88  27.1   \n",
              "753   30550  78.0             0              0             103.86  30.6   \n",
              "\n",
              "      stroke  gender_Female  gender_Male  gender_Other  ...  \\\n",
              "2465       0              0            1             0  ...   \n",
              "4311       0              1            0             0  ...   \n",
              "2375       0              0            1             0  ...   \n",
              "5017       0              1            0             0  ...   \n",
              "753        0              1            0             0  ...   \n",
              "\n",
              "      work_type_Never_worked  work_type_Private  work_type_Self-employed  \\\n",
              "2465                       0                  0                        0   \n",
              "4311                       0                  0                        0   \n",
              "2375                       0                  0                        1   \n",
              "5017                       0                  0                        1   \n",
              "753                        0                  1                        0   \n",
              "\n",
              "      work_type_children  Residence_type_Rural  Residence_type_Urban  \\\n",
              "2465                   0                     0                     1   \n",
              "4311                   0                     1                     0   \n",
              "2375                   0                     1                     0   \n",
              "5017                   0                     0                     1   \n",
              "753                    0                     0                     1   \n",
              "\n",
              "      smoking_status_Unknown  smoking_status_formerly smoked  \\\n",
              "2465                       0                               1   \n",
              "4311                       0                               0   \n",
              "2375                       1                               0   \n",
              "5017                       0                               0   \n",
              "753                        1                               0   \n",
              "\n",
              "      smoking_status_never smoked  smoking_status_smokes  \n",
              "2465                            0                      0  \n",
              "4311                            1                      0  \n",
              "2375                            0                      0  \n",
              "5017                            1                      0  \n",
              "753                             0                      0  \n",
              "\n",
              "[5 rows x 23 columns]"
            ],
            "text/html": [
              "\n",
              "  <div id=\"df-879bc5f9-4cac-4582-b6cb-a4e09a349169\" class=\"colab-df-container\">\n",
              "    <div>\n",
              "<style scoped>\n",
              "    .dataframe tbody tr th:only-of-type {\n",
              "        vertical-align: middle;\n",
              "    }\n",
              "\n",
              "    .dataframe tbody tr th {\n",
              "        vertical-align: top;\n",
              "    }\n",
              "\n",
              "    .dataframe thead th {\n",
              "        text-align: right;\n",
              "    }\n",
              "</style>\n",
              "<table border=\"1\" class=\"dataframe\">\n",
              "  <thead>\n",
              "    <tr style=\"text-align: right;\">\n",
              "      <th></th>\n",
              "      <th>id</th>\n",
              "      <th>age</th>\n",
              "      <th>hypertension</th>\n",
              "      <th>heart_disease</th>\n",
              "      <th>avg_glucose_level</th>\n",
              "      <th>bmi</th>\n",
              "      <th>stroke</th>\n",
              "      <th>gender_Female</th>\n",
              "      <th>gender_Male</th>\n",
              "      <th>gender_Other</th>\n",
              "      <th>...</th>\n",
              "      <th>work_type_Never_worked</th>\n",
              "      <th>work_type_Private</th>\n",
              "      <th>work_type_Self-employed</th>\n",
              "      <th>work_type_children</th>\n",
              "      <th>Residence_type_Rural</th>\n",
              "      <th>Residence_type_Urban</th>\n",
              "      <th>smoking_status_Unknown</th>\n",
              "      <th>smoking_status_formerly smoked</th>\n",
              "      <th>smoking_status_never smoked</th>\n",
              "      <th>smoking_status_smokes</th>\n",
              "    </tr>\n",
              "  </thead>\n",
              "  <tbody>\n",
              "    <tr>\n",
              "      <th>2465</th>\n",
              "      <td>68685</td>\n",
              "      <td>36.0</td>\n",
              "      <td>0</td>\n",
              "      <td>0</td>\n",
              "      <td>65.87</td>\n",
              "      <td>32.2</td>\n",
              "      <td>0</td>\n",
              "      <td>0</td>\n",
              "      <td>1</td>\n",
              "      <td>0</td>\n",
              "      <td>...</td>\n",
              "      <td>0</td>\n",
              "      <td>0</td>\n",
              "      <td>0</td>\n",
              "      <td>0</td>\n",
              "      <td>0</td>\n",
              "      <td>1</td>\n",
              "      <td>0</td>\n",
              "      <td>1</td>\n",
              "      <td>0</td>\n",
              "      <td>0</td>\n",
              "    </tr>\n",
              "    <tr>\n",
              "      <th>4311</th>\n",
              "      <td>59058</td>\n",
              "      <td>45.0</td>\n",
              "      <td>0</td>\n",
              "      <td>0</td>\n",
              "      <td>68.66</td>\n",
              "      <td>25.3</td>\n",
              "      <td>0</td>\n",
              "      <td>1</td>\n",
              "      <td>0</td>\n",
              "      <td>0</td>\n",
              "      <td>...</td>\n",
              "      <td>0</td>\n",
              "      <td>0</td>\n",
              "      <td>0</td>\n",
              "      <td>0</td>\n",
              "      <td>1</td>\n",
              "      <td>0</td>\n",
              "      <td>0</td>\n",
              "      <td>0</td>\n",
              "      <td>1</td>\n",
              "      <td>0</td>\n",
              "    </tr>\n",
              "    <tr>\n",
              "      <th>2375</th>\n",
              "      <td>46068</td>\n",
              "      <td>58.0</td>\n",
              "      <td>0</td>\n",
              "      <td>0</td>\n",
              "      <td>170.93</td>\n",
              "      <td>30.7</td>\n",
              "      <td>0</td>\n",
              "      <td>0</td>\n",
              "      <td>1</td>\n",
              "      <td>0</td>\n",
              "      <td>...</td>\n",
              "      <td>0</td>\n",
              "      <td>0</td>\n",
              "      <td>1</td>\n",
              "      <td>0</td>\n",
              "      <td>1</td>\n",
              "      <td>0</td>\n",
              "      <td>1</td>\n",
              "      <td>0</td>\n",
              "      <td>0</td>\n",
              "      <td>0</td>\n",
              "    </tr>\n",
              "    <tr>\n",
              "      <th>5017</th>\n",
              "      <td>36837</td>\n",
              "      <td>61.0</td>\n",
              "      <td>0</td>\n",
              "      <td>0</td>\n",
              "      <td>69.88</td>\n",
              "      <td>27.1</td>\n",
              "      <td>0</td>\n",
              "      <td>1</td>\n",
              "      <td>0</td>\n",
              "      <td>0</td>\n",
              "      <td>...</td>\n",
              "      <td>0</td>\n",
              "      <td>0</td>\n",
              "      <td>1</td>\n",
              "      <td>0</td>\n",
              "      <td>0</td>\n",
              "      <td>1</td>\n",
              "      <td>0</td>\n",
              "      <td>0</td>\n",
              "      <td>1</td>\n",
              "      <td>0</td>\n",
              "    </tr>\n",
              "    <tr>\n",
              "      <th>753</th>\n",
              "      <td>30550</td>\n",
              "      <td>78.0</td>\n",
              "      <td>0</td>\n",
              "      <td>0</td>\n",
              "      <td>103.86</td>\n",
              "      <td>30.6</td>\n",
              "      <td>0</td>\n",
              "      <td>1</td>\n",
              "      <td>0</td>\n",
              "      <td>0</td>\n",
              "      <td>...</td>\n",
              "      <td>0</td>\n",
              "      <td>1</td>\n",
              "      <td>0</td>\n",
              "      <td>0</td>\n",
              "      <td>0</td>\n",
              "      <td>1</td>\n",
              "      <td>1</td>\n",
              "      <td>0</td>\n",
              "      <td>0</td>\n",
              "      <td>0</td>\n",
              "    </tr>\n",
              "  </tbody>\n",
              "</table>\n",
              "<p>5 rows × 23 columns</p>\n",
              "</div>\n",
              "    <div class=\"colab-df-buttons\">\n",
              "\n",
              "  <div class=\"colab-df-container\">\n",
              "    <button class=\"colab-df-convert\" onclick=\"convertToInteractive('df-879bc5f9-4cac-4582-b6cb-a4e09a349169')\"\n",
              "            title=\"Convert this dataframe to an interactive table.\"\n",
              "            style=\"display:none;\">\n",
              "\n",
              "  <svg xmlns=\"http://www.w3.org/2000/svg\" height=\"24px\" viewBox=\"0 -960 960 960\">\n",
              "    <path d=\"M120-120v-720h720v720H120Zm60-500h600v-160H180v160Zm220 220h160v-160H400v160Zm0 220h160v-160H400v160ZM180-400h160v-160H180v160Zm440 0h160v-160H620v160ZM180-180h160v-160H180v160Zm440 0h160v-160H620v160Z\"/>\n",
              "  </svg>\n",
              "    </button>\n",
              "\n",
              "  <style>\n",
              "    .colab-df-container {\n",
              "      display:flex;\n",
              "      gap: 12px;\n",
              "    }\n",
              "\n",
              "    .colab-df-convert {\n",
              "      background-color: #E8F0FE;\n",
              "      border: none;\n",
              "      border-radius: 50%;\n",
              "      cursor: pointer;\n",
              "      display: none;\n",
              "      fill: #1967D2;\n",
              "      height: 32px;\n",
              "      padding: 0 0 0 0;\n",
              "      width: 32px;\n",
              "    }\n",
              "\n",
              "    .colab-df-convert:hover {\n",
              "      background-color: #E2EBFA;\n",
              "      box-shadow: 0px 1px 2px rgba(60, 64, 67, 0.3), 0px 1px 3px 1px rgba(60, 64, 67, 0.15);\n",
              "      fill: #174EA6;\n",
              "    }\n",
              "\n",
              "    .colab-df-buttons div {\n",
              "      margin-bottom: 4px;\n",
              "    }\n",
              "\n",
              "    [theme=dark] .colab-df-convert {\n",
              "      background-color: #3B4455;\n",
              "      fill: #D2E3FC;\n",
              "    }\n",
              "\n",
              "    [theme=dark] .colab-df-convert:hover {\n",
              "      background-color: #434B5C;\n",
              "      box-shadow: 0px 1px 3px 1px rgba(0, 0, 0, 0.15);\n",
              "      filter: drop-shadow(0px 1px 2px rgba(0, 0, 0, 0.3));\n",
              "      fill: #FFFFFF;\n",
              "    }\n",
              "  </style>\n",
              "\n",
              "    <script>\n",
              "      const buttonEl =\n",
              "        document.querySelector('#df-879bc5f9-4cac-4582-b6cb-a4e09a349169 button.colab-df-convert');\n",
              "      buttonEl.style.display =\n",
              "        google.colab.kernel.accessAllowed ? 'block' : 'none';\n",
              "\n",
              "      async function convertToInteractive(key) {\n",
              "        const element = document.querySelector('#df-879bc5f9-4cac-4582-b6cb-a4e09a349169');\n",
              "        const dataTable =\n",
              "          await google.colab.kernel.invokeFunction('convertToInteractive',\n",
              "                                                    [key], {});\n",
              "        if (!dataTable) return;\n",
              "\n",
              "        const docLinkHtml = 'Like what you see? Visit the ' +\n",
              "          '<a target=\"_blank\" href=https://colab.research.google.com/notebooks/data_table.ipynb>data table notebook</a>'\n",
              "          + ' to learn more about interactive tables.';\n",
              "        element.innerHTML = '';\n",
              "        dataTable['output_type'] = 'display_data';\n",
              "        await google.colab.output.renderOutput(dataTable, element);\n",
              "        const docLink = document.createElement('div');\n",
              "        docLink.innerHTML = docLinkHtml;\n",
              "        element.appendChild(docLink);\n",
              "      }\n",
              "    </script>\n",
              "  </div>\n",
              "\n",
              "\n",
              "<div id=\"df-e34d67fe-dfb5-4de6-b9af-ccaeac233931\">\n",
              "  <button class=\"colab-df-quickchart\" onclick=\"quickchart('df-e34d67fe-dfb5-4de6-b9af-ccaeac233931')\"\n",
              "            title=\"Suggest charts\"\n",
              "            style=\"display:none;\">\n",
              "\n",
              "<svg xmlns=\"http://www.w3.org/2000/svg\" height=\"24px\"viewBox=\"0 0 24 24\"\n",
              "     width=\"24px\">\n",
              "    <g>\n",
              "        <path d=\"M19 3H5c-1.1 0-2 .9-2 2v14c0 1.1.9 2 2 2h14c1.1 0 2-.9 2-2V5c0-1.1-.9-2-2-2zM9 17H7v-7h2v7zm4 0h-2V7h2v10zm4 0h-2v-4h2v4z\"/>\n",
              "    </g>\n",
              "</svg>\n",
              "  </button>\n",
              "\n",
              "<style>\n",
              "  .colab-df-quickchart {\n",
              "      --bg-color: #E8F0FE;\n",
              "      --fill-color: #1967D2;\n",
              "      --hover-bg-color: #E2EBFA;\n",
              "      --hover-fill-color: #174EA6;\n",
              "      --disabled-fill-color: #AAA;\n",
              "      --disabled-bg-color: #DDD;\n",
              "  }\n",
              "\n",
              "  [theme=dark] .colab-df-quickchart {\n",
              "      --bg-color: #3B4455;\n",
              "      --fill-color: #D2E3FC;\n",
              "      --hover-bg-color: #434B5C;\n",
              "      --hover-fill-color: #FFFFFF;\n",
              "      --disabled-bg-color: #3B4455;\n",
              "      --disabled-fill-color: #666;\n",
              "  }\n",
              "\n",
              "  .colab-df-quickchart {\n",
              "    background-color: var(--bg-color);\n",
              "    border: none;\n",
              "    border-radius: 50%;\n",
              "    cursor: pointer;\n",
              "    display: none;\n",
              "    fill: var(--fill-color);\n",
              "    height: 32px;\n",
              "    padding: 0;\n",
              "    width: 32px;\n",
              "  }\n",
              "\n",
              "  .colab-df-quickchart:hover {\n",
              "    background-color: var(--hover-bg-color);\n",
              "    box-shadow: 0 1px 2px rgba(60, 64, 67, 0.3), 0 1px 3px 1px rgba(60, 64, 67, 0.15);\n",
              "    fill: var(--button-hover-fill-color);\n",
              "  }\n",
              "\n",
              "  .colab-df-quickchart-complete:disabled,\n",
              "  .colab-df-quickchart-complete:disabled:hover {\n",
              "    background-color: var(--disabled-bg-color);\n",
              "    fill: var(--disabled-fill-color);\n",
              "    box-shadow: none;\n",
              "  }\n",
              "\n",
              "  .colab-df-spinner {\n",
              "    border: 2px solid var(--fill-color);\n",
              "    border-color: transparent;\n",
              "    border-bottom-color: var(--fill-color);\n",
              "    animation:\n",
              "      spin 1s steps(1) infinite;\n",
              "  }\n",
              "\n",
              "  @keyframes spin {\n",
              "    0% {\n",
              "      border-color: transparent;\n",
              "      border-bottom-color: var(--fill-color);\n",
              "      border-left-color: var(--fill-color);\n",
              "    }\n",
              "    20% {\n",
              "      border-color: transparent;\n",
              "      border-left-color: var(--fill-color);\n",
              "      border-top-color: var(--fill-color);\n",
              "    }\n",
              "    30% {\n",
              "      border-color: transparent;\n",
              "      border-left-color: var(--fill-color);\n",
              "      border-top-color: var(--fill-color);\n",
              "      border-right-color: var(--fill-color);\n",
              "    }\n",
              "    40% {\n",
              "      border-color: transparent;\n",
              "      border-right-color: var(--fill-color);\n",
              "      border-top-color: var(--fill-color);\n",
              "    }\n",
              "    60% {\n",
              "      border-color: transparent;\n",
              "      border-right-color: var(--fill-color);\n",
              "    }\n",
              "    80% {\n",
              "      border-color: transparent;\n",
              "      border-right-color: var(--fill-color);\n",
              "      border-bottom-color: var(--fill-color);\n",
              "    }\n",
              "    90% {\n",
              "      border-color: transparent;\n",
              "      border-bottom-color: var(--fill-color);\n",
              "    }\n",
              "  }\n",
              "</style>\n",
              "\n",
              "  <script>\n",
              "    async function quickchart(key) {\n",
              "      const quickchartButtonEl =\n",
              "        document.querySelector('#' + key + ' button');\n",
              "      quickchartButtonEl.disabled = true;  // To prevent multiple clicks.\n",
              "      quickchartButtonEl.classList.add('colab-df-spinner');\n",
              "      try {\n",
              "        const charts = await google.colab.kernel.invokeFunction(\n",
              "            'suggestCharts', [key], {});\n",
              "      } catch (error) {\n",
              "        console.error('Error during call to suggestCharts:', error);\n",
              "      }\n",
              "      quickchartButtonEl.classList.remove('colab-df-spinner');\n",
              "      quickchartButtonEl.classList.add('colab-df-quickchart-complete');\n",
              "    }\n",
              "    (() => {\n",
              "      let quickchartButtonEl =\n",
              "        document.querySelector('#df-e34d67fe-dfb5-4de6-b9af-ccaeac233931 button');\n",
              "      quickchartButtonEl.style.display =\n",
              "        google.colab.kernel.accessAllowed ? 'block' : 'none';\n",
              "    })();\n",
              "  </script>\n",
              "</div>\n",
              "    </div>\n",
              "  </div>\n"
            ]
          },
          "metadata": {},
          "execution_count": 36
        }
      ],
      "source": [
        "data.head()"
      ]
    },
    {
      "cell_type": "markdown",
      "metadata": {
        "id": "Yv0HAw-BhiPk"
      },
      "source": [
        "Handling outliers in the numeric variables."
      ]
    },
    {
      "cell_type": "code",
      "execution_count": 37,
      "metadata": {
        "colab": {
          "base_uri": "https://localhost:8080/",
          "height": 448
        },
        "id": "b41sS9O-YGFD",
        "outputId": "b37bdf4c-53d2-4b43-a302-004961e13dfd"
      },
      "outputs": [
        {
          "output_type": "execute_result",
          "data": {
            "text/plain": [
              "<Axes: >"
            ]
          },
          "metadata": {},
          "execution_count": 37
        },
        {
          "output_type": "display_data",
          "data": {
            "text/plain": [
              "<Figure size 640x480 with 1 Axes>"
            ],
            "image/png": "[encoded data removed]"
          },
          "metadata": {}
        }
      ],
      "source": [
        "#check for outliers in the numeric variables\n",
        "data[\"avg_glucose_level\"].plot.box() #yes there are many outliers"
      ]
    },
    {
      "cell_type": "code",
      "execution_count": 38,
      "metadata": {
        "colab": {
          "base_uri": "https://localhost:8080/",
          "height": 448
        },
        "id": "5p0jfQYGYdkt",
        "outputId": "4b6b7fc6-a99e-47d5-8233-81c7f09886bf"
      },
      "outputs": [
        {
          "output_type": "execute_result",
          "data": {
            "text/plain": [
              "<Axes: >"
            ]
          },
          "metadata": {},
          "execution_count": 38
        },
        {
          "output_type": "display_data",
          "data": {
            "text/plain": [
              "<Figure size 640x480 with 1 Axes>"
            ],
            "image/png": "[encoded data removed]"
          },
          "metadata": {}
        }
      ],
      "source": [
        "data[\"bmi\"].plot.box() #htere are also many outliers for bmi"
      ]
    },
    {
      "cell_type": "code",
      "execution_count": 39,
      "metadata": {
        "colab": {
          "base_uri": "https://localhost:8080/",
          "height": 448
        },
        "id": "bwoqI8X8Z0y-",
        "outputId": "81b42329-e7cd-471c-cd2d-78d36c10f104"
      },
      "outputs": [
        {
          "output_type": "execute_result",
          "data": {
            "text/plain": [
              "<Axes: >"
            ]
          },
          "metadata": {},
          "execution_count": 39
        },
        {
          "output_type": "display_data",
          "data": {
            "text/plain": [
              "<Figure size 640x480 with 1 Axes>"
            ],
            "image/png": "[encoded data removed]"
          },
          "metadata": {}
        }
      ],
      "source": [
        "\n",
        "data[\"age\"].plot.box() #there does not appear to be outliers for age variable"
      ]
    },
    {
      "cell_type": "code",
      "execution_count": 40,
      "metadata": {
        "colab": {
          "base_uri": "https://localhost:8080/",
          "height": 863
        },
        "id": "EgXmbBYxYjLk",
        "outputId": "62c53e9b-c39e-4b7d-a85e-a3dd9f576ce8"
      },
      "outputs": [
        {
          "output_type": "stream",
          "name": "stderr",
          "text": [
            "<ipython-input-40-82daede06121>:15: SettingWithCopyWarning: \n",
            "A value is trying to be set on a copy of a slice from a DataFrame.\n",
            "Try using .loc[row_indexer,col_indexer] = value instead\n",
            "\n",
            "See the caveats in the documentation: https://pandas.pydata.org/pandas-docs/stable/user_guide/indexing.html#returning-a-view-versus-a-copy\n",
            "  x_windsor[ x < lower_whisker ] = lower_whisker\n",
            "<ipython-input-40-82daede06121>:15: SettingWithCopyWarning: \n",
            "A value is trying to be set on a copy of a slice from a DataFrame\n",
            "\n",
            "See the caveats in the documentation: https://pandas.pydata.org/pandas-docs/stable/user_guide/indexing.html#returning-a-view-versus-a-copy\n",
            "  x_windsor[ x < lower_whisker ] = lower_whisker\n",
            "<ipython-input-40-82daede06121>:16: SettingWithCopyWarning: \n",
            "A value is trying to be set on a copy of a slice from a DataFrame.\n",
            "Try using .loc[row_indexer,col_indexer] = value instead\n",
            "\n",
            "See the caveats in the documentation: https://pandas.pydata.org/pandas-docs/stable/user_guide/indexing.html#returning-a-view-versus-a-copy\n",
            "  x_windsor[ x > upper_whisker ] = upper_whisker\n",
            "<ipython-input-40-82daede06121>:16: SettingWithCopyWarning: \n",
            "A value is trying to be set on a copy of a slice from a DataFrame\n",
            "\n",
            "See the caveats in the documentation: https://pandas.pydata.org/pandas-docs/stable/user_guide/indexing.html#returning-a-view-versus-a-copy\n",
            "  x_windsor[ x > upper_whisker ] = upper_whisker\n"
          ]
        },
        {
          "output_type": "execute_result",
          "data": {
            "text/plain": [
              "<Axes: >"
            ]
          },
          "metadata": {},
          "execution_count": 40
        },
        {
          "output_type": "display_data",
          "data": {
            "text/plain": [
              "<Figure size 640x480 with 1 Axes>"
            ],
            "image/png": "[encoded data removed]"
          },
          "metadata": {}
        }
      ],
      "source": [
        "#windsorize the avg_glucose_level and bmi variables\n",
        "\n",
        "## Function to compute whiskers:\n",
        "import seaborn as sns\n",
        "x = data[[\"avg_glucose_level\"]]\n",
        "def windsorize(x):\n",
        "    # Compute IQR and 1st,3rd quantiles\n",
        "    pct25, pct75 = np.percentile(x,[25,75])\n",
        "    iqr = pct75 - pct25\n",
        "    # Compute whiskers:\n",
        "    lower_whisker = pct25 - iqr*1.5\n",
        "    upper_whisker = pct75 + iqr*1.5\n",
        "    # Windsorize x:\n",
        "    x_windsor = x\n",
        "    x_windsor[ x < lower_whisker ] = lower_whisker\n",
        "    x_windsor[ x > upper_whisker ] = upper_whisker\n",
        "    return(x_windsor)\n",
        "\n",
        "sns.boxplot( windsorize(x))"
      ]
    },
    {
      "cell_type": "code",
      "execution_count": 41,
      "metadata": {
        "colab": {
          "base_uri": "https://localhost:8080/",
          "height": 863
        },
        "id": "Ocm7pCJiZJQu",
        "outputId": "f7207d0e-842a-4a49-d685-fc431b9ec605"
      },
      "outputs": [
        {
          "output_type": "stream",
          "name": "stderr",
          "text": [
            "<ipython-input-41-1ba603b96495>:11: SettingWithCopyWarning: \n",
            "A value is trying to be set on a copy of a slice from a DataFrame.\n",
            "Try using .loc[row_indexer,col_indexer] = value instead\n",
            "\n",
            "See the caveats in the documentation: https://pandas.pydata.org/pandas-docs/stable/user_guide/indexing.html#returning-a-view-versus-a-copy\n",
            "  x_windsor[ x < lower_whisker ] = lower_whisker\n",
            "<ipython-input-41-1ba603b96495>:11: SettingWithCopyWarning: \n",
            "A value is trying to be set on a copy of a slice from a DataFrame\n",
            "\n",
            "See the caveats in the documentation: https://pandas.pydata.org/pandas-docs/stable/user_guide/indexing.html#returning-a-view-versus-a-copy\n",
            "  x_windsor[ x < lower_whisker ] = lower_whisker\n",
            "<ipython-input-41-1ba603b96495>:12: SettingWithCopyWarning: \n",
            "A value is trying to be set on a copy of a slice from a DataFrame.\n",
            "Try using .loc[row_indexer,col_indexer] = value instead\n",
            "\n",
            "See the caveats in the documentation: https://pandas.pydata.org/pandas-docs/stable/user_guide/indexing.html#returning-a-view-versus-a-copy\n",
            "  x_windsor[ x > upper_whisker ] = upper_whisker\n",
            "<ipython-input-41-1ba603b96495>:12: SettingWithCopyWarning: \n",
            "A value is trying to be set on a copy of a slice from a DataFrame\n",
            "\n",
            "See the caveats in the documentation: https://pandas.pydata.org/pandas-docs/stable/user_guide/indexing.html#returning-a-view-versus-a-copy\n",
            "  x_windsor[ x > upper_whisker ] = upper_whisker\n"
          ]
        },
        {
          "output_type": "execute_result",
          "data": {
            "text/plain": [
              "<Axes: >"
            ]
          },
          "metadata": {},
          "execution_count": 41
        },
        {
          "output_type": "display_data",
          "data": {
            "text/plain": [
              "<Figure size 640x480 with 1 Axes>"
            ],
            "image/png": "[encoded data removed]"
          },
          "metadata": {}
        }
      ],
      "source": [
        "x = data[[\"bmi\"]]\n",
        "def windsorize(x):\n",
        "    # Compute IQR and 1st,3rd quantiles\n",
        "    pct25, pct75 = np.nanpercentile(x,[25,75])\n",
        "    iqr = pct75 - pct25\n",
        "    # Compute whiskers:\n",
        "    lower_whisker = pct25 - iqr*1.5\n",
        "    upper_whisker = pct75 + iqr*1.5\n",
        "    # Windsorize x:\n",
        "    x_windsor = x\n",
        "    x_windsor[ x < lower_whisker ] = lower_whisker\n",
        "    x_windsor[ x > upper_whisker ] = upper_whisker\n",
        "    return(x_windsor)\n",
        "\n",
        "sns.boxplot( windsorize(x))"
      ]
    },
    {
      "cell_type": "code",
      "execution_count": 42,
      "metadata": {
        "id": "DPJZCX-uWaN6"
      },
      "outputs": [],
      "source": [
        "# # Testing np.percentile vs np.nanpercentile\n",
        "# # Compute IQR and 1st,3rd quantiles\n",
        "# pct25, pct75 = np.nanpercentile(x,[25,75])\n",
        "# iqr = pct75 - pct25\n",
        "# # Compute whiskers:\n",
        "# lower_whisker = pct25 - iqr*1.5\n",
        "# upper_whisker = pct75 + iqr*1.5\n",
        "# np.nanpercentile(x['bmi'].values, 50)\n",
        "# returns 28.1 as opposed to nan - outliers weren't getting removed b/c nan values were getting factored in with np.percentile"
      ]
    },
    {
      "cell_type": "code",
      "execution_count": 43,
      "metadata": {
        "id": "_0o3UDKFtJKz"
      },
      "outputs": [],
      "source": [
        "# # not necessary so commented out:\n",
        "# #windsorizing didn't get rid of outliers for 'bmi', so I dropped outliers 46 and above\n",
        "# data = data.loc[data['bmi']<46,:]\n",
        "# data[\"bmi\"].plot.box()"
      ]
    },
    {
      "cell_type": "markdown",
      "metadata": {
        "id": "ACPxUUh1cCgH"
      },
      "source": [
        "Checking distributions of our numeric variables and if any are badly scaled (we should transform them)."
      ]
    },
    {
      "cell_type": "code",
      "execution_count": 44,
      "metadata": {
        "colab": {
          "base_uri": "https://localhost:8080/",
          "height": 467
        },
        "id": "6_cIsCATbfWt",
        "outputId": "f1cb18eb-d28c-4684-8f50-08a9ba835fee"
      },
      "outputs": [
        {
          "output_type": "execute_result",
          "data": {
            "text/plain": [
              "<Axes: xlabel='age', ylabel='Count'>"
            ]
          },
          "metadata": {},
          "execution_count": 44
        },
        {
          "output_type": "display_data",
          "data": {
            "text/plain": [
              "<Figure size 640x480 with 1 Axes>"
            ],
            "image/png": "[encoded data removed]"
          },
          "metadata": {}
        }
      ],
      "source": [
        "#Age histogram - appears approx. normal\n",
        "sns.histplot(data[\"age\"], bins=10, color='blue', kde=True)"
      ]
    },
    {
      "cell_type": "code",
      "execution_count": 45,
      "metadata": {
        "colab": {
          "base_uri": "https://localhost:8080/",
          "height": 468
        },
        "id": "3onundRtbsuL",
        "outputId": "eb6f8b2b-a70c-42c7-d97f-3fedc7eca8e7"
      },
      "outputs": [
        {
          "output_type": "execute_result",
          "data": {
            "text/plain": [
              "<Axes: xlabel='avg_glucose_level', ylabel='Count'>"
            ]
          },
          "metadata": {},
          "execution_count": 45
        },
        {
          "output_type": "display_data",
          "data": {
            "text/plain": [
              "<Figure size 640x480 with 1 Axes>"
            ],
            "image/png": "[encoded data removed]"
          },
          "metadata": {}
        }
      ],
      "source": [
        "#average glucose level histogram - heavily skewed right, need to transform\n",
        "sns.histplot(data[\"avg_glucose_level\"], bins=10, color='blue', kde=True)"
      ]
    },
    {
      "cell_type": "code",
      "execution_count": 46,
      "metadata": {
        "colab": {
          "base_uri": "https://localhost:8080/",
          "height": 468
        },
        "id": "RRtunV7dd5Up",
        "outputId": "e9ef9f2f-0aa0-4602-e36c-bb6d6425e2f0"
      },
      "outputs": [
        {
          "output_type": "execute_result",
          "data": {
            "text/plain": [
              "<Axes: xlabel='log_avg_glucose_level', ylabel='Count'>"
            ]
          },
          "metadata": {},
          "execution_count": 46
        },
        {
          "output_type": "display_data",
          "data": {
            "text/plain": [
              "<Figure size 640x480 with 1 Axes>"
            ],
            "image/png": "[encoded data removed]"
          },
          "metadata": {}
        }
      ],
      "source": [
        "#log transform of avg_glucose_level variable\n",
        "data['log_avg_glucose_level'] = np.log(data['avg_glucose_level'])\n",
        "sns.histplot(data[\"log_avg_glucose_level\"], bins=10, color='blue', kde=True)\n",
        "\n",
        "#still a little skewed, but looks a lot better when log transformed"
      ]
    },
    {
      "cell_type": "code",
      "execution_count": 47,
      "metadata": {
        "colab": {
          "base_uri": "https://localhost:8080/",
          "height": 467
        },
        "id": "ePGkYq4Abuky",
        "outputId": "3adea508-3a05-46ae-ff5a-a046c6c414fc"
      },
      "outputs": [
        {
          "output_type": "execute_result",
          "data": {
            "text/plain": [
              "<Axes: xlabel='bmi', ylabel='Count'>"
            ]
          },
          "metadata": {},
          "execution_count": 47
        },
        {
          "output_type": "display_data",
          "data": {
            "text/plain": [
              "<Figure size 640x480 with 1 Axes>"
            ],
            "image/png": "[encoded data removed]"
          },
          "metadata": {}
        }
      ],
      "source": [
        "#bmi histogram - appears approx. normal\n",
        "sns.histplot(data[\"bmi\"], bins=10, color='blue', kde=True)"
      ]
    },
    {
      "cell_type": "markdown",
      "metadata": {
        "id": "OhpBD4tMhtZa"
      },
      "source": [
        "Checking for missing values."
      ]
    },
    {
      "cell_type": "code",
      "execution_count": 48,
      "metadata": {
        "colab": {
          "base_uri": "https://localhost:8080/"
        },
        "id": "2Ob3z6AmevVm",
        "outputId": "44279d16-d579-429d-d8ec-e66027e14c07"
      },
      "outputs": [
        {
          "output_type": "stream",
          "name": "stdout",
          "text": [
            "id                                  0\n",
            "age                                 0\n",
            "hypertension                        0\n",
            "heart_disease                       0\n",
            "avg_glucose_level                   0\n",
            "bmi                               159\n",
            "stroke                              0\n",
            "gender_Female                       0\n",
            "gender_Male                         0\n",
            "gender_Other                        0\n",
            "ever_married_No                     0\n",
            "ever_married_Yes                    0\n",
            "work_type_Govt_job                  0\n",
            "work_type_Never_worked              0\n",
            "work_type_Private                   0\n",
            "work_type_Self-employed             0\n",
            "work_type_children                  0\n",
            "Residence_type_Rural                0\n",
            "Residence_type_Urban                0\n",
            "smoking_status_Unknown              0\n",
            "smoking_status_formerly smoked      0\n",
            "smoking_status_never smoked         0\n",
            "smoking_status_smokes               0\n",
            "log_avg_glucose_level               0\n",
            "dtype: int64\n"
          ]
        }
      ],
      "source": [
        "#Check for any missing values\n",
        "missing_values = data.isna()\n",
        "# Count missing values in each column\n",
        "missing_count = missing_values.sum()\n",
        "print(missing_count)"
      ]
    },
    {
      "cell_type": "markdown",
      "metadata": {
        "id": "1WWdsTxygvYD"
      },
      "source": [
        "Handle the missing values in the 'bmi' column."
      ]
    },
    {
      "cell_type": "code",
      "execution_count": 49,
      "metadata": {
        "colab": {
          "base_uri": "https://localhost:8080/"
        },
        "id": "v9glQvD4fdR6",
        "outputId": "ae720744-23cf-4a00-b2ad-29dbf7a97d16"
      },
      "outputs": [
        {
          "output_type": "stream",
          "name": "stdout",
          "text": [
            "         id   age  hypertension  heart_disease  avg_glucose_level   bmi  \\\n",
            "2465  68685  36.0             0              0              65.87  32.2   \n",
            "4311  59058  45.0             0              0              68.66  25.3   \n",
            "2375  46068  58.0             0              0             170.93  30.7   \n",
            "5017  36837  61.0             0              0              69.88  27.1   \n",
            "753   30550  78.0             0              0             103.86  30.6   \n",
            "...     ...   ...           ...            ...                ...   ...   \n",
            "110   59125  53.0             0              0              64.17  41.5   \n",
            "139   29281  76.0             1              0             194.37  27.0   \n",
            "207   37060  81.0             0              0              80.13  23.4   \n",
            "218   29552  55.0             1              1             210.40  40.0   \n",
            "89    14499  47.0             0              0              86.94  41.1   \n",
            "\n",
            "      stroke  gender_Female  gender_Male  gender_Other  ...  \\\n",
            "2465       0              0            1             0  ...   \n",
            "4311       0              1            0             0  ...   \n",
            "2375       0              0            1             0  ...   \n",
            "5017       0              1            0             0  ...   \n",
            "753        0              1            0             0  ...   \n",
            "...      ...            ...          ...           ...  ...   \n",
            "110        1              1            0             0  ...   \n",
            "139        1              0            1             0  ...   \n",
            "207        1              1            0             0  ...   \n",
            "218        1              1            0             0  ...   \n",
            "89         1              0            1             0  ...   \n",
            "\n",
            "      work_type_Self-employed  work_type_children  Residence_type_Rural  \\\n",
            "2465                        0                   0                     0   \n",
            "4311                        0                   0                     1   \n",
            "2375                        1                   0                     1   \n",
            "5017                        1                   0                     0   \n",
            "753                         0                   0                     0   \n",
            "...                       ...                 ...                   ...   \n",
            "110                         0                   0                     0   \n",
            "139                         1                   0                     1   \n",
            "207                         0                   0                     1   \n",
            "218                         0                   0                     0   \n",
            "89                          0                   0                     0   \n",
            "\n",
            "      Residence_type_Urban  smoking_status_Unknown  \\\n",
            "2465                     1                       0   \n",
            "4311                     0                       0   \n",
            "2375                     0                       1   \n",
            "5017                     1                       0   \n",
            "753                      1                       1   \n",
            "...                    ...                     ...   \n",
            "110                      1                       0   \n",
            "139                      0                       0   \n",
            "207                      0                       0   \n",
            "218                      1                       0   \n",
            "89                       1                       0   \n",
            "\n",
            "      smoking_status_formerly smoked  smoking_status_never smoked  \\\n",
            "2465                               1                            0   \n",
            "4311                               0                            1   \n",
            "2375                               0                            0   \n",
            "5017                               0                            1   \n",
            "753                                0                            0   \n",
            "...                              ...                          ...   \n",
            "110                                0                            1   \n",
            "139                                1                            0   \n",
            "207                                0                            1   \n",
            "218                                0                            0   \n",
            "89                                 1                            0   \n",
            "\n",
            "      smoking_status_smokes  log_avg_glucose_level  bmi_NA  \n",
            "2465                      0               4.187683       0  \n",
            "4311                      0               4.229167       0  \n",
            "2375                      0               5.141254       0  \n",
            "5017                      0               4.246779       0  \n",
            "753                       0               4.643044       0  \n",
            "...                     ...                    ...     ...  \n",
            "110                       0               4.161536       0  \n",
            "139                       0               5.269764       0  \n",
            "207                       0               4.383650       0  \n",
            "218                       1               5.349010       0  \n",
            "89                        0               4.465218       0  \n",
            "\n",
            "[4087 rows x 25 columns]\n"
          ]
        }
      ],
      "source": [
        "#based on best approach for handling missing data for linear models (model evaluation notes)\n",
        "\n",
        "# Step 1: Create a missing dummy variable for 'bmi' column\n",
        "data['bmi_NA'] = data['bmi'].isnull().astype(int)  # 1 if missing, 0 if not missing\n",
        "\n",
        "# Step 2: Replace missing values in 'bmi' column with zeros\n",
        "data['bmi'].fillna(0, inplace=True)\n",
        "print(data)"
      ]
    },
    {
      "cell_type": "code",
      "execution_count": 50,
      "metadata": {
        "colab": {
          "base_uri": "https://localhost:8080/"
        },
        "id": "y8xAL9L8gzI-",
        "outputId": "0990aa06-64c6-4612-e79f-e858ab32e824"
      },
      "outputs": [
        {
          "output_type": "stream",
          "name": "stdout",
          "text": [
            "id                                0\n",
            "age                               0\n",
            "hypertension                      0\n",
            "heart_disease                     0\n",
            "avg_glucose_level                 0\n",
            "bmi                               0\n",
            "stroke                            0\n",
            "gender_Female                     0\n",
            "gender_Male                       0\n",
            "gender_Other                      0\n",
            "ever_married_No                   0\n",
            "ever_married_Yes                  0\n",
            "work_type_Govt_job                0\n",
            "work_type_Never_worked            0\n",
            "work_type_Private                 0\n",
            "work_type_Self-employed           0\n",
            "work_type_children                0\n",
            "Residence_type_Rural              0\n",
            "Residence_type_Urban              0\n",
            "smoking_status_Unknown            0\n",
            "smoking_status_formerly smoked    0\n",
            "smoking_status_never smoked       0\n",
            "smoking_status_smokes             0\n",
            "log_avg_glucose_level             0\n",
            "bmi_NA                            0\n",
            "dtype: int64\n"
          ]
        }
      ],
      "source": [
        "missing_values = data.isna()\n",
        "# Count missing values in each column\n",
        "missing_count = missing_values.sum()\n",
        "print(missing_count)\n",
        "\n",
        "#There are no missing values now"
      ]
    },
    {
      "cell_type": "markdown",
      "source": [
        "It looks like there are no people with a gender of \"Other\" in the testing data, so we'll examine the gender value counts here to see if we should add a dummy variable (filled with 0s) for \"Other\" in the testing data or whether we should drop those data points from this dataset."
      ],
      "metadata": {
        "id": "BR0SFuEmW4Fq"
      }
    },
    {
      "cell_type": "code",
      "source": [
        "data[\"gender_Other\"].value_counts()"
      ],
      "metadata": {
        "id": "ZmrKra3JXcON",
        "outputId": "9b828580-42f0-423d-a721-b8ad6c2f958f",
        "colab": {
          "base_uri": "https://localhost:8080/"
        }
      },
      "execution_count": 51,
      "outputs": [
        {
          "output_type": "execute_result",
          "data": {
            "text/plain": [
              "0    4086\n",
              "1       1\n",
              "Name: gender_Other, dtype: int64"
            ]
          },
          "metadata": {},
          "execution_count": 51
        }
      ]
    },
    {
      "cell_type": "markdown",
      "source": [
        "Since there's only one person with a gender of \"Other\", we'll drop it from this dataset and remove the \"gender_Other\" dummy variable."
      ],
      "metadata": {
        "id": "aan4jr7EXhWq"
      }
    },
    {
      "cell_type": "code",
      "source": [
        "data.drop(data.loc[data[\"gender_Other\"] == 1].index, inplace=True)\n",
        "data[\"gender_Other\"].value_counts()"
      ],
      "metadata": {
        "id": "EFqHiU-YXg_2",
        "colab": {
          "base_uri": "https://localhost:8080/"
        },
        "outputId": "e4a197e3-b494-4797-9ccf-bf58a5d3a11c"
      },
      "execution_count": 52,
      "outputs": [
        {
          "output_type": "execute_result",
          "data": {
            "text/plain": [
              "0    4086\n",
              "Name: gender_Other, dtype: int64"
            ]
          },
          "metadata": {},
          "execution_count": 52
        }
      ]
    },
    {
      "cell_type": "code",
      "source": [
        "data.head()"
      ],
      "metadata": {
        "colab": {
          "base_uri": "https://localhost:8080/",
          "height": 272
        },
        "id": "UqQ5rJMZscAf",
        "outputId": "4be35622-2cca-4bbf-93c2-2fcc9f2de4db"
      },
      "execution_count": 53,
      "outputs": [
        {
          "output_type": "execute_result",
          "data": {
            "text/plain": [
              "         id   age  hypertension  heart_disease  avg_glucose_level   bmi  \\\n",
              "2465  68685  36.0             0              0              65.87  32.2   \n",
              "4311  59058  45.0             0              0              68.66  25.3   \n",
              "2375  46068  58.0             0              0             170.93  30.7   \n",
              "5017  36837  61.0             0              0              69.88  27.1   \n",
              "753   30550  78.0             0              0             103.86  30.6   \n",
              "\n",
              "      stroke  gender_Female  gender_Male  gender_Other  ...  \\\n",
              "2465       0              0            1             0  ...   \n",
              "4311       0              1            0             0  ...   \n",
              "2375       0              0            1             0  ...   \n",
              "5017       0              1            0             0  ...   \n",
              "753        0              1            0             0  ...   \n",
              "\n",
              "      work_type_Self-employed  work_type_children  Residence_type_Rural  \\\n",
              "2465                        0                   0                     0   \n",
              "4311                        0                   0                     1   \n",
              "2375                        1                   0                     1   \n",
              "5017                        1                   0                     0   \n",
              "753                         0                   0                     0   \n",
              "\n",
              "      Residence_type_Urban  smoking_status_Unknown  \\\n",
              "2465                     1                       0   \n",
              "4311                     0                       0   \n",
              "2375                     0                       1   \n",
              "5017                     1                       0   \n",
              "753                      1                       1   \n",
              "\n",
              "      smoking_status_formerly smoked  smoking_status_never smoked  \\\n",
              "2465                               1                            0   \n",
              "4311                               0                            1   \n",
              "2375                               0                            0   \n",
              "5017                               0                            1   \n",
              "753                                0                            0   \n",
              "\n",
              "      smoking_status_smokes  log_avg_glucose_level  bmi_NA  \n",
              "2465                      0               4.187683       0  \n",
              "4311                      0               4.229167       0  \n",
              "2375                      0               5.141254       0  \n",
              "5017                      0               4.246779       0  \n",
              "753                       0               4.643044       0  \n",
              "\n",
              "[5 rows x 25 columns]"
            ],
            "text/html": [
              "\n",
              "  <div id=\"df-dd475b98-7ca7-443d-b22f-80ae8e3e8b7b\" class=\"colab-df-container\">\n",
              "    <div>\n",
              "<style scoped>\n",
              "    .dataframe tbody tr th:only-of-type {\n",
              "        vertical-align: middle;\n",
              "    }\n",
              "\n",
              "    .dataframe tbody tr th {\n",
              "        vertical-align: top;\n",
              "    }\n",
              "\n",
              "    .dataframe thead th {\n",
              "        text-align: right;\n",
              "    }\n",
              "</style>\n",
              "<table border=\"1\" class=\"dataframe\">\n",
              "  <thead>\n",
              "    <tr style=\"text-align: right;\">\n",
              "      <th></th>\n",
              "      <th>id</th>\n",
              "      <th>age</th>\n",
              "      <th>hypertension</th>\n",
              "      <th>heart_disease</th>\n",
              "      <th>avg_glucose_level</th>\n",
              "      <th>bmi</th>\n",
              "      <th>stroke</th>\n",
              "      <th>gender_Female</th>\n",
              "      <th>gender_Male</th>\n",
              "      <th>gender_Other</th>\n",
              "      <th>...</th>\n",
              "      <th>work_type_Self-employed</th>\n",
              "      <th>work_type_children</th>\n",
              "      <th>Residence_type_Rural</th>\n",
              "      <th>Residence_type_Urban</th>\n",
              "      <th>smoking_status_Unknown</th>\n",
              "      <th>smoking_status_formerly smoked</th>\n",
              "      <th>smoking_status_never smoked</th>\n",
              "      <th>smoking_status_smokes</th>\n",
              "      <th>log_avg_glucose_level</th>\n",
              "      <th>bmi_NA</th>\n",
              "    </tr>\n",
              "  </thead>\n",
              "  <tbody>\n",
              "    <tr>\n",
              "      <th>2465</th>\n",
              "      <td>68685</td>\n",
              "      <td>36.0</td>\n",
              "      <td>0</td>\n",
              "      <td>0</td>\n",
              "      <td>65.87</td>\n",
              "      <td>32.2</td>\n",
              "      <td>0</td>\n",
              "      <td>0</td>\n",
              "      <td>1</td>\n",
              "      <td>0</td>\n",
              "      <td>...</td>\n",
              "      <td>0</td>\n",
              "      <td>0</td>\n",
              "      <td>0</td>\n",
              "      <td>1</td>\n",
              "      <td>0</td>\n",
              "      <td>1</td>\n",
              "      <td>0</td>\n",
              "      <td>0</td>\n",
              "      <td>4.187683</td>\n",
              "      <td>0</td>\n",
              "    </tr>\n",
              "    <tr>\n",
              "      <th>4311</th>\n",
              "      <td>59058</td>\n",
              "      <td>45.0</td>\n",
              "      <td>0</td>\n",
              "      <td>0</td>\n",
              "      <td>68.66</td>\n",
              "      <td>25.3</td>\n",
              "      <td>0</td>\n",
              "      <td>1</td>\n",
              "      <td>0</td>\n",
              "      <td>0</td>\n",
              "      <td>...</td>\n",
              "      <td>0</td>\n",
              "      <td>0</td>\n",
              "      <td>1</td>\n",
              "      <td>0</td>\n",
              "      <td>0</td>\n",
              "      <td>0</td>\n",
              "      <td>1</td>\n",
              "      <td>0</td>\n",
              "      <td>4.229167</td>\n",
              "      <td>0</td>\n",
              "    </tr>\n",
              "    <tr>\n",
              "      <th>2375</th>\n",
              "      <td>46068</td>\n",
              "      <td>58.0</td>\n",
              "      <td>0</td>\n",
              "      <td>0</td>\n",
              "      <td>170.93</td>\n",
              "      <td>30.7</td>\n",
              "      <td>0</td>\n",
              "      <td>0</td>\n",
              "      <td>1</td>\n",
              "      <td>0</td>\n",
              "      <td>...</td>\n",
              "      <td>1</td>\n",
              "      <td>0</td>\n",
              "      <td>1</td>\n",
              "      <td>0</td>\n",
              "      <td>1</td>\n",
              "      <td>0</td>\n",
              "      <td>0</td>\n",
              "      <td>0</td>\n",
              "      <td>5.141254</td>\n",
              "      <td>0</td>\n",
              "    </tr>\n",
              "    <tr>\n",
              "      <th>5017</th>\n",
              "      <td>36837</td>\n",
              "      <td>61.0</td>\n",
              "      <td>0</td>\n",
              "      <td>0</td>\n",
              "      <td>69.88</td>\n",
              "      <td>27.1</td>\n",
              "      <td>0</td>\n",
              "      <td>1</td>\n",
              "      <td>0</td>\n",
              "      <td>0</td>\n",
              "      <td>...</td>\n",
              "      <td>1</td>\n",
              "      <td>0</td>\n",
              "      <td>0</td>\n",
              "      <td>1</td>\n",
              "      <td>0</td>\n",
              "      <td>0</td>\n",
              "      <td>1</td>\n",
              "      <td>0</td>\n",
              "      <td>4.246779</td>\n",
              "      <td>0</td>\n",
              "    </tr>\n",
              "    <tr>\n",
              "      <th>753</th>\n",
              "      <td>30550</td>\n",
              "      <td>78.0</td>\n",
              "      <td>0</td>\n",
              "      <td>0</td>\n",
              "      <td>103.86</td>\n",
              "      <td>30.6</td>\n",
              "      <td>0</td>\n",
              "      <td>1</td>\n",
              "      <td>0</td>\n",
              "      <td>0</td>\n",
              "      <td>...</td>\n",
              "      <td>0</td>\n",
              "      <td>0</td>\n",
              "      <td>0</td>\n",
              "      <td>1</td>\n",
              "      <td>1</td>\n",
              "      <td>0</td>\n",
              "      <td>0</td>\n",
              "      <td>0</td>\n",
              "      <td>4.643044</td>\n",
              "      <td>0</td>\n",
              "    </tr>\n",
              "  </tbody>\n",
              "</table>\n",
              "<p>5 rows × 25 columns</p>\n",
              "</div>\n",
              "    <div class=\"colab-df-buttons\">\n",
              "\n",
              "  <div class=\"colab-df-container\">\n",
              "    <button class=\"colab-df-convert\" onclick=\"convertToInteractive('df-dd475b98-7ca7-443d-b22f-80ae8e3e8b7b')\"\n",
              "            title=\"Convert this dataframe to an interactive table.\"\n",
              "            style=\"display:none;\">\n",
              "\n",
              "  <svg xmlns=\"http://www.w3.org/2000/svg\" height=\"24px\" viewBox=\"0 -960 960 960\">\n",
              "    <path d=\"M120-120v-720h720v720H120Zm60-500h600v-160H180v160Zm220 220h160v-160H400v160Zm0 220h160v-160H400v160ZM180-400h160v-160H180v160Zm440 0h160v-160H620v160ZM180-180h160v-160H180v160Zm440 0h160v-160H620v160Z\"/>\n",
              "  </svg>\n",
              "    </button>\n",
              "\n",
              "  <style>\n",
              "    .colab-df-container {\n",
              "      display:flex;\n",
              "      gap: 12px;\n",
              "    }\n",
              "\n",
              "    .colab-df-convert {\n",
              "      background-color: #E8F0FE;\n",
              "      border: none;\n",
              "      border-radius: 50%;\n",
              "      cursor: pointer;\n",
              "      display: none;\n",
              "      fill: #1967D2;\n",
              "      height: 32px;\n",
              "      padding: 0 0 0 0;\n",
              "      width: 32px;\n",
              "    }\n",
              "\n",
              "    .colab-df-convert:hover {\n",
              "      background-color: #E2EBFA;\n",
              "      box-shadow: 0px 1px 2px rgba(60, 64, 67, 0.3), 0px 1px 3px 1px rgba(60, 64, 67, 0.15);\n",
              "      fill: #174EA6;\n",
              "    }\n",
              "\n",
              "    .colab-df-buttons div {\n",
              "      margin-bottom: 4px;\n",
              "    }\n",
              "\n",
              "    [theme=dark] .colab-df-convert {\n",
              "      background-color: #3B4455;\n",
              "      fill: #D2E3FC;\n",
              "    }\n",
              "\n",
              "    [theme=dark] .colab-df-convert:hover {\n",
              "      background-color: #434B5C;\n",
              "      box-shadow: 0px 1px 3px 1px rgba(0, 0, 0, 0.15);\n",
              "      filter: drop-shadow(0px 1px 2px rgba(0, 0, 0, 0.3));\n",
              "      fill: #FFFFFF;\n",
              "    }\n",
              "  </style>\n",
              "\n",
              "    <script>\n",
              "      const buttonEl =\n",
              "        document.querySelector('#df-dd475b98-7ca7-443d-b22f-80ae8e3e8b7b button.colab-df-convert');\n",
              "      buttonEl.style.display =\n",
              "        google.colab.kernel.accessAllowed ? 'block' : 'none';\n",
              "\n",
              "      async function convertToInteractive(key) {\n",
              "        const element = document.querySelector('#df-dd475b98-7ca7-443d-b22f-80ae8e3e8b7b');\n",
              "        const dataTable =\n",
              "          await google.colab.kernel.invokeFunction('convertToInteractive',\n",
              "                                                    [key], {});\n",
              "        if (!dataTable) return;\n",
              "\n",
              "        const docLinkHtml = 'Like what you see? Visit the ' +\n",
              "          '<a target=\"_blank\" href=https://colab.research.google.com/notebooks/data_table.ipynb>data table notebook</a>'\n",
              "          + ' to learn more about interactive tables.';\n",
              "        element.innerHTML = '';\n",
              "        dataTable['output_type'] = 'display_data';\n",
              "        await google.colab.output.renderOutput(dataTable, element);\n",
              "        const docLink = document.createElement('div');\n",
              "        docLink.innerHTML = docLinkHtml;\n",
              "        element.appendChild(docLink);\n",
              "      }\n",
              "    </script>\n",
              "  </div>\n",
              "\n",
              "\n",
              "<div id=\"df-84199ce0-1057-4658-ad96-f62786de7d17\">\n",
              "  <button class=\"colab-df-quickchart\" onclick=\"quickchart('df-84199ce0-1057-4658-ad96-f62786de7d17')\"\n",
              "            title=\"Suggest charts\"\n",
              "            style=\"display:none;\">\n",
              "\n",
              "<svg xmlns=\"http://www.w3.org/2000/svg\" height=\"24px\"viewBox=\"0 0 24 24\"\n",
              "     width=\"24px\">\n",
              "    <g>\n",
              "        <path d=\"M19 3H5c-1.1 0-2 .9-2 2v14c0 1.1.9 2 2 2h14c1.1 0 2-.9 2-2V5c0-1.1-.9-2-2-2zM9 17H7v-7h2v7zm4 0h-2V7h2v10zm4 0h-2v-4h2v4z\"/>\n",
              "    </g>\n",
              "</svg>\n",
              "  </button>\n",
              "\n",
              "<style>\n",
              "  .colab-df-quickchart {\n",
              "      --bg-color: #E8F0FE;\n",
              "      --fill-color: #1967D2;\n",
              "      --hover-bg-color: #E2EBFA;\n",
              "      --hover-fill-color: #174EA6;\n",
              "      --disabled-fill-color: #AAA;\n",
              "      --disabled-bg-color: #DDD;\n",
              "  }\n",
              "\n",
              "  [theme=dark] .colab-df-quickchart {\n",
              "      --bg-color: #3B4455;\n",
              "      --fill-color: #D2E3FC;\n",
              "      --hover-bg-color: #434B5C;\n",
              "      --hover-fill-color: #FFFFFF;\n",
              "      --disabled-bg-color: #3B4455;\n",
              "      --disabled-fill-color: #666;\n",
              "  }\n",
              "\n",
              "  .colab-df-quickchart {\n",
              "    background-color: var(--bg-color);\n",
              "    border: none;\n",
              "    border-radius: 50%;\n",
              "    cursor: pointer;\n",
              "    display: none;\n",
              "    fill: var(--fill-color);\n",
              "    height: 32px;\n",
              "    padding: 0;\n",
              "    width: 32px;\n",
              "  }\n",
              "\n",
              "  .colab-df-quickchart:hover {\n",
              "    background-color: var(--hover-bg-color);\n",
              "    box-shadow: 0 1px 2px rgba(60, 64, 67, 0.3), 0 1px 3px 1px rgba(60, 64, 67, 0.15);\n",
              "    fill: var(--button-hover-fill-color);\n",
              "  }\n",
              "\n",
              "  .colab-df-quickchart-complete:disabled,\n",
              "  .colab-df-quickchart-complete:disabled:hover {\n",
              "    background-color: var(--disabled-bg-color);\n",
              "    fill: var(--disabled-fill-color);\n",
              "    box-shadow: none;\n",
              "  }\n",
              "\n",
              "  .colab-df-spinner {\n",
              "    border: 2px solid var(--fill-color);\n",
              "    border-color: transparent;\n",
              "    border-bottom-color: var(--fill-color);\n",
              "    animation:\n",
              "      spin 1s steps(1) infinite;\n",
              "  }\n",
              "\n",
              "  @keyframes spin {\n",
              "    0% {\n",
              "      border-color: transparent;\n",
              "      border-bottom-color: var(--fill-color);\n",
              "      border-left-color: var(--fill-color);\n",
              "    }\n",
              "    20% {\n",
              "      border-color: transparent;\n",
              "      border-left-color: var(--fill-color);\n",
              "      border-top-color: var(--fill-color);\n",
              "    }\n",
              "    30% {\n",
              "      border-color: transparent;\n",
              "      border-left-color: var(--fill-color);\n",
              "      border-top-color: var(--fill-color);\n",
              "      border-right-color: var(--fill-color);\n",
              "    }\n",
              "    40% {\n",
              "      border-color: transparent;\n",
              "      border-right-color: var(--fill-color);\n",
              "      border-top-color: var(--fill-color);\n",
              "    }\n",
              "    60% {\n",
              "      border-color: transparent;\n",
              "      border-right-color: var(--fill-color);\n",
              "    }\n",
              "    80% {\n",
              "      border-color: transparent;\n",
              "      border-right-color: var(--fill-color);\n",
              "      border-bottom-color: var(--fill-color);\n",
              "    }\n",
              "    90% {\n",
              "      border-color: transparent;\n",
              "      border-bottom-color: var(--fill-color);\n",
              "    }\n",
              "  }\n",
              "</style>\n",
              "\n",
              "  <script>\n",
              "    async function quickchart(key) {\n",
              "      const quickchartButtonEl =\n",
              "        document.querySelector('#' + key + ' button');\n",
              "      quickchartButtonEl.disabled = true;  // To prevent multiple clicks.\n",
              "      quickchartButtonEl.classList.add('colab-df-spinner');\n",
              "      try {\n",
              "        const charts = await google.colab.kernel.invokeFunction(\n",
              "            'suggestCharts', [key], {});\n",
              "      } catch (error) {\n",
              "        console.error('Error during call to suggestCharts:', error);\n",
              "      }\n",
              "      quickchartButtonEl.classList.remove('colab-df-spinner');\n",
              "      quickchartButtonEl.classList.add('colab-df-quickchart-complete');\n",
              "    }\n",
              "    (() => {\n",
              "      let quickchartButtonEl =\n",
              "        document.querySelector('#df-84199ce0-1057-4658-ad96-f62786de7d17 button');\n",
              "      quickchartButtonEl.style.display =\n",
              "        google.colab.kernel.accessAllowed ? 'block' : 'none';\n",
              "    })();\n",
              "  </script>\n",
              "</div>\n",
              "    </div>\n",
              "  </div>\n"
            ]
          },
          "metadata": {},
          "execution_count": 53
        }
      ]
    },
    {
      "cell_type": "markdown",
      "source": [
        "Looking at the data, it seems that there's an unnamed index column, which we will want to ignore, as well as an id column which is not useful."
      ],
      "metadata": {
        "id": "VRo4uWB4soAf"
      }
    },
    {
      "cell_type": "code",
      "source": [
        "data.drop(['gender_Other'], axis=1, inplace=True)\n",
        "data.drop(['id'], axis=1, inplace=True)\n",
        "data.columns"
      ],
      "metadata": {
        "colab": {
          "base_uri": "https://localhost:8080/"
        },
        "id": "JUV8dAJPYOvX",
        "outputId": "e75d9604-0d8a-48b9-b561-7ca83b39034c"
      },
      "execution_count": 54,
      "outputs": [
        {
          "output_type": "execute_result",
          "data": {
            "text/plain": [
              "Index(['age', 'hypertension', 'heart_disease', 'avg_glucose_level', 'bmi',\n",
              "       'stroke', 'gender_Female', 'gender_Male', 'ever_married_No',\n",
              "       'ever_married_Yes', 'work_type_Govt_job', 'work_type_Never_worked',\n",
              "       'work_type_Private', 'work_type_Self-employed', 'work_type_children',\n",
              "       'Residence_type_Rural', 'Residence_type_Urban',\n",
              "       'smoking_status_Unknown', 'smoking_status_formerly smoked',\n",
              "       'smoking_status_never smoked', 'smoking_status_smokes',\n",
              "       'log_avg_glucose_level', 'bmi_NA'],\n",
              "      dtype='object')"
            ]
          },
          "metadata": {},
          "execution_count": 54
        }
      ]
    },
    {
      "cell_type": "markdown",
      "metadata": {
        "id": "SZoxAWPajjpN"
      },
      "source": [
        "**Challenges in reading, cleaning, and preparing the data for analysis**\n",
        "- Deciding what to do with missing values - we decided to create a dummy na column for bmi and then also convert all of the missing values to 0. The dummy column makes it clear which bmi values are missing (1) and this approach was utilized since it is generally the best approach for linear models (according to the model_evaluation notes)\n",
        "- When and how to transform badly scared variables\n",
        "  - bmi had a very slightly right skewed histogram, however, it was close enough to approx. normal that we left it\n",
        "  - average glucose level had a very skewed right histogram, and after attempting many log, sqrt, and arcsin transformations, we determined that the log transformation made the histogram appear the most normal.\n",
        "- windsorizing worked well for average glucose level variable but for bmi, this still left some outliers, so I had to just drop values >=46 for bmi. (Edit: The reason why outliers were left was because we were using the np.percentile function instead of the np.nanpercentile function. With np.percentile, nan values were being used in computation, whereas with np.nanpercentile, it \"Computes the qth percentile of the data along the specified axis, while ignoring nan values.\" Once nan values were ignored, no outliers were left after running the windsorizing function. In future, nan values could be handled first and then np.percentile used. However, it seems like just using np.nanpercentile is a valid approach.)\n",
        "\n"
      ]
    },
    {
      "cell_type": "code",
      "execution_count": 55,
      "metadata": {
        "id": "emKXn24gWaN9"
      },
      "outputs": [],
      "source": [
        "data.to_csv('./Group4/project_2/data/cleaned_training_data.csv', index=False)"
      ]
    }
  ],
  "metadata": {
    "colab": {
      "provenance": []
    },
    "kernelspec": {
      "display_name": "Python 3 (ipykernel)",
      "language": "python",
      "name": "python3"
    },
    "language_info": {
      "codemirror_mode": {
        "name": "ipython",
        "version": 3
      },
      "file_extension": ".py",
      "mimetype": "text/x-python",
      "name": "python",
      "nbconvert_exporter": "python",
      "pygments_lexer": "ipython3",
      "version": "3.8.16"
    }
  },
  "nbformat": 4,
  "nbformat_minor": 0
}
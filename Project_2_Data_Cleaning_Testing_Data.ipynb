{
  "nbformat": 4,
  "nbformat_minor": 0,
  "metadata": {
    "colab": {
      "provenance": [],
      "authorship_tag": "ABX9TyM7486mv250WyEgWJnNBhyJ",
      "include_colab_link": true
    },
    "kernelspec": {
      "name": "python3",
      "display_name": "Python 3"
    },
    "language_info": {
      "name": "python"
    }
  },
  "cells": [
    {
      "cell_type": "markdown",
      "metadata": {
        "id": "view-in-github",
        "colab_type": "text"
      },
      "source": [
        "<a href=\"https://colab.research.google.com/github/DS3001/Group4/blob/main/Project_2_Data_Cleaning_Testing_Data.ipynb\" target=\"_parent\"><img src=\"https://colab.research.google.com/assets/colab-badge.svg\" alt=\"Open In Colab\"/></a>"
      ]
    },
    {
      "cell_type": "code",
      "execution_count": 20,
      "metadata": {
        "id": "DQu6TqHGSvLA"
      },
      "outputs": [],
      "source": [
        "#Reading in the testing data\n",
        "import pandas as pd\n",
        "import numpy as np\n",
        "import seaborn as sns\n",
        "data = pd.read_csv(\"/content/testing_data.csv\", index_col=0)"
      ]
    },
    {
      "cell_type": "code",
      "source": [
        "data.describe()\n",
        "data.head"
      ],
      "metadata": {
        "colab": {
          "base_uri": "https://localhost:8080/"
        },
        "id": "jF-wohTdTAEz",
        "outputId": "4c8fc577-1f08-409c-b57e-daca40fb2687"
      },
      "execution_count": 21,
      "outputs": [
        {
          "output_type": "execute_result",
          "data": {
            "text/plain": [
              "<bound method NDFrame.head of         id  gender   age  hypertension  heart_disease ever_married  \\\n",
              "251  30468    Male  58.0             1              0          Yes   \n",
              "252  16523  Female   8.0             0              0           No   \n",
              "253  56543  Female  70.0             0              0          Yes   \n",
              "255  32257  Female  47.0             0              0          Yes   \n",
              "259  28674  Female  74.0             1              0          Yes   \n",
              "..     ...     ...   ...           ...            ...          ...   \n",
              "228  39105    Male  74.0             0              0          Yes   \n",
              "233  68356  Female  73.0             0              0          Yes   \n",
              "237  28493    Male  57.0             0              0          Yes   \n",
              "247  27153  Female  75.0             0              0          Yes   \n",
              "248  34060    Male  71.0             1              0          Yes   \n",
              "\n",
              "         work_type Residence_type  avg_glucose_level   bmi   smoking_status  \\\n",
              "251        Private          Urban              87.96  39.2     never smoked   \n",
              "252        Private          Urban             110.89  17.6          Unknown   \n",
              "253        Private          Rural              69.04  35.9  formerly smoked   \n",
              "255        Private          Urban             210.95  50.1          Unknown   \n",
              "259  Self-employed          Urban             205.84  54.6     never smoked   \n",
              "..             ...            ...                ...   ...              ...   \n",
              "228  Self-employed          Rural              60.98   NaN     never smoked   \n",
              "233  Self-employed          Urban              70.94  34.4     never smoked   \n",
              "237        Private          Urban              86.30  31.7          Unknown   \n",
              "247  Self-employed          Rural              78.80  29.3  formerly smoked   \n",
              "248  Self-employed          Rural              87.80   NaN          Unknown   \n",
              "\n",
              "     stroke  \n",
              "251       0  \n",
              "252       0  \n",
              "253       0  \n",
              "255       0  \n",
              "259       0  \n",
              "..      ...  \n",
              "228       1  \n",
              "233       1  \n",
              "237       1  \n",
              "247       1  \n",
              "248       1  \n",
              "\n",
              "[1023 rows x 12 columns]>"
            ]
          },
          "metadata": {},
          "execution_count": 21
        }
      ]
    },
    {
      "cell_type": "code",
      "source": [
        "#looking at the unique values for each column\n",
        "unique_values = {}\n",
        "for column in data.columns:\n",
        "    unique_values[column] = data[column].unique()\n",
        "# Print the unique values for each column\n",
        "for column, values in unique_values.items():\n",
        "    print(f'Unique values for {column}: {values}')"
      ],
      "metadata": {
        "colab": {
          "base_uri": "https://localhost:8080/"
        },
        "id": "_sILCz8NUfCm",
        "outputId": "c4b27200-7dec-4bdc-cde5-0c6464d696ef"
      },
      "execution_count": 6,
      "outputs": [
        {
          "output_type": "stream",
          "name": "stdout",
          "text": [
            "Unique values for id: [30468 16523 56543 ... 28493 27153 34060]\n",
            "Unique values for gender: ['Male' 'Female']\n",
            "Unique values for age: [58.    8.   70.   47.   74.   79.   40.   35.   44.   71.   23.   69.\n",
            " 21.   78.   24.   60.   66.   52.   34.   57.   41.   56.    0.88 25.\n",
            " 39.   31.   61.   22.   42.   33.   68.   26.   43.   53.   55.   64.\n",
            " 38.    5.   54.   72.   51.   20.   65.   16.   46.   67.   18.    1.08\n",
            "  1.8  80.   37.    9.   28.   10.   82.    2.   32.   30.   45.   50.\n",
            "  6.   73.   27.   63.   59.   29.   36.    1.   48.    1.4  19.    1.72\n",
            " 77.   75.   15.   49.   14.   81.    1.64 13.   11.   62.   76.    4.\n",
            " 12.    7.    1.48  0.24  0.64  0.48  3.    1.24 17.    1.16  0.56  0.72\n",
            "  0.16  1.32  0.32]\n",
            "Unique values for hypertension: [1 0]\n",
            "Unique values for heart_disease: [0 1]\n",
            "Unique values for ever_married: ['Yes' 'No']\n",
            "Unique values for work_type: ['Private' 'Self-employed' 'Govt_job' 'children' 'Never_worked']\n",
            "Unique values for Residence_type: ['Urban' 'Rural']\n",
            "Unique values for avg_glucose_level: [ 87.96 110.89  69.04 210.95 205.84  77.08  57.08  95.04  85.37  57.33\n",
            " 198.21 149.75  94.09 203.04  97.93  78.05  89.44 243.5   75.23  66.42\n",
            " 205.23  78.4  137.96  72.55  99.8   73.02  88.11 138.29  83.51 213.37\n",
            " 122.41  80.88  93.48 101.37 105.22  68.19  74.44  92.21 100.09  75.05\n",
            " 184.15  96.88  79.14  65.24 111.19  65.38  96.99  97.08  88.78 102.64\n",
            "  70.92  86.11 129.16 114.01  98.41 127.18 105.61 155.43  75.29 100.35\n",
            " 247.69 103.62 144.1  114.25  74.46 118.51 182.86  89.99  63.61  60.53\n",
            " 102.34 111.43 148.91  69.4   71.2   92.04  98.54 112.43  67.39  98.42\n",
            " 111.85  92.39  63.71  70.35  57.27  57.57  87.43  81.18  59.49  56.75\n",
            "  92.14  92.11  74.98  55.25  79.89  94.26  94.34  99.82  59.54  89.63\n",
            "  80.93 200.49 156.57  80.4   75.19 103.51  70.78  84.11  74.02  78.49\n",
            "  75.04 128.97  79.08 106.51  92.7   82.59  91.    60.26 122.74  83.83\n",
            " 212.01 126.35  88.66 112.95  76.82  91.56 109.1  121.04 160.83  85.62\n",
            " 119.52  89.3   69.21 126.18 125.38  73.01 103.61 160.    86.96 237.15\n",
            "  90.92 104.48  70.71  63.64  87.27 109.51  57.82 115.29 111.02 109.02\n",
            "  87.11 207.64 100.97  86.4   61.81  89.98  98.58  90.1  112.47 195.03\n",
            "  65.81 123.36  72.93  84.27  72.49  82.61  79.85 131.77  86.34 156.18\n",
            " 105.63  84.08 110.55  84.93 113.01 115.52 254.63  96.63 246.34 195.16\n",
            "  93.34  69.7   75.88  89.45 121.14  88.65 103.94  56.3   98.1   71.73\n",
            "  57.26 195.04  75.79  82.31  73.   138.07 112.07  83.56  69.3   75.62\n",
            " 224.71 122.75 226.11  82.57 102.06  65.59 120.85  62.68 198.02  85.35\n",
            " 118.62  93.11  93.71  76.25  94.33  57.89 127.75 108.03 104.07  74.72\n",
            " 145.71 167.31  87.49  74.82  93.04  85.82 144.16  67.97  70.87 199.96\n",
            "  86.33  78.85 103.81 155.17 132.41 103.25 246.53  87.72  90.42 107.29\n",
            " 228.7  102.37  86.26  59.87  72.76 120.77  60.39  78.99  83.84 107.98\n",
            " 216.88  83.02 139.43  87.33 124.08 104.36  81.28  58.3   97.5   90.43\n",
            " 110.47  87.78 126.67  70.58  65.29  97.14 237.17 106.41  93.58  84.3\n",
            "  61.42  83.79  75.94  55.51  58.29 115.83  99.69 102.89  79.05 210.\n",
            " 222.6  199.14 191.48 200.16  80.73 145.26 103.35  85.92  80.8   62.56\n",
            "  71.38 122.48  86.87  70.65 105.73  58.02  56.84  58.69  92.32  80.63\n",
            "  84.9   74.05  71.81 211.88  56.67 225.6   70.93  89.93  84.85 224.63\n",
            " 110.53  79.33 213.87 222.85  72.65  86.68 217.11  70.96  83.26  76.63\n",
            "  74.26 164.67  92.73  92.82  59.99  90.26  91.9  149.9  100.33  75.53\n",
            "  80.24  65.95  77.63  75.5   65.6  186.95  68.66 146.97 198.24  90.51\n",
            "  80.74  93.    86.74  91.46  81.05  73.27  95.75 120.25  82.37 114.45\n",
            " 101.3   94.98  93.13  82.13  65.28  94.47  75.77  88.97  93.14  65.34\n",
            "  81.96  73.5   80.72 109.97  92.87 113.05 134.33 208.78 114.16 220.36\n",
            "  76.03  72.29  80.42  93.64 217.75  58.7  149.13  82.39  80.25 170.76\n",
            " 189.44  70.03  60.96  83.91 152.02  60.61  93.3   97.39 134.61  56.9\n",
            " 112.66  71.06 133.82  88.81  94.12 125.09  96.04  89.03  56.34  61.83\n",
            " 131.99 145.5  131.43  75.64  95.07  87.16  80.47  65.01 110.07  90.35\n",
            " 162.93  89.22  85.81 206.52  62.66 100.49  96.86  74.43  86.55  61.34\n",
            " 140.93  86.   229.58  65.66 114.99  77.37  98.03 117.34  77.51  64.15\n",
            "  74.5  216.4   74.7   81.44 100.61 205.    95.25 101.15  68.38 113.87\n",
            "  78.9   59.61  97.55  82.15  70.52  88.29  80.18  82.27  77.55  87.84\n",
            "  58.63 150.1   81.31  90.4  209.5   72.61 206.15 102.9   97.97 196.61\n",
            "  79.55  76.92 120.94 216.38 105.74  58.41  83.16 110.68  70.06  95.66\n",
            "  66.08  87.26 146.59 121.39  78.97  84.12 153.6   91.28 190.13  92.3\n",
            "  84.46 178.89 227.74 100.66 213.8   99.1   57.47  78.24 103.43  99.83\n",
            " 190.92  89.02  93.62  88.57  89.11 110.87 142.68  75.28 100.75 110.42\n",
            "  95.88  86.03 227.96 111.68  99.29 105.93 107.83  88.19  84.6   69.38\n",
            "  65.42  82.12  96.01 102.42 125.3  141.8   92.65  57.02  83.3   89.53\n",
            " 105.19  68.79 121.17  82.18 107.42 111.78 105.77  77.53 239.95  83.33\n",
            "  65.33 202.21  57.28  58.42 103.76  70.73 198.79  96.52  96.37  73.89\n",
            "  72.94  68.48  85.03  95.36 110.33  65.16  56.37  87.1   90.68  62.52\n",
            "  84.86 215.81 149.17 139.48 104.04 112.46  97.35  80.55  86.53 114.61\n",
            "  56.08 102.46  84.1   65.07 201.58 211.12 108.72  61.87 104.86  76.21\n",
            "  87.25  62.91 107.61 228.2   92.15  83.7  104.45 223.9   93.18 207.96\n",
            " 176.78  90.65  92.37 127.23 113.57  91.85  88.49  78.32  84.7   72.6\n",
            "  84.43  84.13  81.54  90.97 127.57  98.9  114.32  90.6  124.38  79.25\n",
            "  98.84 228.92  81.25  76.81  78.   263.56  80.51  87.87 103.6   85.59\n",
            "  81.11  67.06 228.05 119.9  105.51  83.42  62.69  89.61 111.81  60.09\n",
            "  91.02  91.57  62.57  70.11  75.46  63.63  94.25 100.12 205.97 112.19\n",
            " 193.87 111.04 214.77  73.76 197.11  94.49  98.22 125.89  65.12  79.21\n",
            " 202.98  60.7   92.22  79.94  69.92 136.96 226.38  82.05  61.11  82.49\n",
            "  83.15  78.7   99.23  83.52 226.84 116.25  88.38  91.81 115.4  200.73\n",
            "  67.3   89.16 108.64  81.21 202.51 126.04  82.3   70.22  87.81 142.31\n",
            "  74.15  61.53 113.95  78.23  94.11  87.5   76.74 138.55 101.19 145.94\n",
            "  93.93  86.21  75.41  95.28  95.87  62.61  76.57  92.71  99.    93.6\n",
            "  57.42 173.9   60.57 105.34 122.73  94.63  56.85  65.48  72.53 116.85\n",
            " 117.04  58.24  82.53  71.25 129.73 105.88 217.94  69.89  87.2   57.6\n",
            " 124.37 102.39  93.96  92.49 122.39 107.58 208.05  85.16 198.3  100.06\n",
            " 103.11  95.79 117.63 218.6   77.5  119.77  76.45  95.8  134.12  82.62\n",
            "  61.29  98.92  90.74 159.79  97.86  91.58 109.52 104.55  84.17  67.28\n",
            "  88.51  90.38 207.6  158.9   69.52 110.96  89.32 102.1   57.59 163.17\n",
            " 212.62 128.63  77.6  120.15  95.89  89.06 123.08  60.64 106.54  72.04\n",
            " 222.52  92.74 232.64  73.24 119.4   88.79  87.12  56.33  87.71 207.37\n",
            " 111.08 201.96 123.89  90.44 138.44  75.06 102.76 131.05 131.42  69.46\n",
            " 101.12 116.06  77.95  67.56 253.93 207.84  63.42  79.57 101.46 134.76\n",
            "  56.48 228.5   74.39 118.55 232.29 236.04  88.98  86.85  94.77  85.18\n",
            "  76.34  83.8  112.37  76.08 108.51  98.07  99.01  64.37 146.1  192.5\n",
            "  89.42  82.26  87.4   86.95 101.76  57.4   95.19  89.41  78.79  70.13\n",
            "  81.51  86.07  94.24  89.73 208.39  77.76 116.04  92.75  62.44 108.82\n",
            " 121.15  87.   135.82  83.55  68.07 112.7   74.34  60.32 200.25  90.31\n",
            "  76.43  75.84  81.33 101.56 244.3   58.23  59.67 213.92  79.81  90.3\n",
            " 100.47  66.46  96.47  60.13 156.43  73.07  63.43  74.88  88.1   74.16\n",
            " 232.78  89.57  75.07 106.65  63.56  79.66 104.09 174.54  73.63  98.52\n",
            " 234.45  87.54  67.92  97.65 121.83  81.53 114.92 165.36  89.24  63.82\n",
            "  71.29 119.58 110.32 137.27  69.77  71.4   71.8   75.22 119.3  208.69\n",
            "  81.87 153.31 231.72  81.88 110.84  61.57  67.55 243.52 108.63  84.49\n",
            "  73.71  72.96  82.19 208.31  98.61  74.12  71.08  84.07 132.88  80.3\n",
            " 101.95  99.76 215.07  83.37 124.66  82.64  77.42 117.59 203.36  84.04\n",
            "  89.29 179.38 138.51  61.98  76.31  95.05  82.38  91.68 166.29  76.15\n",
            " 252.72  84.03  90.9  109.78 196.71  59.32 185.17 104.72 104.47 116.55\n",
            " 228.56 240.09 101.45  64.14  78.92  73.18 224.1   59.86 263.32 140.1\n",
            " 207.28 199.2  103.68  70.28 221.79 151.16  67.29 221.89 195.71 111.98\n",
            "  64.44 112.24 215.94  93.81 114.77  74.11 116.1  199.86  60.98  70.94\n",
            "  86.3   78.8   87.8 ]\n",
            "Unique values for bmi: [39.2 17.6 35.9 50.1 54.6 35.  22.  42.4 33.  24.6 27.3 27.  30.9 33.6\n",
            " 31.2 25.7 21.9 26.1 29.  23.6 39.5 64.8 35.1 21.  31.6 31.1 15.5 26.4\n",
            " 36.  40.3 23.8 23.7 37.9 31.  45.2 27.4 22.9  nan 31.4 25.  28.9 39.7\n",
            " 41.2 34.8 31.7 35.8 28.3 41.6 19.  32.4 31.8 32.1 26.7 27.9 22.6 28.1\n",
            " 40.9 27.6 24.3 35.6 40.6 24.4 42.3 17.5 17.  47.8 27.1 23.1 30.2 36.4\n",
            " 22.1 40.5 23.  28.  22.8 55.7 26.9 18.3 36.2 21.4 20.4 34.2 42.2 23.2\n",
            " 34.6 28.4 57.5 37.  20.3 22.3 24.5 23.5 40.2 29.5 26.2 33.3 24.2 23.3\n",
            " 30.3 25.2 36.7 22.2 20.  17.8 46.1 33.1 18.1 24.8 31.9 25.8 27.7 29.1\n",
            " 30.1 31.3 19.5 28.8 32.9 22.4 19.8 30.5 42.6 37.1 18.7 32.8 28.7 32.3\n",
            " 33.4 44.9 28.5 45.  25.3 28.2 37.6 34.4 26.5 21.1 30.  19.7 21.8 45.5\n",
            " 21.3 20.1 25.1 42.9 14.3 16.2 38.7 29.7 14.6 27.2 19.3 26.6 30.6 41.9\n",
            " 26.  28.6 33.9 35.5 16.3 34.  24.  16.9 16.4 40.4 34.3 41.1 33.2 36.3\n",
            " 24.7 55.9 20.8 44.  18.5 25.5 37.2 40.1 37.3 44.8 43.2 29.9 22.5 43.\n",
            " 21.6 25.4 42.8 15.2 29.4 25.6 33.8 27.8 36.1 32.7 23.4 34.9 33.5 38.1\n",
            " 38.5 30.7 43.9 38.  32.5 39.4 41.3 41.5 38.9 17.1 11.5 23.9 44.2 35.7\n",
            " 14.2 15.4 29.2 27.5 37.5 38.8 30.4 20.6 15.7 53.8 18.6 35.4 20.2 29.8\n",
            " 19.1 46.5 24.1 18.8 32.  31.5 36.6 52.8 35.3 15.8 34.5 26.8 19.9 19.4\n",
            " 15.3 20.7 14.8 43.6 22.7 51.9 32.6 21.2 16.1 42.7 36.8 32.2 39.3 24.9\n",
            " 21.7 20.9 30.8 25.9 48.3 38.2 58.1 34.7 15.1 21.5 37.7 50.4 26.3 43.4\n",
            " 19.6 29.3 53.4 41.  15.  16.6 40.8 47.4 19.2 43.3 35.2 20.5 16.  39.1\n",
            " 16.5 49.9 39.9 54.3 47.9 36.9 17.3 13.9 17.4 17.7 17.2 38.4 18.4 29.6\n",
            " 44.6 50.2 39.6 48.1 37.8 16.7 45.7 18.  34.1 46.  16.8 36.5 56.6 37.4]\n",
            "Unique values for smoking_status: ['never smoked' 'Unknown' 'formerly smoked' 'smokes']\n",
            "Unique values for stroke: [0 1]\n"
          ]
        }
      ]
    },
    {
      "cell_type": "markdown",
      "source": [
        "One hot encoding for categorical variables"
      ],
      "metadata": {
        "id": "0ZwWaYNiher8"
      }
    },
    {
      "cell_type": "code",
      "source": [
        "#one hot encoding for the categorical variables (that don't already have 0s and 1s)\n",
        "data = pd.get_dummies(data, columns=['gender'], prefix=['gender'])\n",
        "data = pd.get_dummies(data, columns=['ever_married'], prefix=['ever_married'])\n",
        "data = pd.get_dummies(data, columns=['work_type'], prefix=['work_type'])\n",
        "data = pd.get_dummies(data, columns=['Residence_type'], prefix=['Residence_type'])\n",
        "data = pd.get_dummies(data, columns=['smoking_status'], prefix=['smoking_status'])"
      ],
      "metadata": {
        "id": "yAO9Db4TV2Rg"
      },
      "execution_count": 7,
      "outputs": []
    },
    {
      "cell_type": "code",
      "source": [
        "data.head()"
      ],
      "metadata": {
        "colab": {
          "base_uri": "https://localhost:8080/",
          "height": 273
        },
        "id": "nlZ-GAySWvRT",
        "outputId": "b95d0ff6-8273-4ed4-d3f0-9e9692441faa"
      },
      "execution_count": 8,
      "outputs": [
        {
          "output_type": "execute_result",
          "data": {
            "text/plain": [
              "        id   age  hypertension  heart_disease  avg_glucose_level   bmi  \\\n",
              "251  30468  58.0             1              0              87.96  39.2   \n",
              "252  16523   8.0             0              0             110.89  17.6   \n",
              "253  56543  70.0             0              0              69.04  35.9   \n",
              "255  32257  47.0             0              0             210.95  50.1   \n",
              "259  28674  74.0             1              0             205.84  54.6   \n",
              "\n",
              "     stroke  gender_Female  gender_Male  ever_married_No  ...  \\\n",
              "251       0              0            1                0  ...   \n",
              "252       0              1            0                1  ...   \n",
              "253       0              1            0                0  ...   \n",
              "255       0              1            0                0  ...   \n",
              "259       0              1            0                0  ...   \n",
              "\n",
              "     work_type_Never_worked  work_type_Private  work_type_Self-employed  \\\n",
              "251                       0                  1                        0   \n",
              "252                       0                  1                        0   \n",
              "253                       0                  1                        0   \n",
              "255                       0                  1                        0   \n",
              "259                       0                  0                        1   \n",
              "\n",
              "     work_type_children  Residence_type_Rural  Residence_type_Urban  \\\n",
              "251                   0                     0                     1   \n",
              "252                   0                     0                     1   \n",
              "253                   0                     1                     0   \n",
              "255                   0                     0                     1   \n",
              "259                   0                     0                     1   \n",
              "\n",
              "     smoking_status_Unknown  smoking_status_formerly smoked  \\\n",
              "251                       0                               0   \n",
              "252                       1                               0   \n",
              "253                       0                               1   \n",
              "255                       1                               0   \n",
              "259                       0                               0   \n",
              "\n",
              "     smoking_status_never smoked  smoking_status_smokes  \n",
              "251                            1                      0  \n",
              "252                            0                      0  \n",
              "253                            0                      0  \n",
              "255                            0                      0  \n",
              "259                            1                      0  \n",
              "\n",
              "[5 rows x 22 columns]"
            ],
            "text/html": [
              "\n",
              "  <div id=\"df-e90a1f61-784d-4058-90df-ef552e9f37a1\" class=\"colab-df-container\">\n",
              "    <div>\n",
              "<style scoped>\n",
              "    .dataframe tbody tr th:only-of-type {\n",
              "        vertical-align: middle;\n",
              "    }\n",
              "\n",
              "    .dataframe tbody tr th {\n",
              "        vertical-align: top;\n",
              "    }\n",
              "\n",
              "    .dataframe thead th {\n",
              "        text-align: right;\n",
              "    }\n",
              "</style>\n",
              "<table border=\"1\" class=\"dataframe\">\n",
              "  <thead>\n",
              "    <tr style=\"text-align: right;\">\n",
              "      <th></th>\n",
              "      <th>id</th>\n",
              "      <th>age</th>\n",
              "      <th>hypertension</th>\n",
              "      <th>heart_disease</th>\n",
              "      <th>avg_glucose_level</th>\n",
              "      <th>bmi</th>\n",
              "      <th>stroke</th>\n",
              "      <th>gender_Female</th>\n",
              "      <th>gender_Male</th>\n",
              "      <th>ever_married_No</th>\n",
              "      <th>...</th>\n",
              "      <th>work_type_Never_worked</th>\n",
              "      <th>work_type_Private</th>\n",
              "      <th>work_type_Self-employed</th>\n",
              "      <th>work_type_children</th>\n",
              "      <th>Residence_type_Rural</th>\n",
              "      <th>Residence_type_Urban</th>\n",
              "      <th>smoking_status_Unknown</th>\n",
              "      <th>smoking_status_formerly smoked</th>\n",
              "      <th>smoking_status_never smoked</th>\n",
              "      <th>smoking_status_smokes</th>\n",
              "    </tr>\n",
              "  </thead>\n",
              "  <tbody>\n",
              "    <tr>\n",
              "      <th>251</th>\n",
              "      <td>30468</td>\n",
              "      <td>58.0</td>\n",
              "      <td>1</td>\n",
              "      <td>0</td>\n",
              "      <td>87.96</td>\n",
              "      <td>39.2</td>\n",
              "      <td>0</td>\n",
              "      <td>0</td>\n",
              "      <td>1</td>\n",
              "      <td>0</td>\n",
              "      <td>...</td>\n",
              "      <td>0</td>\n",
              "      <td>1</td>\n",
              "      <td>0</td>\n",
              "      <td>0</td>\n",
              "      <td>0</td>\n",
              "      <td>1</td>\n",
              "      <td>0</td>\n",
              "      <td>0</td>\n",
              "      <td>1</td>\n",
              "      <td>0</td>\n",
              "    </tr>\n",
              "    <tr>\n",
              "      <th>252</th>\n",
              "      <td>16523</td>\n",
              "      <td>8.0</td>\n",
              "      <td>0</td>\n",
              "      <td>0</td>\n",
              "      <td>110.89</td>\n",
              "      <td>17.6</td>\n",
              "      <td>0</td>\n",
              "      <td>1</td>\n",
              "      <td>0</td>\n",
              "      <td>1</td>\n",
              "      <td>...</td>\n",
              "      <td>0</td>\n",
              "      <td>1</td>\n",
              "      <td>0</td>\n",
              "      <td>0</td>\n",
              "      <td>0</td>\n",
              "      <td>1</td>\n",
              "      <td>1</td>\n",
              "      <td>0</td>\n",
              "      <td>0</td>\n",
              "      <td>0</td>\n",
              "    </tr>\n",
              "    <tr>\n",
              "      <th>253</th>\n",
              "      <td>56543</td>\n",
              "      <td>70.0</td>\n",
              "      <td>0</td>\n",
              "      <td>0</td>\n",
              "      <td>69.04</td>\n",
              "      <td>35.9</td>\n",
              "      <td>0</td>\n",
              "      <td>1</td>\n",
              "      <td>0</td>\n",
              "      <td>0</td>\n",
              "      <td>...</td>\n",
              "      <td>0</td>\n",
              "      <td>1</td>\n",
              "      <td>0</td>\n",
              "      <td>0</td>\n",
              "      <td>1</td>\n",
              "      <td>0</td>\n",
              "      <td>0</td>\n",
              "      <td>1</td>\n",
              "      <td>0</td>\n",
              "      <td>0</td>\n",
              "    </tr>\n",
              "    <tr>\n",
              "      <th>255</th>\n",
              "      <td>32257</td>\n",
              "      <td>47.0</td>\n",
              "      <td>0</td>\n",
              "      <td>0</td>\n",
              "      <td>210.95</td>\n",
              "      <td>50.1</td>\n",
              "      <td>0</td>\n",
              "      <td>1</td>\n",
              "      <td>0</td>\n",
              "      <td>0</td>\n",
              "      <td>...</td>\n",
              "      <td>0</td>\n",
              "      <td>1</td>\n",
              "      <td>0</td>\n",
              "      <td>0</td>\n",
              "      <td>0</td>\n",
              "      <td>1</td>\n",
              "      <td>1</td>\n",
              "      <td>0</td>\n",
              "      <td>0</td>\n",
              "      <td>0</td>\n",
              "    </tr>\n",
              "    <tr>\n",
              "      <th>259</th>\n",
              "      <td>28674</td>\n",
              "      <td>74.0</td>\n",
              "      <td>1</td>\n",
              "      <td>0</td>\n",
              "      <td>205.84</td>\n",
              "      <td>54.6</td>\n",
              "      <td>0</td>\n",
              "      <td>1</td>\n",
              "      <td>0</td>\n",
              "      <td>0</td>\n",
              "      <td>...</td>\n",
              "      <td>0</td>\n",
              "      <td>0</td>\n",
              "      <td>1</td>\n",
              "      <td>0</td>\n",
              "      <td>0</td>\n",
              "      <td>1</td>\n",
              "      <td>0</td>\n",
              "      <td>0</td>\n",
              "      <td>1</td>\n",
              "      <td>0</td>\n",
              "    </tr>\n",
              "  </tbody>\n",
              "</table>\n",
              "<p>5 rows × 22 columns</p>\n",
              "</div>\n",
              "    <div class=\"colab-df-buttons\">\n",
              "\n",
              "  <div class=\"colab-df-container\">\n",
              "    <button class=\"colab-df-convert\" onclick=\"convertToInteractive('df-e90a1f61-784d-4058-90df-ef552e9f37a1')\"\n",
              "            title=\"Convert this dataframe to an interactive table.\"\n",
              "            style=\"display:none;\">\n",
              "\n",
              "  <svg xmlns=\"http://www.w3.org/2000/svg\" height=\"24px\" viewBox=\"0 -960 960 960\">\n",
              "    <path d=\"M120-120v-720h720v720H120Zm60-500h600v-160H180v160Zm220 220h160v-160H400v160Zm0 220h160v-160H400v160ZM180-400h160v-160H180v160Zm440 0h160v-160H620v160ZM180-180h160v-160H180v160Zm440 0h160v-160H620v160Z\"/>\n",
              "  </svg>\n",
              "    </button>\n",
              "\n",
              "  <style>\n",
              "    .colab-df-container {\n",
              "      display:flex;\n",
              "      gap: 12px;\n",
              "    }\n",
              "\n",
              "    .colab-df-convert {\n",
              "      background-color: #E8F0FE;\n",
              "      border: none;\n",
              "      border-radius: 50%;\n",
              "      cursor: pointer;\n",
              "      display: none;\n",
              "      fill: #1967D2;\n",
              "      height: 32px;\n",
              "      padding: 0 0 0 0;\n",
              "      width: 32px;\n",
              "    }\n",
              "\n",
              "    .colab-df-convert:hover {\n",
              "      background-color: #E2EBFA;\n",
              "      box-shadow: 0px 1px 2px rgba(60, 64, 67, 0.3), 0px 1px 3px 1px rgba(60, 64, 67, 0.15);\n",
              "      fill: #174EA6;\n",
              "    }\n",
              "\n",
              "    .colab-df-buttons div {\n",
              "      margin-bottom: 4px;\n",
              "    }\n",
              "\n",
              "    [theme=dark] .colab-df-convert {\n",
              "      background-color: #3B4455;\n",
              "      fill: #D2E3FC;\n",
              "    }\n",
              "\n",
              "    [theme=dark] .colab-df-convert:hover {\n",
              "      background-color: #434B5C;\n",
              "      box-shadow: 0px 1px 3px 1px rgba(0, 0, 0, 0.15);\n",
              "      filter: drop-shadow(0px 1px 2px rgba(0, 0, 0, 0.3));\n",
              "      fill: #FFFFFF;\n",
              "    }\n",
              "  </style>\n",
              "\n",
              "    <script>\n",
              "      const buttonEl =\n",
              "        document.querySelector('#df-e90a1f61-784d-4058-90df-ef552e9f37a1 button.colab-df-convert');\n",
              "      buttonEl.style.display =\n",
              "        google.colab.kernel.accessAllowed ? 'block' : 'none';\n",
              "\n",
              "      async function convertToInteractive(key) {\n",
              "        const element = document.querySelector('#df-e90a1f61-784d-4058-90df-ef552e9f37a1');\n",
              "        const dataTable =\n",
              "          await google.colab.kernel.invokeFunction('convertToInteractive',\n",
              "                                                    [key], {});\n",
              "        if (!dataTable) return;\n",
              "\n",
              "        const docLinkHtml = 'Like what you see? Visit the ' +\n",
              "          '<a target=\"_blank\" href=https://colab.research.google.com/notebooks/data_table.ipynb>data table notebook</a>'\n",
              "          + ' to learn more about interactive tables.';\n",
              "        element.innerHTML = '';\n",
              "        dataTable['output_type'] = 'display_data';\n",
              "        await google.colab.output.renderOutput(dataTable, element);\n",
              "        const docLink = document.createElement('div');\n",
              "        docLink.innerHTML = docLinkHtml;\n",
              "        element.appendChild(docLink);\n",
              "      }\n",
              "    </script>\n",
              "  </div>\n",
              "\n",
              "\n",
              "<div id=\"df-b0ea4aef-e8ec-4bd2-a3d6-fb10c0239305\">\n",
              "  <button class=\"colab-df-quickchart\" onclick=\"quickchart('df-b0ea4aef-e8ec-4bd2-a3d6-fb10c0239305')\"\n",
              "            title=\"Suggest charts\"\n",
              "            style=\"display:none;\">\n",
              "\n",
              "<svg xmlns=\"http://www.w3.org/2000/svg\" height=\"24px\"viewBox=\"0 0 24 24\"\n",
              "     width=\"24px\">\n",
              "    <g>\n",
              "        <path d=\"M19 3H5c-1.1 0-2 .9-2 2v14c0 1.1.9 2 2 2h14c1.1 0 2-.9 2-2V5c0-1.1-.9-2-2-2zM9 17H7v-7h2v7zm4 0h-2V7h2v10zm4 0h-2v-4h2v4z\"/>\n",
              "    </g>\n",
              "</svg>\n",
              "  </button>\n",
              "\n",
              "<style>\n",
              "  .colab-df-quickchart {\n",
              "      --bg-color: #E8F0FE;\n",
              "      --fill-color: #1967D2;\n",
              "      --hover-bg-color: #E2EBFA;\n",
              "      --hover-fill-color: #174EA6;\n",
              "      --disabled-fill-color: #AAA;\n",
              "      --disabled-bg-color: #DDD;\n",
              "  }\n",
              "\n",
              "  [theme=dark] .colab-df-quickchart {\n",
              "      --bg-color: #3B4455;\n",
              "      --fill-color: #D2E3FC;\n",
              "      --hover-bg-color: #434B5C;\n",
              "      --hover-fill-color: #FFFFFF;\n",
              "      --disabled-bg-color: #3B4455;\n",
              "      --disabled-fill-color: #666;\n",
              "  }\n",
              "\n",
              "  .colab-df-quickchart {\n",
              "    background-color: var(--bg-color);\n",
              "    border: none;\n",
              "    border-radius: 50%;\n",
              "    cursor: pointer;\n",
              "    display: none;\n",
              "    fill: var(--fill-color);\n",
              "    height: 32px;\n",
              "    padding: 0;\n",
              "    width: 32px;\n",
              "  }\n",
              "\n",
              "  .colab-df-quickchart:hover {\n",
              "    background-color: var(--hover-bg-color);\n",
              "    box-shadow: 0 1px 2px rgba(60, 64, 67, 0.3), 0 1px 3px 1px rgba(60, 64, 67, 0.15);\n",
              "    fill: var(--button-hover-fill-color);\n",
              "  }\n",
              "\n",
              "  .colab-df-quickchart-complete:disabled,\n",
              "  .colab-df-quickchart-complete:disabled:hover {\n",
              "    background-color: var(--disabled-bg-color);\n",
              "    fill: var(--disabled-fill-color);\n",
              "    box-shadow: none;\n",
              "  }\n",
              "\n",
              "  .colab-df-spinner {\n",
              "    border: 2px solid var(--fill-color);\n",
              "    border-color: transparent;\n",
              "    border-bottom-color: var(--fill-color);\n",
              "    animation:\n",
              "      spin 1s steps(1) infinite;\n",
              "  }\n",
              "\n",
              "  @keyframes spin {\n",
              "    0% {\n",
              "      border-color: transparent;\n",
              "      border-bottom-color: var(--fill-color);\n",
              "      border-left-color: var(--fill-color);\n",
              "    }\n",
              "    20% {\n",
              "      border-color: transparent;\n",
              "      border-left-color: var(--fill-color);\n",
              "      border-top-color: var(--fill-color);\n",
              "    }\n",
              "    30% {\n",
              "      border-color: transparent;\n",
              "      border-left-color: var(--fill-color);\n",
              "      border-top-color: var(--fill-color);\n",
              "      border-right-color: var(--fill-color);\n",
              "    }\n",
              "    40% {\n",
              "      border-color: transparent;\n",
              "      border-right-color: var(--fill-color);\n",
              "      border-top-color: var(--fill-color);\n",
              "    }\n",
              "    60% {\n",
              "      border-color: transparent;\n",
              "      border-right-color: var(--fill-color);\n",
              "    }\n",
              "    80% {\n",
              "      border-color: transparent;\n",
              "      border-right-color: var(--fill-color);\n",
              "      border-bottom-color: var(--fill-color);\n",
              "    }\n",
              "    90% {\n",
              "      border-color: transparent;\n",
              "      border-bottom-color: var(--fill-color);\n",
              "    }\n",
              "  }\n",
              "</style>\n",
              "\n",
              "  <script>\n",
              "    async function quickchart(key) {\n",
              "      const quickchartButtonEl =\n",
              "        document.querySelector('#' + key + ' button');\n",
              "      quickchartButtonEl.disabled = true;  // To prevent multiple clicks.\n",
              "      quickchartButtonEl.classList.add('colab-df-spinner');\n",
              "      try {\n",
              "        const charts = await google.colab.kernel.invokeFunction(\n",
              "            'suggestCharts', [key], {});\n",
              "      } catch (error) {\n",
              "        console.error('Error during call to suggestCharts:', error);\n",
              "      }\n",
              "      quickchartButtonEl.classList.remove('colab-df-spinner');\n",
              "      quickchartButtonEl.classList.add('colab-df-quickchart-complete');\n",
              "    }\n",
              "    (() => {\n",
              "      let quickchartButtonEl =\n",
              "        document.querySelector('#df-b0ea4aef-e8ec-4bd2-a3d6-fb10c0239305 button');\n",
              "      quickchartButtonEl.style.display =\n",
              "        google.colab.kernel.accessAllowed ? 'block' : 'none';\n",
              "    })();\n",
              "  </script>\n",
              "</div>\n",
              "    </div>\n",
              "  </div>\n"
            ]
          },
          "metadata": {},
          "execution_count": 8
        }
      ]
    },
    {
      "cell_type": "markdown",
      "source": [
        "Handling outliers in the numeric variables."
      ],
      "metadata": {
        "id": "Yv0HAw-BhiPk"
      }
    },
    {
      "cell_type": "code",
      "source": [
        "#check for outliers in the numeric variables\n",
        "data[\"avg_glucose_level\"].plot.box() #yes there are many outliers"
      ],
      "metadata": {
        "colab": {
          "base_uri": "https://localhost:8080/",
          "height": 447
        },
        "id": "b41sS9O-YGFD",
        "outputId": "dbbcee0a-f473-4b26-85b2-5801baad78c5"
      },
      "execution_count": 9,
      "outputs": [
        {
          "output_type": "execute_result",
          "data": {
            "text/plain": [
              "<Axes: >"
            ]
          },
          "metadata": {},
          "execution_count": 9
        },
        {
          "output_type": "display_data",
          "data": {
            "text/plain": [
              "<Figure size 640x480 with 1 Axes>"
            ],
            "image/png": "[encoded data removed]"
          },
          "metadata": {}
        }
      ]
    },
    {
      "cell_type": "code",
      "source": [
        "data[\"bmi\"].plot.box() #htere are also many outliers for bmi"
      ],
      "metadata": {
        "colab": {
          "base_uri": "https://localhost:8080/",
          "height": 447
        },
        "id": "5p0jfQYGYdkt",
        "outputId": "8b615e62-272f-462e-8f0a-ad7280664d1c"
      },
      "execution_count": 22,
      "outputs": [
        {
          "output_type": "execute_result",
          "data": {
            "text/plain": [
              "<Axes: >"
            ]
          },
          "metadata": {},
          "execution_count": 22
        },
        {
          "output_type": "display_data",
          "data": {
            "text/plain": [
              "<Figure size 640x480 with 1 Axes>"
            ],
            "image/png": "[encoded data removed]"
          },
          "metadata": {}
        }
      ]
    },
    {
      "cell_type": "code",
      "source": [
        "\n",
        "data[\"age\"].plot.box() #there does not appear to be outliers for age variable"
      ],
      "metadata": {
        "colab": {
          "base_uri": "https://localhost:8080/",
          "height": 447
        },
        "id": "bwoqI8X8Z0y-",
        "outputId": "f009a929-b547-477f-932c-4c67fec133af"
      },
      "execution_count": 11,
      "outputs": [
        {
          "output_type": "execute_result",
          "data": {
            "text/plain": [
              "<Axes: >"
            ]
          },
          "metadata": {},
          "execution_count": 11
        },
        {
          "output_type": "display_data",
          "data": {
            "text/plain": [
              "<Figure size 640x480 with 1 Axes>"
            ],
            "image/png": "[encoded data removed]"
          },
          "metadata": {}
        }
      ]
    },
    {
      "cell_type": "code",
      "source": [
        "#windsorize the avg_glucose_level and bmi variables\n",
        "\n",
        "## Function to compute whiskers:\n",
        "import seaborn as sns\n",
        "x = data[[\"avg_glucose_level\"]]\n",
        "def windsorize(x):\n",
        "    # Compute IQR and 1st,3rd quantiles\n",
        "    pct25, pct75 = np.percentile(x,[25,75])\n",
        "    iqr = pct75 - pct25\n",
        "    # Compute whiskers:\n",
        "    lower_whisker = pct25 - iqr*1.5\n",
        "    upper_whisker = pct75 + iqr*1.5\n",
        "    # Windsorize x:\n",
        "    x_windsor = x\n",
        "    x_windsor[ x < lower_whisker ] = lower_whisker\n",
        "    x_windsor[ x > upper_whisker ] = upper_whisker\n",
        "    return(x_windsor)\n",
        "\n",
        "sns.boxplot( windsorize(x))"
      ],
      "metadata": {
        "colab": {
          "base_uri": "https://localhost:8080/",
          "height": 829
        },
        "id": "EgXmbBYxYjLk",
        "outputId": "63cc470e-8fcd-4cbe-e6e2-d747311c391c"
      },
      "execution_count": 12,
      "outputs": [
        {
          "output_type": "stream",
          "name": "stderr",
          "text": [
            "<ipython-input-12-217acff727e7>:15: SettingWithCopyWarning: \n",
            "A value is trying to be set on a copy of a slice from a DataFrame.\n",
            "Try using .loc[row_indexer,col_indexer] = value instead\n",
            "\n",
            "See the caveats in the documentation: https://pandas.pydata.org/pandas-docs/stable/user_guide/indexing.html#returning-a-view-versus-a-copy\n",
            "  x_windsor[ x < lower_whisker ] = lower_whisker\n",
            "<ipython-input-12-217acff727e7>:15: SettingWithCopyWarning: \n",
            "A value is trying to be set on a copy of a slice from a DataFrame\n",
            "\n",
            "See the caveats in the documentation: https://pandas.pydata.org/pandas-docs/stable/user_guide/indexing.html#returning-a-view-versus-a-copy\n",
            "  x_windsor[ x < lower_whisker ] = lower_whisker\n",
            "<ipython-input-12-217acff727e7>:16: SettingWithCopyWarning: \n",
            "A value is trying to be set on a copy of a slice from a DataFrame.\n",
            "Try using .loc[row_indexer,col_indexer] = value instead\n",
            "\n",
            "See the caveats in the documentation: https://pandas.pydata.org/pandas-docs/stable/user_guide/indexing.html#returning-a-view-versus-a-copy\n",
            "  x_windsor[ x > upper_whisker ] = upper_whisker\n",
            "<ipython-input-12-217acff727e7>:16: SettingWithCopyWarning: \n",
            "A value is trying to be set on a copy of a slice from a DataFrame\n",
            "\n",
            "See the caveats in the documentation: https://pandas.pydata.org/pandas-docs/stable/user_guide/indexing.html#returning-a-view-versus-a-copy\n",
            "  x_windsor[ x > upper_whisker ] = upper_whisker\n"
          ]
        },
        {
          "output_type": "execute_result",
          "data": {
            "text/plain": [
              "<Axes: >"
            ]
          },
          "metadata": {},
          "execution_count": 12
        },
        {
          "output_type": "display_data",
          "data": {
            "text/plain": [
              "<Figure size 640x480 with 1 Axes>"
            ],
            "image/png": "[encoded data removed]"
          },
          "metadata": {}
        }
      ]
    },
    {
      "cell_type": "code",
      "source": [
        "x = data[[\"bmi\"]]\n",
        "def windsorize(x):\n",
        "    # Compute IQR and 1st,3rd quantiles\n",
        "    pct25, pct75 = np.percentile(x,[25,75])\n",
        "    iqr = pct75 - pct25\n",
        "    # Compute whiskers:\n",
        "    lower_whisker = pct25 - iqr*1.5\n",
        "    upper_whisker = pct75 + iqr*1.5\n",
        "    # Windsorize x:\n",
        "    x_windsor = x\n",
        "    x_windsor[ x < lower_whisker ] = lower_whisker\n",
        "    x_windsor[ x > upper_whisker ] = upper_whisker\n",
        "    return(x_windsor)\n",
        "\n",
        "sns.boxplot( windsorize(x))"
      ],
      "metadata": {
        "colab": {
          "base_uri": "https://localhost:8080/",
          "height": 829
        },
        "id": "Ocm7pCJiZJQu",
        "outputId": "b7967a8a-9203-4cde-9c24-c9a65045cca5"
      },
      "execution_count": 13,
      "outputs": [
        {
          "output_type": "stream",
          "name": "stderr",
          "text": [
            "<ipython-input-13-0a1747a27430>:11: SettingWithCopyWarning: \n",
            "A value is trying to be set on a copy of a slice from a DataFrame.\n",
            "Try using .loc[row_indexer,col_indexer] = value instead\n",
            "\n",
            "See the caveats in the documentation: https://pandas.pydata.org/pandas-docs/stable/user_guide/indexing.html#returning-a-view-versus-a-copy\n",
            "  x_windsor[ x < lower_whisker ] = lower_whisker\n",
            "<ipython-input-13-0a1747a27430>:11: SettingWithCopyWarning: \n",
            "A value is trying to be set on a copy of a slice from a DataFrame\n",
            "\n",
            "See the caveats in the documentation: https://pandas.pydata.org/pandas-docs/stable/user_guide/indexing.html#returning-a-view-versus-a-copy\n",
            "  x_windsor[ x < lower_whisker ] = lower_whisker\n",
            "<ipython-input-13-0a1747a27430>:12: SettingWithCopyWarning: \n",
            "A value is trying to be set on a copy of a slice from a DataFrame.\n",
            "Try using .loc[row_indexer,col_indexer] = value instead\n",
            "\n",
            "See the caveats in the documentation: https://pandas.pydata.org/pandas-docs/stable/user_guide/indexing.html#returning-a-view-versus-a-copy\n",
            "  x_windsor[ x > upper_whisker ] = upper_whisker\n",
            "<ipython-input-13-0a1747a27430>:12: SettingWithCopyWarning: \n",
            "A value is trying to be set on a copy of a slice from a DataFrame\n",
            "\n",
            "See the caveats in the documentation: https://pandas.pydata.org/pandas-docs/stable/user_guide/indexing.html#returning-a-view-versus-a-copy\n",
            "  x_windsor[ x > upper_whisker ] = upper_whisker\n"
          ]
        },
        {
          "output_type": "execute_result",
          "data": {
            "text/plain": [
              "<Axes: >"
            ]
          },
          "metadata": {},
          "execution_count": 13
        },
        {
          "output_type": "display_data",
          "data": {
            "text/plain": [
              "<Figure size 640x480 with 1 Axes>"
            ],
            "image/png": "[encoded data removed]"
          },
          "metadata": {}
        }
      ]
    },
    {
      "cell_type": "code",
      "source": [
        "#windsorizing didn't get rid of outliers for 'bmi', so I dropped outliers 46 and above\n",
        "data = data.loc[data['bmi']<46,:]\n",
        "data[\"bmi\"].plot.box()"
      ],
      "metadata": {
        "colab": {
          "base_uri": "https://localhost:8080/",
          "height": 447
        },
        "id": "_0o3UDKFtJKz",
        "outputId": "024b0f77-46d2-4695-9ea0-05f2bacf96a6"
      },
      "execution_count": 25,
      "outputs": [
        {
          "output_type": "execute_result",
          "data": {
            "text/plain": [
              "<Axes: >"
            ]
          },
          "metadata": {},
          "execution_count": 25
        },
        {
          "output_type": "display_data",
          "data": {
            "text/plain": [
              "<Figure size 640x480 with 1 Axes>"
            ],
            "image/png": "[encoded data removed]"
          },
          "metadata": {}
        }
      ]
    },
    {
      "cell_type": "markdown",
      "source": [
        "Checking distributions of our numeric variables and if any are badly scaled (we should transform them)."
      ],
      "metadata": {
        "id": "ACPxUUh1cCgH"
      }
    },
    {
      "cell_type": "code",
      "source": [
        "#Age histogram - appears approx. normal\n",
        "sns.histplot(data[\"age\"], bins=10, color='blue', kde=True)"
      ],
      "metadata": {
        "colab": {
          "base_uri": "https://localhost:8080/",
          "height": 466
        },
        "id": "6_cIsCATbfWt",
        "outputId": "beeb3a34-eccc-4662-ee95-35c56f85eb8b"
      },
      "execution_count": 81,
      "outputs": [
        {
          "output_type": "execute_result",
          "data": {
            "text/plain": [
              "<Axes: xlabel='age', ylabel='Count'>"
            ]
          },
          "metadata": {},
          "execution_count": 81
        },
        {
          "output_type": "display_data",
          "data": {
            "text/plain": [
              "<Figure size 640x480 with 1 Axes>"
            ],
            "image/png": "[encoded data removed]"
          },
          "metadata": {}
        }
      ]
    },
    {
      "cell_type": "code",
      "source": [
        "#average glucose level histogram - heavily skewed right, need to transform\n",
        "sns.histplot(data[\"avg_glucose_level\"], bins=10, color='blue', kde=True)"
      ],
      "metadata": {
        "colab": {
          "base_uri": "https://localhost:8080/",
          "height": 467
        },
        "id": "3onundRtbsuL",
        "outputId": "4c7e56d2-f5a9-47c7-b82d-ff7d745404e4"
      },
      "execution_count": 82,
      "outputs": [
        {
          "output_type": "execute_result",
          "data": {
            "text/plain": [
              "<Axes: xlabel='avg_glucose_level', ylabel='Count'>"
            ]
          },
          "metadata": {},
          "execution_count": 82
        },
        {
          "output_type": "display_data",
          "data": {
            "text/plain": [
              "<Figure size 640x480 with 1 Axes>"
            ],
            "image/png": "[encoded data removed]"
          },
          "metadata": {}
        }
      ]
    },
    {
      "cell_type": "code",
      "source": [
        "#log transform of avg_glucose_level variable\n",
        "data['log_avg_glucose_level'] = np.log(data['avg_glucose_level'])\n",
        "sns.histplot(data[\"log_avg_glucose_level\"], bins=10, color='blue', kde=True)\n",
        "\n",
        "#still a little skewed, but looks a lot better when log transformed"
      ],
      "metadata": {
        "colab": {
          "base_uri": "https://localhost:8080/",
          "height": 467
        },
        "id": "RRtunV7dd5Up",
        "outputId": "ae576fa6-3ea6-4c07-cda0-d19974a4b30d"
      },
      "execution_count": 83,
      "outputs": [
        {
          "output_type": "execute_result",
          "data": {
            "text/plain": [
              "<Axes: xlabel='log_avg_glucose_level', ylabel='Count'>"
            ]
          },
          "metadata": {},
          "execution_count": 83
        },
        {
          "output_type": "display_data",
          "data": {
            "text/plain": [
              "<Figure size 640x480 with 1 Axes>"
            ],
            "image/png": "[encoded data removed]"
          },
          "metadata": {}
        }
      ]
    },
    {
      "cell_type": "code",
      "source": [
        "#bmi histogram - appears approx. normal\n",
        "sns.histplot(data[\"bmi\"], bins=10, color='blue', kde=True)"
      ],
      "metadata": {
        "colab": {
          "base_uri": "https://localhost:8080/",
          "height": 471
        },
        "id": "ePGkYq4Abuky",
        "outputId": "7f0ae661-7743-49b2-c976-5845dc66f232"
      },
      "execution_count": 84,
      "outputs": [
        {
          "output_type": "execute_result",
          "data": {
            "text/plain": [
              "<Axes: xlabel='bmi', ylabel='Count'>"
            ]
          },
          "metadata": {},
          "execution_count": 84
        },
        {
          "output_type": "display_data",
          "data": {
            "text/plain": [
              "<Figure size 640x480 with 1 Axes>"
            ],
            "image/png": "[encoded data removed]"
          },
          "metadata": {}
        }
      ]
    },
    {
      "cell_type": "markdown",
      "source": [
        "Checking for missing values."
      ],
      "metadata": {
        "id": "OhpBD4tMhtZa"
      }
    },
    {
      "cell_type": "code",
      "source": [
        "#Check for any missing values\n",
        "missing_values = data.isna()\n",
        "# Count missing values in each column\n",
        "missing_count = missing_values.sum()\n",
        "print(missing_count)"
      ],
      "metadata": {
        "colab": {
          "base_uri": "https://localhost:8080/"
        },
        "id": "2Ob3z6AmevVm",
        "outputId": "f4d42e34-4016-44c6-b5c2-062c1e200215"
      },
      "execution_count": 85,
      "outputs": [
        {
          "output_type": "stream",
          "name": "stdout",
          "text": [
            "Unnamed: 0                         0\n",
            "id                                 0\n",
            "age                                0\n",
            "hypertension                       0\n",
            "heart_disease                      0\n",
            "avg_glucose_level                  0\n",
            "bmi                               42\n",
            "stroke                             0\n",
            "gender_Female                      0\n",
            "gender_Male                        0\n",
            "ever_married_No                    0\n",
            "ever_married_Yes                   0\n",
            "work_type_Govt_job                 0\n",
            "work_type_Never_worked             0\n",
            "work_type_Private                  0\n",
            "work_type_Self-employed            0\n",
            "work_type_children                 0\n",
            "Residence_type_Rural               0\n",
            "Residence_type_Urban               0\n",
            "smoking_status_Unknown             0\n",
            "smoking_status_formerly smoked     0\n",
            "smoking_status_never smoked        0\n",
            "smoking_status_smokes              0\n",
            "log_avg_glucose_level              0\n",
            "dtype: int64\n"
          ]
        }
      ]
    },
    {
      "cell_type": "markdown",
      "source": [
        "Handle the missing values in the 'bmi' column."
      ],
      "metadata": {
        "id": "1WWdsTxygvYD"
      }
    },
    {
      "cell_type": "code",
      "source": [
        "#based on best approach for handling missing data for linear models (model evaluation notes)\n",
        "\n",
        "# Step 1: Create a missing dummy variable for 'bmi' column\n",
        "data['bmi_NA'] = data['bmi'].isnull().astype(int)  # 1 if missing, 0 if not missing\n",
        "\n",
        "# Step 2: Replace missing values in 'bmi' column with zeros\n",
        "data['bmi'].fillna(0, inplace=True)\n",
        "print(data)"
      ],
      "metadata": {
        "colab": {
          "base_uri": "https://localhost:8080/"
        },
        "id": "v9glQvD4fdR6",
        "outputId": "5fb65477-61de-4348-d151-2669fb2c53fe"
      },
      "execution_count": 86,
      "outputs": [
        {
          "output_type": "stream",
          "name": "stdout",
          "text": [
            "      Unnamed: 0     id   age  hypertension  heart_disease  avg_glucose_level  \\\n",
            "0            251  30468  58.0             1              0              87.96   \n",
            "1            252  16523   8.0             0              0             110.89   \n",
            "2            253  56543  70.0             0              0              69.04   \n",
            "3            255  32257  47.0             0              0             210.95   \n",
            "4            259  28674  74.0             1              0             205.84   \n",
            "...          ...    ...   ...           ...            ...                ...   \n",
            "1018         228  39105  74.0             0              0              60.98   \n",
            "1019         233  68356  73.0             0              0              70.94   \n",
            "1020         237  28493  57.0             0              0              86.30   \n",
            "1021         247  27153  75.0             0              0              78.80   \n",
            "1022         248  34060  71.0             1              0              87.80   \n",
            "\n",
            "       bmi  stroke  gender_Female  gender_Male  ...  work_type_Self-employed  \\\n",
            "0     39.2       0              0            1  ...                        0   \n",
            "1     17.6       0              1            0  ...                        0   \n",
            "2     35.9       0              1            0  ...                        0   \n",
            "3     50.1       0              1            0  ...                        0   \n",
            "4     54.6       0              1            0  ...                        1   \n",
            "...    ...     ...            ...          ...  ...                      ...   \n",
            "1018   0.0       1              0            1  ...                        1   \n",
            "1019  34.4       1              1            0  ...                        1   \n",
            "1020  31.7       1              0            1  ...                        0   \n",
            "1021  29.3       1              1            0  ...                        1   \n",
            "1022   0.0       1              0            1  ...                        1   \n",
            "\n",
            "      work_type_children  Residence_type_Rural  Residence_type_Urban  \\\n",
            "0                      0                     0                     1   \n",
            "1                      0                     0                     1   \n",
            "2                      0                     1                     0   \n",
            "3                      0                     0                     1   \n",
            "4                      0                     0                     1   \n",
            "...                  ...                   ...                   ...   \n",
            "1018                   0                     1                     0   \n",
            "1019                   0                     0                     1   \n",
            "1020                   0                     0                     1   \n",
            "1021                   0                     1                     0   \n",
            "1022                   0                     1                     0   \n",
            "\n",
            "      smoking_status_Unknown  smoking_status_formerly smoked  \\\n",
            "0                          0                               0   \n",
            "1                          1                               0   \n",
            "2                          0                               1   \n",
            "3                          1                               0   \n",
            "4                          0                               0   \n",
            "...                      ...                             ...   \n",
            "1018                       0                               0   \n",
            "1019                       0                               0   \n",
            "1020                       1                               0   \n",
            "1021                       0                               1   \n",
            "1022                       1                               0   \n",
            "\n",
            "      smoking_status_never smoked  smoking_status_smokes  \\\n",
            "0                               1                      0   \n",
            "1                               0                      0   \n",
            "2                               0                      0   \n",
            "3                               0                      0   \n",
            "4                               1                      0   \n",
            "...                           ...                    ...   \n",
            "1018                            1                      0   \n",
            "1019                            1                      0   \n",
            "1020                            0                      0   \n",
            "1021                            0                      0   \n",
            "1022                            0                      0   \n",
            "\n",
            "      log_avg_glucose_level  bmi_NA  \n",
            "0                  4.476882       0  \n",
            "1                  4.708539       0  \n",
            "2                  4.234686       0  \n",
            "3                  5.351621       0  \n",
            "4                  5.327099       0  \n",
            "...                     ...     ...  \n",
            "1018               4.110546       1  \n",
            "1019               4.261834       0  \n",
            "1020               4.457830       0  \n",
            "1021               4.366913       0  \n",
            "1022               4.475062       1  \n",
            "\n",
            "[1023 rows x 25 columns]\n"
          ]
        }
      ]
    },
    {
      "cell_type": "code",
      "source": [
        "missing_values = data.isna()\n",
        "# Count missing values in each column\n",
        "missing_count = missing_values.sum()\n",
        "print(missing_count)\n",
        "\n",
        "#There are no missing values now"
      ],
      "metadata": {
        "colab": {
          "base_uri": "https://localhost:8080/"
        },
        "id": "y8xAL9L8gzI-",
        "outputId": "f1447d39-313c-4fbd-85d1-3e3a4d58c3d4"
      },
      "execution_count": 87,
      "outputs": [
        {
          "output_type": "stream",
          "name": "stdout",
          "text": [
            "Unnamed: 0                        0\n",
            "id                                0\n",
            "age                               0\n",
            "hypertension                      0\n",
            "heart_disease                     0\n",
            "avg_glucose_level                 0\n",
            "bmi                               0\n",
            "stroke                            0\n",
            "gender_Female                     0\n",
            "gender_Male                       0\n",
            "ever_married_No                   0\n",
            "ever_married_Yes                  0\n",
            "work_type_Govt_job                0\n",
            "work_type_Never_worked            0\n",
            "work_type_Private                 0\n",
            "work_type_Self-employed           0\n",
            "work_type_children                0\n",
            "Residence_type_Rural              0\n",
            "Residence_type_Urban              0\n",
            "smoking_status_Unknown            0\n",
            "smoking_status_formerly smoked    0\n",
            "smoking_status_never smoked       0\n",
            "smoking_status_smokes             0\n",
            "log_avg_glucose_level             0\n",
            "bmi_NA                            0\n",
            "dtype: int64\n"
          ]
        }
      ]
    },
    {
      "cell_type": "markdown",
      "source": [
        "**Challenges in reading, cleaning, and preparing the data for analysis**\n",
        "- Deciding what to do with missing values - we decided to create a dummy na column for bmi and then also convert all of the missing values to 0. The dummy column makes it clear which bmi values are missing (1) and this approach was utilized since it is generally the best approach for linear models (according to the model_evaluation notes)\n",
        "- When and how to transform badly scared variables\n",
        "  - bmi had a very slightly right skewed histogram, however, it was close enough to approx. normal that we left it\n",
        "  - average glucose level had a very skewed right histogram, and after attempting many log, sqrt, and arcsin transformations, we determined that the log transformation made the histogram appear the most normal.\n",
        "- windsorizing worked well for average glucose level variable but for bmi, this still left some outliers, so I had to just drop values >=46 for bmi.\n",
        "\n"
      ],
      "metadata": {
        "id": "SZoxAWPajjpN"
      }
    }
  ]
}